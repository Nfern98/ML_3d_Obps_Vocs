{
 "cells": [
  {
   "cell_type": "markdown",
   "metadata": {},
   "source": [
    "## Transformación"
   ]
  },
  {
   "cell_type": "code",
   "execution_count": 46,
   "metadata": {},
   "outputs": [
    {
     "name": "stdout",
     "output_type": "stream",
     "text": [
      "/home/nfernandez/unit\n"
     ]
    }
   ],
   "source": [
    "# Agregar MGLTools al PATH\n",
    "%cd /home/nfernandez/unit\n",
    "import os\n",
    "os.environ['PATH'] += ':/home/nfernandez/unit/mgltools_x86_64Linux2_1.5.7/bin'"
   ]
  },
  {
   "cell_type": "code",
   "execution_count": 47,
   "metadata": {},
   "outputs": [
    {
     "name": "stderr",
     "output_type": "stream",
     "text": [
      "Traceback (most recent call last):\n",
      "  File \"/home/nfernandez/unit/mgltools_x86_64Linux2_1.5.7/MGLToolsPckgs/AutoDockTools/Utilities24/prepare_ligand4.py\", line 185, in <module>\n",
      "    mols = Read(ligand_filename)\n",
      "  File \"/home/nfernandez/unit/mgltools_x86_64Linux2_1.5.7/MGLToolsPckgs/MolKit/__init__.py\", line 21, in Read\n",
      "    raise AssertionError , \"%s does't exist\" %filename\n",
      "AssertionError: 155.mol2 does't exist\n",
      "Traceback (most recent call last):\n",
      "  File \"/home/nfernandez/unit/mgltools_x86_64Linux2_1.5.7/MGLToolsPckgs/AutoDockTools/Utilities24/prepare_ligand4.py\", line 185, in <module>\n",
      "    mols = Read(ligand_filename)\n",
      "  File \"/home/nfernandez/unit/mgltools_x86_64Linux2_1.5.7/MGLToolsPckgs/MolKit/__init__.py\", line 21, in Read\n",
      "    raise AssertionError , \"%s does't exist\" %filename\n",
      "AssertionError: 47.mol2 does't exist\n",
      "Traceback (most recent call last):\n",
      "  File \"/home/nfernandez/unit/mgltools_x86_64Linux2_1.5.7/MGLToolsPckgs/AutoDockTools/Utilities24/prepare_ligand4.py\", line 185, in <module>\n",
      "    mols = Read(ligand_filename)\n",
      "  File \"/home/nfernandez/unit/mgltools_x86_64Linux2_1.5.7/MGLToolsPckgs/MolKit/__init__.py\", line 21, in Read\n",
      "    raise AssertionError , \"%s does't exist\" %filename\n",
      "AssertionError: 145.mol2 does't exist\n"
     ]
    },
    {
     "name": "stdout",
     "output_type": "stream",
     "text": [
      "Convertido: 155.mol2 a 155.pdbqt\n",
      "Convertido: 47.mol2 a 47.pdbqt\n",
      "Convertido: 145.mol2 a 145.pdbqt\n"
     ]
    },
    {
     "name": "stderr",
     "output_type": "stream",
     "text": [
      "Traceback (most recent call last):\n",
      "  File \"/home/nfernandez/unit/mgltools_x86_64Linux2_1.5.7/MGLToolsPckgs/AutoDockTools/Utilities24/prepare_ligand4.py\", line 185, in <module>\n",
      "    mols = Read(ligand_filename)\n",
      "  File \"/home/nfernandez/unit/mgltools_x86_64Linux2_1.5.7/MGLToolsPckgs/MolKit/__init__.py\", line 21, in Read\n",
      "    raise AssertionError , \"%s does't exist\" %filename\n",
      "AssertionError: 109.mol2 does't exist\n",
      "Traceback (most recent call last):\n",
      "  File \"/home/nfernandez/unit/mgltools_x86_64Linux2_1.5.7/MGLToolsPckgs/AutoDockTools/Utilities24/prepare_ligand4.py\", line 185, in <module>\n",
      "    mols = Read(ligand_filename)\n",
      "  File \"/home/nfernandez/unit/mgltools_x86_64Linux2_1.5.7/MGLToolsPckgs/MolKit/__init__.py\", line 21, in Read\n",
      "    raise AssertionError , \"%s does't exist\" %filename\n",
      "AssertionError: 118.mol2 does't exist\n",
      "Traceback (most recent call last):\n",
      "  File \"/home/nfernandez/unit/mgltools_x86_64Linux2_1.5.7/MGLToolsPckgs/AutoDockTools/Utilities24/prepare_ligand4.py\", line 185, in <module>\n",
      "    mols = Read(ligand_filename)\n",
      "  File \"/home/nfernandez/unit/mgltools_x86_64Linux2_1.5.7/MGLToolsPckgs/MolKit/__init__.py\", line 21, in Read\n",
      "    raise AssertionError , \"%s does't exist\" %filename\n",
      "AssertionError: 19.mol2 does't exist\n"
     ]
    },
    {
     "name": "stdout",
     "output_type": "stream",
     "text": [
      "Convertido: 109.mol2 a 109.pdbqt\n",
      "Convertido: 118.mol2 a 118.pdbqt\n",
      "Convertido: 19.mol2 a 19.pdbqt\n"
     ]
    },
    {
     "name": "stderr",
     "output_type": "stream",
     "text": [
      "Traceback (most recent call last):\n",
      "  File \"/home/nfernandez/unit/mgltools_x86_64Linux2_1.5.7/MGLToolsPckgs/AutoDockTools/Utilities24/prepare_ligand4.py\", line 185, in <module>\n",
      "    mols = Read(ligand_filename)\n",
      "  File \"/home/nfernandez/unit/mgltools_x86_64Linux2_1.5.7/MGLToolsPckgs/MolKit/__init__.py\", line 21, in Read\n",
      "    raise AssertionError , \"%s does't exist\" %filename\n",
      "AssertionError: 201.mol2 does't exist\n",
      "Traceback (most recent call last):\n",
      "  File \"/home/nfernandez/unit/mgltools_x86_64Linux2_1.5.7/MGLToolsPckgs/AutoDockTools/Utilities24/prepare_ligand4.py\", line 185, in <module>\n",
      "    mols = Read(ligand_filename)\n",
      "  File \"/home/nfernandez/unit/mgltools_x86_64Linux2_1.5.7/MGLToolsPckgs/MolKit/__init__.py\", line 21, in Read\n",
      "    raise AssertionError , \"%s does't exist\" %filename\n",
      "AssertionError: 193.mol2 does't exist\n",
      "Traceback (most recent call last):\n",
      "  File \"/home/nfernandez/unit/mgltools_x86_64Linux2_1.5.7/MGLToolsPckgs/AutoDockTools/Utilities24/prepare_ligand4.py\", line 185, in <module>\n",
      "    mols = Read(ligand_filename)\n",
      "  File \"/home/nfernandez/unit/mgltools_x86_64Linux2_1.5.7/MGLToolsPckgs/MolKit/__init__.py\", line 21, in Read\n",
      "    raise AssertionError , \"%s does't exist\" %filename\n",
      "AssertionError: 87.mol2 does't exist\n"
     ]
    },
    {
     "name": "stdout",
     "output_type": "stream",
     "text": [
      "Convertido: 201.mol2 a 201.pdbqt\n",
      "Convertido: 193.mol2 a 193.pdbqt\n",
      "Convertido: 87.mol2 a 87.pdbqt\n"
     ]
    },
    {
     "name": "stderr",
     "output_type": "stream",
     "text": [
      "Traceback (most recent call last):\n",
      "  File \"/home/nfernandez/unit/mgltools_x86_64Linux2_1.5.7/MGLToolsPckgs/AutoDockTools/Utilities24/prepare_ligand4.py\", line 185, in <module>\n",
      "    mols = Read(ligand_filename)\n",
      "  File \"/home/nfernandez/unit/mgltools_x86_64Linux2_1.5.7/MGLToolsPckgs/MolKit/__init__.py\", line 21, in Read\n",
      "    raise AssertionError , \"%s does't exist\" %filename\n",
      "AssertionError: 206.mol2 does't exist\n",
      "Traceback (most recent call last):\n",
      "  File \"/home/nfernandez/unit/mgltools_x86_64Linux2_1.5.7/MGLToolsPckgs/AutoDockTools/Utilities24/prepare_ligand4.py\", line 185, in <module>\n",
      "    mols = Read(ligand_filename)\n",
      "  File \"/home/nfernandez/unit/mgltools_x86_64Linux2_1.5.7/MGLToolsPckgs/MolKit/__init__.py\", line 21, in Read\n",
      "    raise AssertionError , \"%s does't exist\" %filename\n",
      "AssertionError: 245.mol2 does't exist\n",
      "Traceback (most recent call last):\n",
      "  File \"/home/nfernandez/unit/mgltools_x86_64Linux2_1.5.7/MGLToolsPckgs/AutoDockTools/Utilities24/prepare_ligand4.py\", line 185, in <module>\n",
      "    mols = Read(ligand_filename)\n",
      "  File \"/home/nfernandez/unit/mgltools_x86_64Linux2_1.5.7/MGLToolsPckgs/MolKit/__init__.py\", line 21, in Read\n",
      "    raise AssertionError , \"%s does't exist\" %filename\n",
      "AssertionError: 226.mol2 does't exist\n"
     ]
    },
    {
     "name": "stdout",
     "output_type": "stream",
     "text": [
      "Convertido: 206.mol2 a 206.pdbqt\n",
      "Convertido: 245.mol2 a 245.pdbqt\n",
      "Convertido: 226.mol2 a 226.pdbqt\n"
     ]
    },
    {
     "name": "stderr",
     "output_type": "stream",
     "text": [
      "Traceback (most recent call last):\n",
      "  File \"/home/nfernandez/unit/mgltools_x86_64Linux2_1.5.7/MGLToolsPckgs/AutoDockTools/Utilities24/prepare_ligand4.py\", line 185, in <module>\n",
      "    mols = Read(ligand_filename)\n",
      "  File \"/home/nfernandez/unit/mgltools_x86_64Linux2_1.5.7/MGLToolsPckgs/MolKit/__init__.py\", line 21, in Read\n",
      "    raise AssertionError , \"%s does't exist\" %filename\n",
      "AssertionError: 195.mol2 does't exist\n",
      "Traceback (most recent call last):\n",
      "  File \"/home/nfernandez/unit/mgltools_x86_64Linux2_1.5.7/MGLToolsPckgs/AutoDockTools/Utilities24/prepare_ligand4.py\", line 185, in <module>\n",
      "    mols = Read(ligand_filename)\n",
      "  File \"/home/nfernandez/unit/mgltools_x86_64Linux2_1.5.7/MGLToolsPckgs/MolKit/__init__.py\", line 21, in Read\n",
      "    raise AssertionError , \"%s does't exist\" %filename\n",
      "AssertionError: 162.mol2 does't exist\n",
      "Traceback (most recent call last):\n",
      "  File \"/home/nfernandez/unit/mgltools_x86_64Linux2_1.5.7/MGLToolsPckgs/AutoDockTools/Utilities24/prepare_ligand4.py\", line 185, in <module>\n",
      "    mols = Read(ligand_filename)\n",
      "  File \"/home/nfernandez/unit/mgltools_x86_64Linux2_1.5.7/MGLToolsPckgs/MolKit/__init__.py\", line 21, in Read\n",
      "    raise AssertionError , \"%s does't exist\" %filename\n",
      "AssertionError: 105.mol2 does't exist\n"
     ]
    },
    {
     "name": "stdout",
     "output_type": "stream",
     "text": [
      "Convertido: 195.mol2 a 195.pdbqt\n",
      "Convertido: 162.mol2 a 162.pdbqt\n",
      "Convertido: 105.mol2 a 105.pdbqt\n"
     ]
    },
    {
     "name": "stderr",
     "output_type": "stream",
     "text": [
      "Traceback (most recent call last):\n",
      "  File \"/home/nfernandez/unit/mgltools_x86_64Linux2_1.5.7/MGLToolsPckgs/AutoDockTools/Utilities24/prepare_ligand4.py\", line 185, in <module>\n",
      "    mols = Read(ligand_filename)\n",
      "  File \"/home/nfernandez/unit/mgltools_x86_64Linux2_1.5.7/MGLToolsPckgs/MolKit/__init__.py\", line 21, in Read\n",
      "    raise AssertionError , \"%s does't exist\" %filename\n",
      "AssertionError: 136.mol2 does't exist\n",
      "Traceback (most recent call last):\n",
      "  File \"/home/nfernandez/unit/mgltools_x86_64Linux2_1.5.7/MGLToolsPckgs/AutoDockTools/Utilities24/prepare_ligand4.py\", line 185, in <module>\n",
      "    mols = Read(ligand_filename)\n",
      "  File \"/home/nfernandez/unit/mgltools_x86_64Linux2_1.5.7/MGLToolsPckgs/MolKit/__init__.py\", line 21, in Read\n",
      "    raise AssertionError , \"%s does't exist\" %filename\n",
      "AssertionError: 208.mol2 does't exist\n",
      "Traceback (most recent call last):\n",
      "  File \"/home/nfernandez/unit/mgltools_x86_64Linux2_1.5.7/MGLToolsPckgs/AutoDockTools/Utilities24/prepare_ligand4.py\", line 185, in <module>\n",
      "    mols = Read(ligand_filename)\n",
      "  File \"/home/nfernandez/unit/mgltools_x86_64Linux2_1.5.7/MGLToolsPckgs/MolKit/__init__.py\", line 21, in Read\n",
      "    raise AssertionError , \"%s does't exist\" %filename\n",
      "AssertionError: 75.mol2 does't exist\n"
     ]
    },
    {
     "name": "stdout",
     "output_type": "stream",
     "text": [
      "Convertido: 136.mol2 a 136.pdbqt\n",
      "Convertido: 208.mol2 a 208.pdbqt\n",
      "Convertido: 75.mol2 a 75.pdbqt\n"
     ]
    },
    {
     "name": "stderr",
     "output_type": "stream",
     "text": [
      "Traceback (most recent call last):\n",
      "  File \"/home/nfernandez/unit/mgltools_x86_64Linux2_1.5.7/MGLToolsPckgs/AutoDockTools/Utilities24/prepare_ligand4.py\", line 185, in <module>\n",
      "    mols = Read(ligand_filename)\n",
      "  File \"/home/nfernandez/unit/mgltools_x86_64Linux2_1.5.7/MGLToolsPckgs/MolKit/__init__.py\", line 21, in Read\n",
      "    raise AssertionError , \"%s does't exist\" %filename\n",
      "AssertionError: 194.mol2 does't exist\n",
      "Traceback (most recent call last):\n",
      "  File \"/home/nfernandez/unit/mgltools_x86_64Linux2_1.5.7/MGLToolsPckgs/AutoDockTools/Utilities24/prepare_ligand4.py\", line 185, in <module>\n",
      "    mols = Read(ligand_filename)\n",
      "  File \"/home/nfernandez/unit/mgltools_x86_64Linux2_1.5.7/MGLToolsPckgs/MolKit/__init__.py\", line 21, in Read\n",
      "    raise AssertionError , \"%s does't exist\" %filename\n",
      "AssertionError: 91.mol2 does't exist\n",
      "Traceback (most recent call last):\n",
      "  File \"/home/nfernandez/unit/mgltools_x86_64Linux2_1.5.7/MGLToolsPckgs/AutoDockTools/Utilities24/prepare_ligand4.py\", line 185, in <module>\n",
      "    mols = Read(ligand_filename)\n",
      "  File \"/home/nfernandez/unit/mgltools_x86_64Linux2_1.5.7/MGLToolsPckgs/MolKit/__init__.py\", line 21, in Read\n",
      "    raise AssertionError , \"%s does't exist\" %filename\n",
      "AssertionError: 119.mol2 does't exist\n"
     ]
    },
    {
     "name": "stdout",
     "output_type": "stream",
     "text": [
      "Convertido: 194.mol2 a 194.pdbqt\n",
      "Convertido: 91.mol2 a 91.pdbqt\n",
      "Convertido: 119.mol2 a 119.pdbqt\n"
     ]
    },
    {
     "name": "stderr",
     "output_type": "stream",
     "text": [
      "Traceback (most recent call last):\n",
      "  File \"/home/nfernandez/unit/mgltools_x86_64Linux2_1.5.7/MGLToolsPckgs/AutoDockTools/Utilities24/prepare_ligand4.py\", line 185, in <module>\n",
      "    mols = Read(ligand_filename)\n",
      "  File \"/home/nfernandez/unit/mgltools_x86_64Linux2_1.5.7/MGLToolsPckgs/MolKit/__init__.py\", line 21, in Read\n",
      "    raise AssertionError , \"%s does't exist\" %filename\n",
      "AssertionError: 237.mol2 does't exist\n",
      "Traceback (most recent call last):\n",
      "  File \"/home/nfernandez/unit/mgltools_x86_64Linux2_1.5.7/MGLToolsPckgs/AutoDockTools/Utilities24/prepare_ligand4.py\", line 185, in <module>\n",
      "    mols = Read(ligand_filename)\n",
      "  File \"/home/nfernandez/unit/mgltools_x86_64Linux2_1.5.7/MGLToolsPckgs/MolKit/__init__.py\", line 21, in Read\n",
      "    raise AssertionError , \"%s does't exist\" %filename\n",
      "AssertionError: 77.mol2 does't exist\n",
      "Traceback (most recent call last):\n",
      "  File \"/home/nfernandez/unit/mgltools_x86_64Linux2_1.5.7/MGLToolsPckgs/AutoDockTools/Utilities24/prepare_ligand4.py\", line 185, in <module>\n",
      "    mols = Read(ligand_filename)\n",
      "  File \"/home/nfernandez/unit/mgltools_x86_64Linux2_1.5.7/MGLToolsPckgs/MolKit/__init__.py\", line 21, in Read\n",
      "    raise AssertionError , \"%s does't exist\" %filename\n",
      "AssertionError: 165.mol2 does't exist\n"
     ]
    },
    {
     "name": "stdout",
     "output_type": "stream",
     "text": [
      "Convertido: 237.mol2 a 237.pdbqt\n",
      "Convertido: 77.mol2 a 77.pdbqt\n",
      "Convertido: 165.mol2 a 165.pdbqt\n"
     ]
    },
    {
     "name": "stderr",
     "output_type": "stream",
     "text": [
      "Traceback (most recent call last):\n",
      "  File \"/home/nfernandez/unit/mgltools_x86_64Linux2_1.5.7/MGLToolsPckgs/AutoDockTools/Utilities24/prepare_ligand4.py\", line 185, in <module>\n",
      "    mols = Read(ligand_filename)\n",
      "  File \"/home/nfernandez/unit/mgltools_x86_64Linux2_1.5.7/MGLToolsPckgs/MolKit/__init__.py\", line 21, in Read\n",
      "    raise AssertionError , \"%s does't exist\" %filename\n",
      "AssertionError: 45.mol2 does't exist\n",
      "Traceback (most recent call last):\n",
      "  File \"/home/nfernandez/unit/mgltools_x86_64Linux2_1.5.7/MGLToolsPckgs/AutoDockTools/Utilities24/prepare_ligand4.py\", line 185, in <module>\n",
      "    mols = Read(ligand_filename)\n",
      "  File \"/home/nfernandez/unit/mgltools_x86_64Linux2_1.5.7/MGLToolsPckgs/MolKit/__init__.py\", line 21, in Read\n",
      "    raise AssertionError , \"%s does't exist\" %filename\n",
      "AssertionError: 67.mol2 does't exist\n",
      "Traceback (most recent call last):\n",
      "  File \"/home/nfernandez/unit/mgltools_x86_64Linux2_1.5.7/MGLToolsPckgs/AutoDockTools/Utilities24/prepare_ligand4.py\", line 185, in <module>\n",
      "    mols = Read(ligand_filename)\n",
      "  File \"/home/nfernandez/unit/mgltools_x86_64Linux2_1.5.7/MGLToolsPckgs/MolKit/__init__.py\", line 21, in Read\n",
      "    raise AssertionError , \"%s does't exist\" %filename\n",
      "AssertionError: 17.mol2 does't exist\n"
     ]
    },
    {
     "name": "stdout",
     "output_type": "stream",
     "text": [
      "Convertido: 45.mol2 a 45.pdbqt\n",
      "Convertido: 67.mol2 a 67.pdbqt\n",
      "Convertido: 17.mol2 a 17.pdbqt\n"
     ]
    },
    {
     "name": "stderr",
     "output_type": "stream",
     "text": [
      "Traceback (most recent call last):\n",
      "  File \"/home/nfernandez/unit/mgltools_x86_64Linux2_1.5.7/MGLToolsPckgs/AutoDockTools/Utilities24/prepare_ligand4.py\", line 185, in <module>\n",
      "    mols = Read(ligand_filename)\n",
      "  File \"/home/nfernandez/unit/mgltools_x86_64Linux2_1.5.7/MGLToolsPckgs/MolKit/__init__.py\", line 21, in Read\n",
      "    raise AssertionError , \"%s does't exist\" %filename\n",
      "AssertionError: 73.mol2 does't exist\n",
      "Traceback (most recent call last):\n",
      "  File \"/home/nfernandez/unit/mgltools_x86_64Linux2_1.5.7/MGLToolsPckgs/AutoDockTools/Utilities24/prepare_ligand4.py\", line 185, in <module>\n",
      "    mols = Read(ligand_filename)\n",
      "  File \"/home/nfernandez/unit/mgltools_x86_64Linux2_1.5.7/MGLToolsPckgs/MolKit/__init__.py\", line 21, in Read\n",
      "    raise AssertionError , \"%s does't exist\" %filename\n",
      "AssertionError: 160.mol2 does't exist\n",
      "Traceback (most recent call last):\n",
      "  File \"/home/nfernandez/unit/mgltools_x86_64Linux2_1.5.7/MGLToolsPckgs/AutoDockTools/Utilities24/prepare_ligand4.py\", line 185, in <module>\n",
      "    mols = Read(ligand_filename)\n",
      "  File \"/home/nfernandez/unit/mgltools_x86_64Linux2_1.5.7/MGLToolsPckgs/MolKit/__init__.py\", line 21, in Read\n",
      "    raise AssertionError , \"%s does't exist\" %filename\n",
      "AssertionError: 111.mol2 does't exist\n"
     ]
    },
    {
     "name": "stdout",
     "output_type": "stream",
     "text": [
      "Convertido: 73.mol2 a 73.pdbqt\n",
      "Convertido: 160.mol2 a 160.pdbqt\n",
      "Convertido: 111.mol2 a 111.pdbqt\n"
     ]
    },
    {
     "name": "stderr",
     "output_type": "stream",
     "text": [
      "Traceback (most recent call last):\n",
      "  File \"/home/nfernandez/unit/mgltools_x86_64Linux2_1.5.7/MGLToolsPckgs/AutoDockTools/Utilities24/prepare_ligand4.py\", line 185, in <module>\n",
      "    mols = Read(ligand_filename)\n",
      "  File \"/home/nfernandez/unit/mgltools_x86_64Linux2_1.5.7/MGLToolsPckgs/MolKit/__init__.py\", line 21, in Read\n",
      "    raise AssertionError , \"%s does't exist\" %filename\n",
      "AssertionError: 104.mol2 does't exist\n",
      "Traceback (most recent call last):\n",
      "  File \"/home/nfernandez/unit/mgltools_x86_64Linux2_1.5.7/MGLToolsPckgs/AutoDockTools/Utilities24/prepare_ligand4.py\", line 185, in <module>\n",
      "    mols = Read(ligand_filename)\n",
      "  File \"/home/nfernandez/unit/mgltools_x86_64Linux2_1.5.7/MGLToolsPckgs/MolKit/__init__.py\", line 21, in Read\n",
      "    raise AssertionError , \"%s does't exist\" %filename\n",
      "AssertionError: 123.mol2 does't exist\n",
      "Traceback (most recent call last):\n",
      "  File \"/home/nfernandez/unit/mgltools_x86_64Linux2_1.5.7/MGLToolsPckgs/AutoDockTools/Utilities24/prepare_ligand4.py\", line 185, in <module>\n",
      "    mols = Read(ligand_filename)\n",
      "  File \"/home/nfernandez/unit/mgltools_x86_64Linux2_1.5.7/MGLToolsPckgs/MolKit/__init__.py\", line 21, in Read\n",
      "    raise AssertionError , \"%s does't exist\" %filename\n",
      "AssertionError: 78.mol2 does't exist\n"
     ]
    },
    {
     "name": "stdout",
     "output_type": "stream",
     "text": [
      "Convertido: 104.mol2 a 104.pdbqt\n",
      "Convertido: 123.mol2 a 123.pdbqt\n",
      "Convertido: 78.mol2 a 78.pdbqt\n"
     ]
    },
    {
     "name": "stderr",
     "output_type": "stream",
     "text": [
      "Traceback (most recent call last):\n",
      "  File \"/home/nfernandez/unit/mgltools_x86_64Linux2_1.5.7/MGLToolsPckgs/AutoDockTools/Utilities24/prepare_ligand4.py\", line 185, in <module>\n",
      "    mols = Read(ligand_filename)\n",
      "  File \"/home/nfernandez/unit/mgltools_x86_64Linux2_1.5.7/MGLToolsPckgs/MolKit/__init__.py\", line 21, in Read\n",
      "    raise AssertionError , \"%s does't exist\" %filename\n",
      "AssertionError: 55.mol2 does't exist\n",
      "Traceback (most recent call last):\n",
      "  File \"/home/nfernandez/unit/mgltools_x86_64Linux2_1.5.7/MGLToolsPckgs/AutoDockTools/Utilities24/prepare_ligand4.py\", line 185, in <module>\n",
      "    mols = Read(ligand_filename)\n",
      "  File \"/home/nfernandez/unit/mgltools_x86_64Linux2_1.5.7/MGLToolsPckgs/MolKit/__init__.py\", line 21, in Read\n",
      "    raise AssertionError , \"%s does't exist\" %filename\n",
      "AssertionError: 112.mol2 does't exist\n",
      "Traceback (most recent call last):\n",
      "  File \"/home/nfernandez/unit/mgltools_x86_64Linux2_1.5.7/MGLToolsPckgs/AutoDockTools/Utilities24/prepare_ligand4.py\", line 185, in <module>\n",
      "    mols = Read(ligand_filename)\n",
      "  File \"/home/nfernandez/unit/mgltools_x86_64Linux2_1.5.7/MGLToolsPckgs/MolKit/__init__.py\", line 21, in Read\n",
      "    raise AssertionError , \"%s does't exist\" %filename\n",
      "AssertionError: 26.mol2 does't exist\n"
     ]
    },
    {
     "name": "stdout",
     "output_type": "stream",
     "text": [
      "Convertido: 55.mol2 a 55.pdbqt\n",
      "Convertido: 112.mol2 a 112.pdbqt\n",
      "Convertido: 26.mol2 a 26.pdbqt\n"
     ]
    },
    {
     "name": "stderr",
     "output_type": "stream",
     "text": [
      "Traceback (most recent call last):\n",
      "  File \"/home/nfernandez/unit/mgltools_x86_64Linux2_1.5.7/MGLToolsPckgs/AutoDockTools/Utilities24/prepare_ligand4.py\", line 185, in <module>\n",
      "    mols = Read(ligand_filename)\n",
      "  File \"/home/nfernandez/unit/mgltools_x86_64Linux2_1.5.7/MGLToolsPckgs/MolKit/__init__.py\", line 21, in Read\n",
      "    raise AssertionError , \"%s does't exist\" %filename\n",
      "AssertionError: 39.mol2 does't exist\n",
      "Traceback (most recent call last):\n",
      "  File \"/home/nfernandez/unit/mgltools_x86_64Linux2_1.5.7/MGLToolsPckgs/AutoDockTools/Utilities24/prepare_ligand4.py\", line 185, in <module>\n",
      "    mols = Read(ligand_filename)\n",
      "  File \"/home/nfernandez/unit/mgltools_x86_64Linux2_1.5.7/MGLToolsPckgs/MolKit/__init__.py\", line 21, in Read\n",
      "    raise AssertionError , \"%s does't exist\" %filename\n",
      "AssertionError: 83.mol2 does't exist\n",
      "Traceback (most recent call last):\n",
      "  File \"/home/nfernandez/unit/mgltools_x86_64Linux2_1.5.7/MGLToolsPckgs/AutoDockTools/Utilities24/prepare_ligand4.py\", line 185, in <module>\n",
      "    mols = Read(ligand_filename)\n",
      "  File \"/home/nfernandez/unit/mgltools_x86_64Linux2_1.5.7/MGLToolsPckgs/MolKit/__init__.py\", line 21, in Read\n",
      "    raise AssertionError , \"%s does't exist\" %filename\n",
      "AssertionError: 53.mol2 does't exist\n"
     ]
    },
    {
     "name": "stdout",
     "output_type": "stream",
     "text": [
      "Convertido: 39.mol2 a 39.pdbqt\n",
      "Convertido: 83.mol2 a 83.pdbqt\n",
      "Convertido: 53.mol2 a 53.pdbqt\n"
     ]
    },
    {
     "name": "stderr",
     "output_type": "stream",
     "text": [
      "Traceback (most recent call last):\n",
      "  File \"/home/nfernandez/unit/mgltools_x86_64Linux2_1.5.7/MGLToolsPckgs/AutoDockTools/Utilities24/prepare_ligand4.py\", line 185, in <module>\n",
      "    mols = Read(ligand_filename)\n",
      "  File \"/home/nfernandez/unit/mgltools_x86_64Linux2_1.5.7/MGLToolsPckgs/MolKit/__init__.py\", line 21, in Read\n",
      "    raise AssertionError , \"%s does't exist\" %filename\n",
      "AssertionError: 159.mol2 does't exist\n",
      "Traceback (most recent call last):\n",
      "  File \"/home/nfernandez/unit/mgltools_x86_64Linux2_1.5.7/MGLToolsPckgs/AutoDockTools/Utilities24/prepare_ligand4.py\", line 185, in <module>\n",
      "    mols = Read(ligand_filename)\n",
      "  File \"/home/nfernandez/unit/mgltools_x86_64Linux2_1.5.7/MGLToolsPckgs/MolKit/__init__.py\", line 21, in Read\n",
      "    raise AssertionError , \"%s does't exist\" %filename\n",
      "AssertionError: 64.mol2 does't exist\n",
      "Traceback (most recent call last):\n",
      "  File \"/home/nfernandez/unit/mgltools_x86_64Linux2_1.5.7/MGLToolsPckgs/AutoDockTools/Utilities24/prepare_ligand4.py\", line 185, in <module>\n",
      "    mols = Read(ligand_filename)\n",
      "  File \"/home/nfernandez/unit/mgltools_x86_64Linux2_1.5.7/MGLToolsPckgs/MolKit/__init__.py\", line 21, in Read\n",
      "    raise AssertionError , \"%s does't exist\" %filename\n",
      "AssertionError: 43.mol2 does't exist\n"
     ]
    },
    {
     "name": "stdout",
     "output_type": "stream",
     "text": [
      "Convertido: 159.mol2 a 159.pdbqt\n",
      "Convertido: 64.mol2 a 64.pdbqt\n",
      "Convertido: 43.mol2 a 43.pdbqt\n"
     ]
    },
    {
     "name": "stderr",
     "output_type": "stream",
     "text": [
      "Traceback (most recent call last):\n",
      "  File \"/home/nfernandez/unit/mgltools_x86_64Linux2_1.5.7/MGLToolsPckgs/AutoDockTools/Utilities24/prepare_ligand4.py\", line 185, in <module>\n",
      "    mols = Read(ligand_filename)\n",
      "  File \"/home/nfernandez/unit/mgltools_x86_64Linux2_1.5.7/MGLToolsPckgs/MolKit/__init__.py\", line 21, in Read\n",
      "    raise AssertionError , \"%s does't exist\" %filename\n",
      "AssertionError: 247.mol2 does't exist\n",
      "Traceback (most recent call last):\n",
      "  File \"/home/nfernandez/unit/mgltools_x86_64Linux2_1.5.7/MGLToolsPckgs/AutoDockTools/Utilities24/prepare_ligand4.py\", line 185, in <module>\n",
      "    mols = Read(ligand_filename)\n",
      "  File \"/home/nfernandez/unit/mgltools_x86_64Linux2_1.5.7/MGLToolsPckgs/MolKit/__init__.py\", line 21, in Read\n",
      "    raise AssertionError , \"%s does't exist\" %filename\n",
      "AssertionError: 143.mol2 does't exist\n",
      "Traceback (most recent call last):\n",
      "  File \"/home/nfernandez/unit/mgltools_x86_64Linux2_1.5.7/MGLToolsPckgs/AutoDockTools/Utilities24/prepare_ligand4.py\", line 185, in <module>\n",
      "    mols = Read(ligand_filename)\n",
      "  File \"/home/nfernandez/unit/mgltools_x86_64Linux2_1.5.7/MGLToolsPckgs/MolKit/__init__.py\", line 21, in Read\n",
      "    raise AssertionError , \"%s does't exist\" %filename\n",
      "AssertionError: 102.mol2 does't exist\n"
     ]
    },
    {
     "name": "stdout",
     "output_type": "stream",
     "text": [
      "Convertido: 247.mol2 a 247.pdbqt\n",
      "Convertido: 143.mol2 a 143.pdbqt\n",
      "Convertido: 102.mol2 a 102.pdbqt\n"
     ]
    },
    {
     "name": "stderr",
     "output_type": "stream",
     "text": [
      "Traceback (most recent call last):\n",
      "  File \"/home/nfernandez/unit/mgltools_x86_64Linux2_1.5.7/MGLToolsPckgs/AutoDockTools/Utilities24/prepare_ligand4.py\", line 185, in <module>\n",
      "    mols = Read(ligand_filename)\n",
      "  File \"/home/nfernandez/unit/mgltools_x86_64Linux2_1.5.7/MGLToolsPckgs/MolKit/__init__.py\", line 21, in Read\n",
      "    raise AssertionError , \"%s does't exist\" %filename\n",
      "AssertionError: 79.mol2 does't exist\n",
      "Traceback (most recent call last):\n",
      "  File \"/home/nfernandez/unit/mgltools_x86_64Linux2_1.5.7/MGLToolsPckgs/AutoDockTools/Utilities24/prepare_ligand4.py\", line 185, in <module>\n",
      "    mols = Read(ligand_filename)\n",
      "  File \"/home/nfernandez/unit/mgltools_x86_64Linux2_1.5.7/MGLToolsPckgs/MolKit/__init__.py\", line 21, in Read\n",
      "    raise AssertionError , \"%s does't exist\" %filename\n",
      "AssertionError: 220.mol2 does't exist\n",
      "Traceback (most recent call last):\n",
      "  File \"/home/nfernandez/unit/mgltools_x86_64Linux2_1.5.7/MGLToolsPckgs/AutoDockTools/Utilities24/prepare_ligand4.py\", line 185, in <module>\n",
      "    mols = Read(ligand_filename)\n",
      "  File \"/home/nfernandez/unit/mgltools_x86_64Linux2_1.5.7/MGLToolsPckgs/MolKit/__init__.py\", line 21, in Read\n",
      "    raise AssertionError , \"%s does't exist\" %filename\n",
      "AssertionError: 185.mol2 does't exist\n"
     ]
    },
    {
     "name": "stdout",
     "output_type": "stream",
     "text": [
      "Convertido: 79.mol2 a 79.pdbqt\n",
      "Convertido: 220.mol2 a 220.pdbqt\n",
      "Convertido: 185.mol2 a 185.pdbqt\n"
     ]
    },
    {
     "name": "stderr",
     "output_type": "stream",
     "text": [
      "Traceback (most recent call last):\n",
      "  File \"/home/nfernandez/unit/mgltools_x86_64Linux2_1.5.7/MGLToolsPckgs/AutoDockTools/Utilities24/prepare_ligand4.py\", line 185, in <module>\n",
      "    mols = Read(ligand_filename)\n",
      "  File \"/home/nfernandez/unit/mgltools_x86_64Linux2_1.5.7/MGLToolsPckgs/MolKit/__init__.py\", line 21, in Read\n",
      "    raise AssertionError , \"%s does't exist\" %filename\n",
      "AssertionError: 137.mol2 does't exist\n",
      "Traceback (most recent call last):\n",
      "  File \"/home/nfernandez/unit/mgltools_x86_64Linux2_1.5.7/MGLToolsPckgs/AutoDockTools/Utilities24/prepare_ligand4.py\", line 185, in <module>\n",
      "    mols = Read(ligand_filename)\n",
      "  File \"/home/nfernandez/unit/mgltools_x86_64Linux2_1.5.7/MGLToolsPckgs/MolKit/__init__.py\", line 21, in Read\n",
      "    raise AssertionError , \"%s does't exist\" %filename\n",
      "AssertionError: 44.mol2 does't exist\n",
      "Traceback (most recent call last):\n",
      "  File \"/home/nfernandez/unit/mgltools_x86_64Linux2_1.5.7/MGLToolsPckgs/AutoDockTools/Utilities24/prepare_ligand4.py\", line 185, in <module>\n",
      "    mols = Read(ligand_filename)\n",
      "  File \"/home/nfernandez/unit/mgltools_x86_64Linux2_1.5.7/MGLToolsPckgs/MolKit/__init__.py\", line 21, in Read\n",
      "    raise AssertionError , \"%s does't exist\" %filename\n",
      "AssertionError: 148.mol2 does't exist\n"
     ]
    },
    {
     "name": "stdout",
     "output_type": "stream",
     "text": [
      "Convertido: 137.mol2 a 137.pdbqt\n",
      "Convertido: 44.mol2 a 44.pdbqt\n",
      "Convertido: 148.mol2 a 148.pdbqt\n"
     ]
    },
    {
     "name": "stderr",
     "output_type": "stream",
     "text": [
      "Traceback (most recent call last):\n",
      "  File \"/home/nfernandez/unit/mgltools_x86_64Linux2_1.5.7/MGLToolsPckgs/AutoDockTools/Utilities24/prepare_ligand4.py\", line 185, in <module>\n",
      "    mols = Read(ligand_filename)\n",
      "  File \"/home/nfernandez/unit/mgltools_x86_64Linux2_1.5.7/MGLToolsPckgs/MolKit/__init__.py\", line 21, in Read\n",
      "    raise AssertionError , \"%s does't exist\" %filename\n",
      "AssertionError: 14.mol2 does't exist\n",
      "Traceback (most recent call last):\n",
      "  File \"/home/nfernandez/unit/mgltools_x86_64Linux2_1.5.7/MGLToolsPckgs/AutoDockTools/Utilities24/prepare_ligand4.py\", line 185, in <module>\n",
      "    mols = Read(ligand_filename)\n",
      "  File \"/home/nfernandez/unit/mgltools_x86_64Linux2_1.5.7/MGLToolsPckgs/MolKit/__init__.py\", line 21, in Read\n",
      "    raise AssertionError , \"%s does't exist\" %filename\n",
      "AssertionError: 98.mol2 does't exist\n",
      "Traceback (most recent call last):\n",
      "  File \"/home/nfernandez/unit/mgltools_x86_64Linux2_1.5.7/MGLToolsPckgs/AutoDockTools/Utilities24/prepare_ligand4.py\", line 185, in <module>\n",
      "    mols = Read(ligand_filename)\n",
      "  File \"/home/nfernandez/unit/mgltools_x86_64Linux2_1.5.7/MGLToolsPckgs/MolKit/__init__.py\", line 21, in Read\n",
      "    raise AssertionError , \"%s does't exist\" %filename\n",
      "AssertionError: 142.mol2 does't exist\n"
     ]
    },
    {
     "name": "stdout",
     "output_type": "stream",
     "text": [
      "Convertido: 14.mol2 a 14.pdbqt\n",
      "Convertido: 98.mol2 a 98.pdbqt\n",
      "Convertido: 142.mol2 a 142.pdbqt\n"
     ]
    },
    {
     "name": "stderr",
     "output_type": "stream",
     "text": [
      "Traceback (most recent call last):\n",
      "  File \"/home/nfernandez/unit/mgltools_x86_64Linux2_1.5.7/MGLToolsPckgs/AutoDockTools/Utilities24/prepare_ligand4.py\", line 185, in <module>\n",
      "    mols = Read(ligand_filename)\n",
      "  File \"/home/nfernandez/unit/mgltools_x86_64Linux2_1.5.7/MGLToolsPckgs/MolKit/__init__.py\", line 21, in Read\n",
      "    raise AssertionError , \"%s does't exist\" %filename\n",
      "AssertionError: 170.mol2 does't exist\n",
      "Traceback (most recent call last):\n",
      "  File \"/home/nfernandez/unit/mgltools_x86_64Linux2_1.5.7/MGLToolsPckgs/AutoDockTools/Utilities24/prepare_ligand4.py\", line 185, in <module>\n",
      "    mols = Read(ligand_filename)\n",
      "  File \"/home/nfernandez/unit/mgltools_x86_64Linux2_1.5.7/MGLToolsPckgs/MolKit/__init__.py\", line 21, in Read\n",
      "    raise AssertionError , \"%s does't exist\" %filename\n",
      "AssertionError: 30.mol2 does't exist\n",
      "Traceback (most recent call last):\n",
      "  File \"/home/nfernandez/unit/mgltools_x86_64Linux2_1.5.7/MGLToolsPckgs/AutoDockTools/Utilities24/prepare_ligand4.py\", line 185, in <module>\n",
      "    mols = Read(ligand_filename)\n",
      "  File \"/home/nfernandez/unit/mgltools_x86_64Linux2_1.5.7/MGLToolsPckgs/MolKit/__init__.py\", line 21, in Read\n",
      "    raise AssertionError , \"%s does't exist\" %filename\n",
      "AssertionError: 242.mol2 does't exist\n"
     ]
    },
    {
     "name": "stdout",
     "output_type": "stream",
     "text": [
      "Convertido: 170.mol2 a 170.pdbqt\n",
      "Convertido: 30.mol2 a 30.pdbqt\n",
      "Convertido: 242.mol2 a 242.pdbqt\n"
     ]
    },
    {
     "name": "stderr",
     "output_type": "stream",
     "text": [
      "Traceback (most recent call last):\n",
      "  File \"/home/nfernandez/unit/mgltools_x86_64Linux2_1.5.7/MGLToolsPckgs/AutoDockTools/Utilities24/prepare_ligand4.py\", line 185, in <module>\n",
      "    mols = Read(ligand_filename)\n",
      "  File \"/home/nfernandez/unit/mgltools_x86_64Linux2_1.5.7/MGLToolsPckgs/MolKit/__init__.py\", line 21, in Read\n",
      "    raise AssertionError , \"%s does't exist\" %filename\n",
      "AssertionError: 127.mol2 does't exist\n",
      "Traceback (most recent call last):\n",
      "  File \"/home/nfernandez/unit/mgltools_x86_64Linux2_1.5.7/MGLToolsPckgs/AutoDockTools/Utilities24/prepare_ligand4.py\", line 185, in <module>\n",
      "    mols = Read(ligand_filename)\n",
      "  File \"/home/nfernandez/unit/mgltools_x86_64Linux2_1.5.7/MGLToolsPckgs/MolKit/__init__.py\", line 21, in Read\n",
      "    raise AssertionError , \"%s does't exist\" %filename\n",
      "AssertionError: 241.mol2 does't exist\n",
      "Traceback (most recent call last):\n",
      "  File \"/home/nfernandez/unit/mgltools_x86_64Linux2_1.5.7/MGLToolsPckgs/AutoDockTools/Utilities24/prepare_ligand4.py\", line 185, in <module>\n",
      "    mols = Read(ligand_filename)\n",
      "  File \"/home/nfernandez/unit/mgltools_x86_64Linux2_1.5.7/MGLToolsPckgs/MolKit/__init__.py\", line 21, in Read\n",
      "    raise AssertionError , \"%s does't exist\" %filename\n",
      "AssertionError: 213.mol2 does't exist\n"
     ]
    },
    {
     "name": "stdout",
     "output_type": "stream",
     "text": [
      "Convertido: 127.mol2 a 127.pdbqt\n",
      "Convertido: 241.mol2 a 241.pdbqt\n",
      "Convertido: 213.mol2 a 213.pdbqt\n"
     ]
    },
    {
     "name": "stderr",
     "output_type": "stream",
     "text": [
      "Traceback (most recent call last):\n",
      "  File \"/home/nfernandez/unit/mgltools_x86_64Linux2_1.5.7/MGLToolsPckgs/AutoDockTools/Utilities24/prepare_ligand4.py\", line 185, in <module>\n",
      "    mols = Read(ligand_filename)\n",
      "  File \"/home/nfernandez/unit/mgltools_x86_64Linux2_1.5.7/MGLToolsPckgs/MolKit/__init__.py\", line 21, in Read\n",
      "    raise AssertionError , \"%s does't exist\" %filename\n",
      "AssertionError: 90.mol2 does't exist\n",
      "Traceback (most recent call last):\n",
      "  File \"/home/nfernandez/unit/mgltools_x86_64Linux2_1.5.7/MGLToolsPckgs/AutoDockTools/Utilities24/prepare_ligand4.py\", line 185, in <module>\n",
      "    mols = Read(ligand_filename)\n",
      "  File \"/home/nfernandez/unit/mgltools_x86_64Linux2_1.5.7/MGLToolsPckgs/MolKit/__init__.py\", line 21, in Read\n",
      "    raise AssertionError , \"%s does't exist\" %filename\n",
      "AssertionError: 211.mol2 does't exist\n",
      "Traceback (most recent call last):\n",
      "  File \"/home/nfernandez/unit/mgltools_x86_64Linux2_1.5.7/MGLToolsPckgs/AutoDockTools/Utilities24/prepare_ligand4.py\", line 185, in <module>\n",
      "    mols = Read(ligand_filename)\n",
      "  File \"/home/nfernandez/unit/mgltools_x86_64Linux2_1.5.7/MGLToolsPckgs/MolKit/__init__.py\", line 21, in Read\n",
      "    raise AssertionError , \"%s does't exist\" %filename\n",
      "AssertionError: 239.mol2 does't exist\n"
     ]
    },
    {
     "name": "stdout",
     "output_type": "stream",
     "text": [
      "Convertido: 90.mol2 a 90.pdbqt\n",
      "Convertido: 211.mol2 a 211.pdbqt\n",
      "Convertido: 239.mol2 a 239.pdbqt\n"
     ]
    },
    {
     "name": "stderr",
     "output_type": "stream",
     "text": [
      "Traceback (most recent call last):\n",
      "  File \"/home/nfernandez/unit/mgltools_x86_64Linux2_1.5.7/MGLToolsPckgs/AutoDockTools/Utilities24/prepare_ligand4.py\", line 185, in <module>\n",
      "    mols = Read(ligand_filename)\n",
      "  File \"/home/nfernandez/unit/mgltools_x86_64Linux2_1.5.7/MGLToolsPckgs/MolKit/__init__.py\", line 21, in Read\n",
      "    raise AssertionError , \"%s does't exist\" %filename\n",
      "AssertionError: 224.mol2 does't exist\n",
      "Traceback (most recent call last):\n",
      "  File \"/home/nfernandez/unit/mgltools_x86_64Linux2_1.5.7/MGLToolsPckgs/AutoDockTools/Utilities24/prepare_ligand4.py\", line 185, in <module>\n",
      "    mols = Read(ligand_filename)\n",
      "  File \"/home/nfernandez/unit/mgltools_x86_64Linux2_1.5.7/MGLToolsPckgs/MolKit/__init__.py\", line 21, in Read\n",
      "    raise AssertionError , \"%s does't exist\" %filename\n",
      "AssertionError: 152.mol2 does't exist\n",
      "Traceback (most recent call last):\n",
      "  File \"/home/nfernandez/unit/mgltools_x86_64Linux2_1.5.7/MGLToolsPckgs/AutoDockTools/Utilities24/prepare_ligand4.py\", line 185, in <module>\n",
      "    mols = Read(ligand_filename)\n",
      "  File \"/home/nfernandez/unit/mgltools_x86_64Linux2_1.5.7/MGLToolsPckgs/MolKit/__init__.py\", line 21, in Read\n",
      "    raise AssertionError , \"%s does't exist\" %filename\n",
      "AssertionError: 178.mol2 does't exist\n"
     ]
    },
    {
     "name": "stdout",
     "output_type": "stream",
     "text": [
      "Convertido: 224.mol2 a 224.pdbqt\n",
      "Convertido: 152.mol2 a 152.pdbqt\n",
      "Convertido: 178.mol2 a 178.pdbqt\n"
     ]
    },
    {
     "name": "stderr",
     "output_type": "stream",
     "text": [
      "Traceback (most recent call last):\n",
      "  File \"/home/nfernandez/unit/mgltools_x86_64Linux2_1.5.7/MGLToolsPckgs/AutoDockTools/Utilities24/prepare_ligand4.py\", line 185, in <module>\n",
      "    mols = Read(ligand_filename)\n",
      "  File \"/home/nfernandez/unit/mgltools_x86_64Linux2_1.5.7/MGLToolsPckgs/MolKit/__init__.py\", line 21, in Read\n",
      "    raise AssertionError , \"%s does't exist\" %filename\n",
      "AssertionError: 65.mol2 does't exist\n",
      "Traceback (most recent call last):\n",
      "  File \"/home/nfernandez/unit/mgltools_x86_64Linux2_1.5.7/MGLToolsPckgs/AutoDockTools/Utilities24/prepare_ligand4.py\", line 185, in <module>\n",
      "    mols = Read(ligand_filename)\n",
      "  File \"/home/nfernandez/unit/mgltools_x86_64Linux2_1.5.7/MGLToolsPckgs/MolKit/__init__.py\", line 21, in Read\n",
      "    raise AssertionError , \"%s does't exist\" %filename\n",
      "AssertionError: 24.mol2 does't exist\n",
      "Traceback (most recent call last):\n",
      "  File \"/home/nfernandez/unit/mgltools_x86_64Linux2_1.5.7/MGLToolsPckgs/AutoDockTools/Utilities24/prepare_ligand4.py\", line 185, in <module>\n",
      "    mols = Read(ligand_filename)\n",
      "  File \"/home/nfernandez/unit/mgltools_x86_64Linux2_1.5.7/MGLToolsPckgs/MolKit/__init__.py\", line 21, in Read\n",
      "    raise AssertionError , \"%s does't exist\" %filename\n",
      "AssertionError: 125.mol2 does't exist\n"
     ]
    },
    {
     "name": "stdout",
     "output_type": "stream",
     "text": [
      "Convertido: 65.mol2 a 65.pdbqt\n",
      "Convertido: 24.mol2 a 24.pdbqt\n",
      "Convertido: 125.mol2 a 125.pdbqt\n"
     ]
    },
    {
     "name": "stderr",
     "output_type": "stream",
     "text": [
      "Traceback (most recent call last):\n",
      "  File \"/home/nfernandez/unit/mgltools_x86_64Linux2_1.5.7/MGLToolsPckgs/AutoDockTools/Utilities24/prepare_ligand4.py\", line 185, in <module>\n",
      "    mols = Read(ligand_filename)\n",
      "  File \"/home/nfernandez/unit/mgltools_x86_64Linux2_1.5.7/MGLToolsPckgs/MolKit/__init__.py\", line 21, in Read\n",
      "    raise AssertionError , \"%s does't exist\" %filename\n",
      "AssertionError: 177.mol2 does't exist\n",
      "Traceback (most recent call last):\n",
      "  File \"/home/nfernandez/unit/mgltools_x86_64Linux2_1.5.7/MGLToolsPckgs/AutoDockTools/Utilities24/prepare_ligand4.py\", line 185, in <module>\n",
      "    mols = Read(ligand_filename)\n",
      "  File \"/home/nfernandez/unit/mgltools_x86_64Linux2_1.5.7/MGLToolsPckgs/MolKit/__init__.py\", line 21, in Read\n",
      "    raise AssertionError , \"%s does't exist\" %filename\n",
      "AssertionError: 153.mol2 does't exist\n",
      "Traceback (most recent call last):\n",
      "  File \"/home/nfernandez/unit/mgltools_x86_64Linux2_1.5.7/MGLToolsPckgs/AutoDockTools/Utilities24/prepare_ligand4.py\", line 185, in <module>\n",
      "    mols = Read(ligand_filename)\n",
      "  File \"/home/nfernandez/unit/mgltools_x86_64Linux2_1.5.7/MGLToolsPckgs/MolKit/__init__.py\", line 21, in Read\n",
      "    raise AssertionError , \"%s does't exist\" %filename\n",
      "AssertionError: 89.mol2 does't exist\n"
     ]
    },
    {
     "name": "stdout",
     "output_type": "stream",
     "text": [
      "Convertido: 177.mol2 a 177.pdbqt\n",
      "Convertido: 153.mol2 a 153.pdbqt\n",
      "Convertido: 89.mol2 a 89.pdbqt\n"
     ]
    },
    {
     "name": "stderr",
     "output_type": "stream",
     "text": [
      "Traceback (most recent call last):\n",
      "  File \"/home/nfernandez/unit/mgltools_x86_64Linux2_1.5.7/MGLToolsPckgs/AutoDockTools/Utilities24/prepare_ligand4.py\", line 185, in <module>\n",
      "    mols = Read(ligand_filename)\n",
      "  File \"/home/nfernandez/unit/mgltools_x86_64Linux2_1.5.7/MGLToolsPckgs/MolKit/__init__.py\", line 21, in Read\n",
      "    raise AssertionError , \"%s does't exist\" %filename\n",
      "AssertionError: 35.mol2 does't exist\n",
      "Traceback (most recent call last):\n",
      "  File \"/home/nfernandez/unit/mgltools_x86_64Linux2_1.5.7/MGLToolsPckgs/AutoDockTools/Utilities24/prepare_ligand4.py\", line 185, in <module>\n",
      "    mols = Read(ligand_filename)\n",
      "  File \"/home/nfernandez/unit/mgltools_x86_64Linux2_1.5.7/MGLToolsPckgs/MolKit/__init__.py\", line 21, in Read\n",
      "    raise AssertionError , \"%s does't exist\" %filename\n",
      "AssertionError: 31.mol2 does't exist\n",
      "Traceback (most recent call last):\n",
      "  File \"/home/nfernandez/unit/mgltools_x86_64Linux2_1.5.7/MGLToolsPckgs/AutoDockTools/Utilities24/prepare_ligand4.py\", line 185, in <module>\n",
      "    mols = Read(ligand_filename)\n",
      "  File \"/home/nfernandez/unit/mgltools_x86_64Linux2_1.5.7/MGLToolsPckgs/MolKit/__init__.py\", line 21, in Read\n",
      "    raise AssertionError , \"%s does't exist\" %filename\n",
      "AssertionError: 37.mol2 does't exist\n"
     ]
    },
    {
     "name": "stdout",
     "output_type": "stream",
     "text": [
      "Convertido: 35.mol2 a 35.pdbqt\n",
      "Convertido: 31.mol2 a 31.pdbqt\n",
      "Convertido: 37.mol2 a 37.pdbqt\n"
     ]
    },
    {
     "name": "stderr",
     "output_type": "stream",
     "text": [
      "Traceback (most recent call last):\n",
      "  File \"/home/nfernandez/unit/mgltools_x86_64Linux2_1.5.7/MGLToolsPckgs/AutoDockTools/Utilities24/prepare_ligand4.py\", line 185, in <module>\n",
      "    mols = Read(ligand_filename)\n",
      "  File \"/home/nfernandez/unit/mgltools_x86_64Linux2_1.5.7/MGLToolsPckgs/MolKit/__init__.py\", line 21, in Read\n",
      "    raise AssertionError , \"%s does't exist\" %filename\n",
      "AssertionError: 154.mol2 does't exist\n",
      "Traceback (most recent call last):\n",
      "  File \"/home/nfernandez/unit/mgltools_x86_64Linux2_1.5.7/MGLToolsPckgs/AutoDockTools/Utilities24/prepare_ligand4.py\", line 185, in <module>\n",
      "    mols = Read(ligand_filename)\n",
      "  File \"/home/nfernandez/unit/mgltools_x86_64Linux2_1.5.7/MGLToolsPckgs/MolKit/__init__.py\", line 21, in Read\n",
      "    raise AssertionError , \"%s does't exist\" %filename\n",
      "AssertionError: 49.mol2 does't exist\n",
      "Traceback (most recent call last):\n",
      "  File \"/home/nfernandez/unit/mgltools_x86_64Linux2_1.5.7/MGLToolsPckgs/AutoDockTools/Utilities24/prepare_ligand4.py\", line 185, in <module>\n",
      "    mols = Read(ligand_filename)\n",
      "  File \"/home/nfernandez/unit/mgltools_x86_64Linux2_1.5.7/MGLToolsPckgs/MolKit/__init__.py\", line 21, in Read\n",
      "    raise AssertionError , \"%s does't exist\" %filename\n",
      "AssertionError: 254.mol2 does't exist\n"
     ]
    },
    {
     "name": "stdout",
     "output_type": "stream",
     "text": [
      "Convertido: 154.mol2 a 154.pdbqt\n",
      "Convertido: 49.mol2 a 49.pdbqt\n",
      "Convertido: 254.mol2 a 254.pdbqt\n"
     ]
    },
    {
     "name": "stderr",
     "output_type": "stream",
     "text": [
      "Traceback (most recent call last):\n",
      "  File \"/home/nfernandez/unit/mgltools_x86_64Linux2_1.5.7/MGLToolsPckgs/AutoDockTools/Utilities24/prepare_ligand4.py\", line 185, in <module>\n",
      "    mols = Read(ligand_filename)\n",
      "  File \"/home/nfernandez/unit/mgltools_x86_64Linux2_1.5.7/MGLToolsPckgs/MolKit/__init__.py\", line 21, in Read\n",
      "    raise AssertionError , \"%s does't exist\" %filename\n",
      "AssertionError: 135.mol2 does't exist\n",
      "Traceback (most recent call last):\n",
      "  File \"/home/nfernandez/unit/mgltools_x86_64Linux2_1.5.7/MGLToolsPckgs/AutoDockTools/Utilities24/prepare_ligand4.py\", line 185, in <module>\n",
      "    mols = Read(ligand_filename)\n",
      "  File \"/home/nfernandez/unit/mgltools_x86_64Linux2_1.5.7/MGLToolsPckgs/MolKit/__init__.py\", line 21, in Read\n",
      "    raise AssertionError , \"%s does't exist\" %filename\n",
      "AssertionError: 70.mol2 does't exist\n",
      "Traceback (most recent call last):\n",
      "  File \"/home/nfernandez/unit/mgltools_x86_64Linux2_1.5.7/MGLToolsPckgs/AutoDockTools/Utilities24/prepare_ligand4.py\", line 185, in <module>\n",
      "    mols = Read(ligand_filename)\n",
      "  File \"/home/nfernandez/unit/mgltools_x86_64Linux2_1.5.7/MGLToolsPckgs/MolKit/__init__.py\", line 21, in Read\n",
      "    raise AssertionError , \"%s does't exist\" %filename\n",
      "AssertionError: 88.mol2 does't exist\n"
     ]
    },
    {
     "name": "stdout",
     "output_type": "stream",
     "text": [
      "Convertido: 135.mol2 a 135.pdbqt\n",
      "Convertido: 70.mol2 a 70.pdbqt\n",
      "Convertido: 88.mol2 a 88.pdbqt\n"
     ]
    },
    {
     "name": "stderr",
     "output_type": "stream",
     "text": [
      "Traceback (most recent call last):\n",
      "  File \"/home/nfernandez/unit/mgltools_x86_64Linux2_1.5.7/MGLToolsPckgs/AutoDockTools/Utilities24/prepare_ligand4.py\", line 185, in <module>\n",
      "    mols = Read(ligand_filename)\n",
      "  File \"/home/nfernandez/unit/mgltools_x86_64Linux2_1.5.7/MGLToolsPckgs/MolKit/__init__.py\", line 21, in Read\n",
      "    raise AssertionError , \"%s does't exist\" %filename\n",
      "AssertionError: 191.mol2 does't exist\n",
      "Traceback (most recent call last):\n",
      "  File \"/home/nfernandez/unit/mgltools_x86_64Linux2_1.5.7/MGLToolsPckgs/AutoDockTools/Utilities24/prepare_ligand4.py\", line 185, in <module>\n",
      "    mols = Read(ligand_filename)\n",
      "  File \"/home/nfernandez/unit/mgltools_x86_64Linux2_1.5.7/MGLToolsPckgs/MolKit/__init__.py\", line 21, in Read\n",
      "    raise AssertionError , \"%s does't exist\" %filename\n",
      "AssertionError: 116.mol2 does't exist\n",
      "Traceback (most recent call last):\n",
      "  File \"/home/nfernandez/unit/mgltools_x86_64Linux2_1.5.7/MGLToolsPckgs/AutoDockTools/Utilities24/prepare_ligand4.py\", line 185, in <module>\n",
      "    mols = Read(ligand_filename)\n",
      "  File \"/home/nfernandez/unit/mgltools_x86_64Linux2_1.5.7/MGLToolsPckgs/MolKit/__init__.py\", line 21, in Read\n",
      "    raise AssertionError , \"%s does't exist\" %filename\n",
      "AssertionError: 223.mol2 does't exist\n"
     ]
    },
    {
     "name": "stdout",
     "output_type": "stream",
     "text": [
      "Convertido: 191.mol2 a 191.pdbqt\n",
      "Convertido: 116.mol2 a 116.pdbqt\n",
      "Convertido: 223.mol2 a 223.pdbqt\n"
     ]
    },
    {
     "name": "stderr",
     "output_type": "stream",
     "text": [
      "Traceback (most recent call last):\n",
      "  File \"/home/nfernandez/unit/mgltools_x86_64Linux2_1.5.7/MGLToolsPckgs/AutoDockTools/Utilities24/prepare_ligand4.py\", line 185, in <module>\n",
      "    mols = Read(ligand_filename)\n",
      "  File \"/home/nfernandez/unit/mgltools_x86_64Linux2_1.5.7/MGLToolsPckgs/MolKit/__init__.py\", line 21, in Read\n",
      "    raise AssertionError , \"%s does't exist\" %filename\n",
      "AssertionError: 188.mol2 does't exist\n",
      "Traceback (most recent call last):\n",
      "  File \"/home/nfernandez/unit/mgltools_x86_64Linux2_1.5.7/MGLToolsPckgs/AutoDockTools/Utilities24/prepare_ligand4.py\", line 185, in <module>\n",
      "    mols = Read(ligand_filename)\n",
      "  File \"/home/nfernandez/unit/mgltools_x86_64Linux2_1.5.7/MGLToolsPckgs/MolKit/__init__.py\", line 21, in Read\n",
      "    raise AssertionError , \"%s does't exist\" %filename\n",
      "AssertionError: 233.mol2 does't exist\n",
      "Traceback (most recent call last):\n",
      "  File \"/home/nfernandez/unit/mgltools_x86_64Linux2_1.5.7/MGLToolsPckgs/AutoDockTools/Utilities24/prepare_ligand4.py\", line 185, in <module>\n",
      "    mols = Read(ligand_filename)\n",
      "  File \"/home/nfernandez/unit/mgltools_x86_64Linux2_1.5.7/MGLToolsPckgs/MolKit/__init__.py\", line 21, in Read\n",
      "    raise AssertionError , \"%s does't exist\" %filename\n",
      "AssertionError: 141.mol2 does't exist\n"
     ]
    },
    {
     "name": "stdout",
     "output_type": "stream",
     "text": [
      "Convertido: 188.mol2 a 188.pdbqt\n",
      "Convertido: 233.mol2 a 233.pdbqt\n",
      "Convertido: 141.mol2 a 141.pdbqt\n"
     ]
    },
    {
     "name": "stderr",
     "output_type": "stream",
     "text": [
      "Traceback (most recent call last):\n",
      "  File \"/home/nfernandez/unit/mgltools_x86_64Linux2_1.5.7/MGLToolsPckgs/AutoDockTools/Utilities24/prepare_ligand4.py\", line 185, in <module>\n",
      "    mols = Read(ligand_filename)\n",
      "  File \"/home/nfernandez/unit/mgltools_x86_64Linux2_1.5.7/MGLToolsPckgs/MolKit/__init__.py\", line 21, in Read\n",
      "    raise AssertionError , \"%s does't exist\" %filename\n",
      "AssertionError: 72.mol2 does't exist\n",
      "Traceback (most recent call last):\n",
      "  File \"/home/nfernandez/unit/mgltools_x86_64Linux2_1.5.7/MGLToolsPckgs/AutoDockTools/Utilities24/prepare_ligand4.py\", line 185, in <module>\n",
      "    mols = Read(ligand_filename)\n",
      "  File \"/home/nfernandez/unit/mgltools_x86_64Linux2_1.5.7/MGLToolsPckgs/MolKit/__init__.py\", line 21, in Read\n",
      "    raise AssertionError , \"%s does't exist\" %filename\n",
      "AssertionError: 156.mol2 does't exist\n",
      "Traceback (most recent call last):\n",
      "  File \"/home/nfernandez/unit/mgltools_x86_64Linux2_1.5.7/MGLToolsPckgs/AutoDockTools/Utilities24/prepare_ligand4.py\", line 185, in <module>\n",
      "    mols = Read(ligand_filename)\n",
      "  File \"/home/nfernandez/unit/mgltools_x86_64Linux2_1.5.7/MGLToolsPckgs/MolKit/__init__.py\", line 21, in Read\n",
      "    raise AssertionError , \"%s does't exist\" %filename\n",
      "AssertionError: 227.mol2 does't exist\n"
     ]
    },
    {
     "name": "stdout",
     "output_type": "stream",
     "text": [
      "Convertido: 72.mol2 a 72.pdbqt\n",
      "Convertido: 156.mol2 a 156.pdbqt\n",
      "Convertido: 227.mol2 a 227.pdbqt\n"
     ]
    },
    {
     "name": "stderr",
     "output_type": "stream",
     "text": [
      "Traceback (most recent call last):\n",
      "  File \"/home/nfernandez/unit/mgltools_x86_64Linux2_1.5.7/MGLToolsPckgs/AutoDockTools/Utilities24/prepare_ligand4.py\", line 185, in <module>\n",
      "    mols = Read(ligand_filename)\n",
      "  File \"/home/nfernandez/unit/mgltools_x86_64Linux2_1.5.7/MGLToolsPckgs/MolKit/__init__.py\", line 21, in Read\n",
      "    raise AssertionError , \"%s does't exist\" %filename\n",
      "AssertionError: 203.mol2 does't exist\n",
      "Traceback (most recent call last):\n",
      "  File \"/home/nfernandez/unit/mgltools_x86_64Linux2_1.5.7/MGLToolsPckgs/AutoDockTools/Utilities24/prepare_ligand4.py\", line 185, in <module>\n",
      "    mols = Read(ligand_filename)\n",
      "  File \"/home/nfernandez/unit/mgltools_x86_64Linux2_1.5.7/MGLToolsPckgs/MolKit/__init__.py\", line 21, in Read\n",
      "    raise AssertionError , \"%s does't exist\" %filename\n",
      "AssertionError: 187.mol2 does't exist\n",
      "Traceback (most recent call last):\n",
      "  File \"/home/nfernandez/unit/mgltools_x86_64Linux2_1.5.7/MGLToolsPckgs/AutoDockTools/Utilities24/prepare_ligand4.py\", line 185, in <module>\n",
      "    mols = Read(ligand_filename)\n",
      "  File \"/home/nfernandez/unit/mgltools_x86_64Linux2_1.5.7/MGLToolsPckgs/MolKit/__init__.py\", line 21, in Read\n",
      "    raise AssertionError , \"%s does't exist\" %filename\n",
      "AssertionError: 132.mol2 does't exist\n"
     ]
    },
    {
     "name": "stdout",
     "output_type": "stream",
     "text": [
      "Convertido: 203.mol2 a 203.pdbqt\n",
      "Convertido: 187.mol2 a 187.pdbqt\n",
      "Convertido: 132.mol2 a 132.pdbqt\n"
     ]
    },
    {
     "name": "stderr",
     "output_type": "stream",
     "text": [
      "Traceback (most recent call last):\n",
      "  File \"/home/nfernandez/unit/mgltools_x86_64Linux2_1.5.7/MGLToolsPckgs/AutoDockTools/Utilities24/prepare_ligand4.py\", line 185, in <module>\n",
      "    mols = Read(ligand_filename)\n",
      "  File \"/home/nfernandez/unit/mgltools_x86_64Linux2_1.5.7/MGLToolsPckgs/MolKit/__init__.py\", line 21, in Read\n",
      "    raise AssertionError , \"%s does't exist\" %filename\n",
      "AssertionError: 69.mol2 does't exist\n",
      "Traceback (most recent call last):\n",
      "  File \"/home/nfernandez/unit/mgltools_x86_64Linux2_1.5.7/MGLToolsPckgs/AutoDockTools/Utilities24/prepare_ligand4.py\", line 185, in <module>\n",
      "    mols = Read(ligand_filename)\n",
      "  File \"/home/nfernandez/unit/mgltools_x86_64Linux2_1.5.7/MGLToolsPckgs/MolKit/__init__.py\", line 21, in Read\n",
      "    raise AssertionError , \"%s does't exist\" %filename\n",
      "AssertionError: 243.mol2 does't exist\n",
      "Traceback (most recent call last):\n",
      "  File \"/home/nfernandez/unit/mgltools_x86_64Linux2_1.5.7/MGLToolsPckgs/AutoDockTools/Utilities24/prepare_ligand4.py\", line 185, in <module>\n",
      "    mols = Read(ligand_filename)\n",
      "  File \"/home/nfernandez/unit/mgltools_x86_64Linux2_1.5.7/MGLToolsPckgs/MolKit/__init__.py\", line 21, in Read\n",
      "    raise AssertionError , \"%s does't exist\" %filename\n",
      "AssertionError: 240.mol2 does't exist\n"
     ]
    },
    {
     "name": "stdout",
     "output_type": "stream",
     "text": [
      "Convertido: 69.mol2 a 69.pdbqt\n",
      "Convertido: 243.mol2 a 243.pdbqt\n",
      "Convertido: 240.mol2 a 240.pdbqt\n"
     ]
    },
    {
     "name": "stderr",
     "output_type": "stream",
     "text": [
      "Traceback (most recent call last):\n",
      "  File \"/home/nfernandez/unit/mgltools_x86_64Linux2_1.5.7/MGLToolsPckgs/AutoDockTools/Utilities24/prepare_ligand4.py\", line 185, in <module>\n",
      "    mols = Read(ligand_filename)\n",
      "  File \"/home/nfernandez/unit/mgltools_x86_64Linux2_1.5.7/MGLToolsPckgs/MolKit/__init__.py\", line 21, in Read\n",
      "    raise AssertionError , \"%s does't exist\" %filename\n",
      "AssertionError: 61.mol2 does't exist\n",
      "Traceback (most recent call last):\n",
      "  File \"/home/nfernandez/unit/mgltools_x86_64Linux2_1.5.7/MGLToolsPckgs/AutoDockTools/Utilities24/prepare_ligand4.py\", line 185, in <module>\n",
      "    mols = Read(ligand_filename)\n",
      "  File \"/home/nfernandez/unit/mgltools_x86_64Linux2_1.5.7/MGLToolsPckgs/MolKit/__init__.py\", line 21, in Read\n",
      "    raise AssertionError , \"%s does't exist\" %filename\n",
      "AssertionError: 163.mol2 does't exist\n",
      "Traceback (most recent call last):\n",
      "  File \"/home/nfernandez/unit/mgltools_x86_64Linux2_1.5.7/MGLToolsPckgs/AutoDockTools/Utilities24/prepare_ligand4.py\", line 185, in <module>\n",
      "    mols = Read(ligand_filename)\n",
      "  File \"/home/nfernandez/unit/mgltools_x86_64Linux2_1.5.7/MGLToolsPckgs/MolKit/__init__.py\", line 21, in Read\n",
      "    raise AssertionError , \"%s does't exist\" %filename\n",
      "AssertionError: 62.mol2 does't exist\n"
     ]
    },
    {
     "name": "stdout",
     "output_type": "stream",
     "text": [
      "Convertido: 61.mol2 a 61.pdbqt\n",
      "Convertido: 163.mol2 a 163.pdbqt\n",
      "Convertido: 62.mol2 a 62.pdbqt\n"
     ]
    },
    {
     "name": "stderr",
     "output_type": "stream",
     "text": [
      "Traceback (most recent call last):\n",
      "  File \"/home/nfernandez/unit/mgltools_x86_64Linux2_1.5.7/MGLToolsPckgs/AutoDockTools/Utilities24/prepare_ligand4.py\", line 185, in <module>\n",
      "    mols = Read(ligand_filename)\n",
      "  File \"/home/nfernandez/unit/mgltools_x86_64Linux2_1.5.7/MGLToolsPckgs/MolKit/__init__.py\", line 21, in Read\n",
      "    raise AssertionError , \"%s does't exist\" %filename\n",
      "AssertionError: 197.mol2 does't exist\n",
      "Traceback (most recent call last):\n",
      "  File \"/home/nfernandez/unit/mgltools_x86_64Linux2_1.5.7/MGLToolsPckgs/AutoDockTools/Utilities24/prepare_ligand4.py\", line 185, in <module>\n",
      "    mols = Read(ligand_filename)\n",
      "  File \"/home/nfernandez/unit/mgltools_x86_64Linux2_1.5.7/MGLToolsPckgs/MolKit/__init__.py\", line 21, in Read\n",
      "    raise AssertionError , \"%s does't exist\" %filename\n",
      "AssertionError: 228.mol2 does't exist\n",
      "Traceback (most recent call last):\n",
      "  File \"/home/nfernandez/unit/mgltools_x86_64Linux2_1.5.7/MGLToolsPckgs/AutoDockTools/Utilities24/prepare_ligand4.py\", line 185, in <module>\n",
      "    mols = Read(ligand_filename)\n",
      "  File \"/home/nfernandez/unit/mgltools_x86_64Linux2_1.5.7/MGLToolsPckgs/MolKit/__init__.py\", line 21, in Read\n",
      "    raise AssertionError , \"%s does't exist\" %filename\n",
      "AssertionError: 114.mol2 does't exist\n"
     ]
    },
    {
     "name": "stdout",
     "output_type": "stream",
     "text": [
      "Convertido: 197.mol2 a 197.pdbqt\n",
      "Convertido: 228.mol2 a 228.pdbqt\n",
      "Convertido: 114.mol2 a 114.pdbqt\n"
     ]
    },
    {
     "name": "stderr",
     "output_type": "stream",
     "text": [
      "Traceback (most recent call last):\n",
      "  File \"/home/nfernandez/unit/mgltools_x86_64Linux2_1.5.7/MGLToolsPckgs/AutoDockTools/Utilities24/prepare_ligand4.py\", line 185, in <module>\n",
      "    mols = Read(ligand_filename)\n",
      "  File \"/home/nfernandez/unit/mgltools_x86_64Linux2_1.5.7/MGLToolsPckgs/MolKit/__init__.py\", line 21, in Read\n",
      "    raise AssertionError , \"%s does't exist\" %filename\n",
      "AssertionError: 216.mol2 does't exist\n",
      "Traceback (most recent call last):\n",
      "  File \"/home/nfernandez/unit/mgltools_x86_64Linux2_1.5.7/MGLToolsPckgs/AutoDockTools/Utilities24/prepare_ligand4.py\", line 185, in <module>\n",
      "    mols = Read(ligand_filename)\n",
      "  File \"/home/nfernandez/unit/mgltools_x86_64Linux2_1.5.7/MGLToolsPckgs/MolKit/__init__.py\", line 21, in Read\n",
      "    raise AssertionError , \"%s does't exist\" %filename\n",
      "AssertionError: 235.mol2 does't exist\n",
      "Traceback (most recent call last):\n",
      "  File \"/home/nfernandez/unit/mgltools_x86_64Linux2_1.5.7/MGLToolsPckgs/AutoDockTools/Utilities24/prepare_ligand4.py\", line 185, in <module>\n",
      "    mols = Read(ligand_filename)\n",
      "  File \"/home/nfernandez/unit/mgltools_x86_64Linux2_1.5.7/MGLToolsPckgs/MolKit/__init__.py\", line 21, in Read\n",
      "    raise AssertionError , \"%s does't exist\" %filename\n",
      "AssertionError: 68.mol2 does't exist\n"
     ]
    },
    {
     "name": "stdout",
     "output_type": "stream",
     "text": [
      "Convertido: 216.mol2 a 216.pdbqt\n",
      "Convertido: 235.mol2 a 235.pdbqt\n",
      "Convertido: 68.mol2 a 68.pdbqt\n"
     ]
    },
    {
     "name": "stderr",
     "output_type": "stream",
     "text": [
      "Traceback (most recent call last):\n",
      "  File \"/home/nfernandez/unit/mgltools_x86_64Linux2_1.5.7/MGLToolsPckgs/AutoDockTools/Utilities24/prepare_ligand4.py\", line 185, in <module>\n",
      "    mols = Read(ligand_filename)\n",
      "  File \"/home/nfernandez/unit/mgltools_x86_64Linux2_1.5.7/MGLToolsPckgs/MolKit/__init__.py\", line 21, in Read\n",
      "    raise AssertionError , \"%s does't exist\" %filename\n",
      "AssertionError: 173.mol2 does't exist\n",
      "Traceback (most recent call last):\n",
      "  File \"/home/nfernandez/unit/mgltools_x86_64Linux2_1.5.7/MGLToolsPckgs/AutoDockTools/Utilities24/prepare_ligand4.py\", line 185, in <module>\n",
      "    mols = Read(ligand_filename)\n",
      "  File \"/home/nfernandez/unit/mgltools_x86_64Linux2_1.5.7/MGLToolsPckgs/MolKit/__init__.py\", line 21, in Read\n",
      "    raise AssertionError , \"%s does't exist\" %filename\n",
      "AssertionError: 13.mol2 does't exist\n",
      "Traceback (most recent call last):\n",
      "  File \"/home/nfernandez/unit/mgltools_x86_64Linux2_1.5.7/MGLToolsPckgs/AutoDockTools/Utilities24/prepare_ligand4.py\", line 185, in <module>\n",
      "    mols = Read(ligand_filename)\n",
      "  File \"/home/nfernandez/unit/mgltools_x86_64Linux2_1.5.7/MGLToolsPckgs/MolKit/__init__.py\", line 21, in Read\n",
      "    raise AssertionError , \"%s does't exist\" %filename\n",
      "AssertionError: 27.mol2 does't exist\n"
     ]
    },
    {
     "name": "stdout",
     "output_type": "stream",
     "text": [
      "Convertido: 173.mol2 a 173.pdbqt\n",
      "Convertido: 13.mol2 a 13.pdbqt\n",
      "Convertido: 27.mol2 a 27.pdbqt\n"
     ]
    },
    {
     "name": "stderr",
     "output_type": "stream",
     "text": [
      "Traceback (most recent call last):\n",
      "  File \"/home/nfernandez/unit/mgltools_x86_64Linux2_1.5.7/MGLToolsPckgs/AutoDockTools/Utilities24/prepare_ligand4.py\", line 185, in <module>\n",
      "    mols = Read(ligand_filename)\n",
      "  File \"/home/nfernandez/unit/mgltools_x86_64Linux2_1.5.7/MGLToolsPckgs/MolKit/__init__.py\", line 21, in Read\n",
      "    raise AssertionError , \"%s does't exist\" %filename\n",
      "AssertionError: 50.mol2 does't exist\n",
      "Traceback (most recent call last):\n",
      "  File \"/home/nfernandez/unit/mgltools_x86_64Linux2_1.5.7/MGLToolsPckgs/AutoDockTools/Utilities24/prepare_ligand4.py\", line 185, in <module>\n",
      "    mols = Read(ligand_filename)\n",
      "  File \"/home/nfernandez/unit/mgltools_x86_64Linux2_1.5.7/MGLToolsPckgs/MolKit/__init__.py\", line 21, in Read\n",
      "    raise AssertionError , \"%s does't exist\" %filename\n",
      "AssertionError: 215.mol2 does't exist\n",
      "Traceback (most recent call last):\n",
      "  File \"/home/nfernandez/unit/mgltools_x86_64Linux2_1.5.7/MGLToolsPckgs/AutoDockTools/Utilities24/prepare_ligand4.py\", line 185, in <module>\n",
      "    mols = Read(ligand_filename)\n",
      "  File \"/home/nfernandez/unit/mgltools_x86_64Linux2_1.5.7/MGLToolsPckgs/MolKit/__init__.py\", line 21, in Read\n",
      "    raise AssertionError , \"%s does't exist\" %filename\n",
      "AssertionError: 134.mol2 does't exist\n"
     ]
    },
    {
     "name": "stdout",
     "output_type": "stream",
     "text": [
      "Convertido: 50.mol2 a 50.pdbqt\n",
      "Convertido: 215.mol2 a 215.pdbqt\n",
      "Convertido: 134.mol2 a 134.pdbqt\n"
     ]
    },
    {
     "name": "stderr",
     "output_type": "stream",
     "text": [
      "Traceback (most recent call last):\n",
      "  File \"/home/nfernandez/unit/mgltools_x86_64Linux2_1.5.7/MGLToolsPckgs/AutoDockTools/Utilities24/prepare_ligand4.py\", line 185, in <module>\n",
      "    mols = Read(ligand_filename)\n",
      "  File \"/home/nfernandez/unit/mgltools_x86_64Linux2_1.5.7/MGLToolsPckgs/MolKit/__init__.py\", line 21, in Read\n",
      "    raise AssertionError , \"%s does't exist\" %filename\n",
      "AssertionError: 140.mol2 does't exist\n",
      "Traceback (most recent call last):\n",
      "  File \"/home/nfernandez/unit/mgltools_x86_64Linux2_1.5.7/MGLToolsPckgs/AutoDockTools/Utilities24/prepare_ligand4.py\", line 185, in <module>\n",
      "    mols = Read(ligand_filename)\n",
      "  File \"/home/nfernandez/unit/mgltools_x86_64Linux2_1.5.7/MGLToolsPckgs/MolKit/__init__.py\", line 21, in Read\n",
      "    raise AssertionError , \"%s does't exist\" %filename\n",
      "AssertionError: 150.mol2 does't exist\n",
      "Traceback (most recent call last):\n",
      "  File \"/home/nfernandez/unit/mgltools_x86_64Linux2_1.5.7/MGLToolsPckgs/AutoDockTools/Utilities24/prepare_ligand4.py\", line 185, in <module>\n",
      "    mols = Read(ligand_filename)\n",
      "  File \"/home/nfernandez/unit/mgltools_x86_64Linux2_1.5.7/MGLToolsPckgs/MolKit/__init__.py\", line 21, in Read\n",
      "    raise AssertionError , \"%s does't exist\" %filename\n",
      "AssertionError: 20.mol2 does't exist\n"
     ]
    },
    {
     "name": "stdout",
     "output_type": "stream",
     "text": [
      "Convertido: 140.mol2 a 140.pdbqt\n",
      "Convertido: 150.mol2 a 150.pdbqt\n",
      "Convertido: 20.mol2 a 20.pdbqt\n"
     ]
    },
    {
     "name": "stderr",
     "output_type": "stream",
     "text": [
      "Traceback (most recent call last):\n",
      "  File \"/home/nfernandez/unit/mgltools_x86_64Linux2_1.5.7/MGLToolsPckgs/AutoDockTools/Utilities24/prepare_ligand4.py\", line 185, in <module>\n",
      "    mols = Read(ligand_filename)\n",
      "  File \"/home/nfernandez/unit/mgltools_x86_64Linux2_1.5.7/MGLToolsPckgs/MolKit/__init__.py\", line 21, in Read\n",
      "    raise AssertionError , \"%s does't exist\" %filename\n",
      "AssertionError: 94.mol2 does't exist\n",
      "Traceback (most recent call last):\n",
      "  File \"/home/nfernandez/unit/mgltools_x86_64Linux2_1.5.7/MGLToolsPckgs/AutoDockTools/Utilities24/prepare_ligand4.py\", line 185, in <module>\n",
      "    mols = Read(ligand_filename)\n",
      "  File \"/home/nfernandez/unit/mgltools_x86_64Linux2_1.5.7/MGLToolsPckgs/MolKit/__init__.py\", line 21, in Read\n",
      "    raise AssertionError , \"%s does't exist\" %filename\n",
      "AssertionError: 22.mol2 does't exist\n",
      "Traceback (most recent call last):\n",
      "  File \"/home/nfernandez/unit/mgltools_x86_64Linux2_1.5.7/MGLToolsPckgs/AutoDockTools/Utilities24/prepare_ligand4.py\", line 185, in <module>\n",
      "    mols = Read(ligand_filename)\n",
      "  File \"/home/nfernandez/unit/mgltools_x86_64Linux2_1.5.7/MGLToolsPckgs/MolKit/__init__.py\", line 21, in Read\n",
      "    raise AssertionError , \"%s does't exist\" %filename\n",
      "AssertionError: 76.mol2 does't exist\n"
     ]
    },
    {
     "name": "stdout",
     "output_type": "stream",
     "text": [
      "Convertido: 94.mol2 a 94.pdbqt\n",
      "Convertido: 22.mol2 a 22.pdbqt\n",
      "Convertido: 76.mol2 a 76.pdbqt\n"
     ]
    },
    {
     "name": "stderr",
     "output_type": "stream",
     "text": [
      "Traceback (most recent call last):\n",
      "  File \"/home/nfernandez/unit/mgltools_x86_64Linux2_1.5.7/MGLToolsPckgs/AutoDockTools/Utilities24/prepare_ligand4.py\", line 185, in <module>\n",
      "    mols = Read(ligand_filename)\n",
      "  File \"/home/nfernandez/unit/mgltools_x86_64Linux2_1.5.7/MGLToolsPckgs/MolKit/__init__.py\", line 21, in Read\n",
      "    raise AssertionError , \"%s does't exist\" %filename\n",
      "AssertionError: 41.mol2 does't exist\n",
      "Traceback (most recent call last):\n",
      "  File \"/home/nfernandez/unit/mgltools_x86_64Linux2_1.5.7/MGLToolsPckgs/AutoDockTools/Utilities24/prepare_ligand4.py\", line 185, in <module>\n",
      "    mols = Read(ligand_filename)\n",
      "  File \"/home/nfernandez/unit/mgltools_x86_64Linux2_1.5.7/MGLToolsPckgs/MolKit/__init__.py\", line 21, in Read\n",
      "    raise AssertionError , \"%s does't exist\" %filename\n",
      "AssertionError: 113.mol2 does't exist\n",
      "Traceback (most recent call last):\n",
      "  File \"/home/nfernandez/unit/mgltools_x86_64Linux2_1.5.7/MGLToolsPckgs/AutoDockTools/Utilities24/prepare_ligand4.py\", line 185, in <module>\n",
      "    mols = Read(ligand_filename)\n",
      "  File \"/home/nfernandez/unit/mgltools_x86_64Linux2_1.5.7/MGLToolsPckgs/MolKit/__init__.py\", line 21, in Read\n",
      "    raise AssertionError , \"%s does't exist\" %filename\n",
      "AssertionError: 157.mol2 does't exist\n"
     ]
    },
    {
     "name": "stdout",
     "output_type": "stream",
     "text": [
      "Convertido: 41.mol2 a 41.pdbqt\n",
      "Convertido: 113.mol2 a 113.pdbqt\n",
      "Convertido: 157.mol2 a 157.pdbqt\n"
     ]
    },
    {
     "name": "stderr",
     "output_type": "stream",
     "text": [
      "Traceback (most recent call last):\n",
      "  File \"/home/nfernandez/unit/mgltools_x86_64Linux2_1.5.7/MGLToolsPckgs/AutoDockTools/Utilities24/prepare_ligand4.py\", line 185, in <module>\n",
      "    mols = Read(ligand_filename)\n",
      "  File \"/home/nfernandez/unit/mgltools_x86_64Linux2_1.5.7/MGLToolsPckgs/MolKit/__init__.py\", line 21, in Read\n",
      "    raise AssertionError , \"%s does't exist\" %filename\n",
      "AssertionError: 117.mol2 does't exist\n",
      "Traceback (most recent call last):\n",
      "  File \"/home/nfernandez/unit/mgltools_x86_64Linux2_1.5.7/MGLToolsPckgs/AutoDockTools/Utilities24/prepare_ligand4.py\", line 185, in <module>\n",
      "    mols = Read(ligand_filename)\n",
      "  File \"/home/nfernandez/unit/mgltools_x86_64Linux2_1.5.7/MGLToolsPckgs/MolKit/__init__.py\", line 21, in Read\n",
      "    raise AssertionError , \"%s does't exist\" %filename\n",
      "AssertionError: 80.mol2 does't exist\n",
      "Traceback (most recent call last):\n",
      "  File \"/home/nfernandez/unit/mgltools_x86_64Linux2_1.5.7/MGLToolsPckgs/AutoDockTools/Utilities24/prepare_ligand4.py\", line 185, in <module>\n",
      "    mols = Read(ligand_filename)\n",
      "  File \"/home/nfernandez/unit/mgltools_x86_64Linux2_1.5.7/MGLToolsPckgs/MolKit/__init__.py\", line 21, in Read\n",
      "    raise AssertionError , \"%s does't exist\" %filename\n",
      "AssertionError: 244.mol2 does't exist\n"
     ]
    },
    {
     "name": "stdout",
     "output_type": "stream",
     "text": [
      "Convertido: 117.mol2 a 117.pdbqt\n",
      "Convertido: 80.mol2 a 80.pdbqt\n",
      "Convertido: 244.mol2 a 244.pdbqt\n"
     ]
    },
    {
     "name": "stderr",
     "output_type": "stream",
     "text": [
      "Traceback (most recent call last):\n",
      "  File \"/home/nfernandez/unit/mgltools_x86_64Linux2_1.5.7/MGLToolsPckgs/AutoDockTools/Utilities24/prepare_ligand4.py\", line 185, in <module>\n",
      "    mols = Read(ligand_filename)\n",
      "  File \"/home/nfernandez/unit/mgltools_x86_64Linux2_1.5.7/MGLToolsPckgs/MolKit/__init__.py\", line 21, in Read\n",
      "    raise AssertionError , \"%s does't exist\" %filename\n",
      "AssertionError: 115.mol2 does't exist\n",
      "Traceback (most recent call last):\n",
      "  File \"/home/nfernandez/unit/mgltools_x86_64Linux2_1.5.7/MGLToolsPckgs/AutoDockTools/Utilities24/prepare_ligand4.py\", line 185, in <module>\n",
      "    mols = Read(ligand_filename)\n",
      "  File \"/home/nfernandez/unit/mgltools_x86_64Linux2_1.5.7/MGLToolsPckgs/MolKit/__init__.py\", line 21, in Read\n",
      "    raise AssertionError , \"%s does't exist\" %filename\n",
      "AssertionError: 6.mol2 does't exist\n",
      "Traceback (most recent call last):\n",
      "  File \"/home/nfernandez/unit/mgltools_x86_64Linux2_1.5.7/MGLToolsPckgs/AutoDockTools/Utilities24/prepare_ligand4.py\", line 185, in <module>\n",
      "    mols = Read(ligand_filename)\n",
      "  File \"/home/nfernandez/unit/mgltools_x86_64Linux2_1.5.7/MGLToolsPckgs/MolKit/__init__.py\", line 21, in Read\n",
      "    raise AssertionError , \"%s does't exist\" %filename\n",
      "AssertionError: 230.mol2 does't exist\n"
     ]
    },
    {
     "name": "stdout",
     "output_type": "stream",
     "text": [
      "Convertido: 115.mol2 a 115.pdbqt\n",
      "Convertido: 6.mol2 a 6.pdbqt\n",
      "Convertido: 230.mol2 a 230.pdbqt\n"
     ]
    },
    {
     "name": "stderr",
     "output_type": "stream",
     "text": [
      "Traceback (most recent call last):\n",
      "  File \"/home/nfernandez/unit/mgltools_x86_64Linux2_1.5.7/MGLToolsPckgs/AutoDockTools/Utilities24/prepare_ligand4.py\", line 185, in <module>\n",
      "    mols = Read(ligand_filename)\n",
      "  File \"/home/nfernandez/unit/mgltools_x86_64Linux2_1.5.7/MGLToolsPckgs/MolKit/__init__.py\", line 21, in Read\n",
      "    raise AssertionError , \"%s does't exist\" %filename\n",
      "AssertionError: 74.mol2 does't exist\n",
      "Traceback (most recent call last):\n",
      "  File \"/home/nfernandez/unit/mgltools_x86_64Linux2_1.5.7/MGLToolsPckgs/AutoDockTools/Utilities24/prepare_ligand4.py\", line 185, in <module>\n",
      "    mols = Read(ligand_filename)\n",
      "  File \"/home/nfernandez/unit/mgltools_x86_64Linux2_1.5.7/MGLToolsPckgs/MolKit/__init__.py\", line 21, in Read\n",
      "    raise AssertionError , \"%s does't exist\" %filename\n",
      "AssertionError: 122.mol2 does't exist\n",
      "Traceback (most recent call last):\n",
      "  File \"/home/nfernandez/unit/mgltools_x86_64Linux2_1.5.7/MGLToolsPckgs/AutoDockTools/Utilities24/prepare_ligand4.py\", line 185, in <module>\n",
      "    mols = Read(ligand_filename)\n",
      "  File \"/home/nfernandez/unit/mgltools_x86_64Linux2_1.5.7/MGLToolsPckgs/MolKit/__init__.py\", line 21, in Read\n",
      "    raise AssertionError , \"%s does't exist\" %filename\n",
      "AssertionError: 12.mol2 does't exist\n"
     ]
    },
    {
     "name": "stdout",
     "output_type": "stream",
     "text": [
      "Convertido: 74.mol2 a 74.pdbqt\n",
      "Convertido: 122.mol2 a 122.pdbqt\n",
      "Convertido: 12.mol2 a 12.pdbqt\n"
     ]
    },
    {
     "name": "stderr",
     "output_type": "stream",
     "text": [
      "Traceback (most recent call last):\n",
      "  File \"/home/nfernandez/unit/mgltools_x86_64Linux2_1.5.7/MGLToolsPckgs/AutoDockTools/Utilities24/prepare_ligand4.py\", line 185, in <module>\n",
      "    mols = Read(ligand_filename)\n",
      "  File \"/home/nfernandez/unit/mgltools_x86_64Linux2_1.5.7/MGLToolsPckgs/MolKit/__init__.py\", line 21, in Read\n",
      "    raise AssertionError , \"%s does't exist\" %filename\n",
      "AssertionError: 146.mol2 does't exist\n",
      "Traceback (most recent call last):\n",
      "  File \"/home/nfernandez/unit/mgltools_x86_64Linux2_1.5.7/MGLToolsPckgs/AutoDockTools/Utilities24/prepare_ligand4.py\", line 185, in <module>\n",
      "    mols = Read(ligand_filename)\n",
      "  File \"/home/nfernandez/unit/mgltools_x86_64Linux2_1.5.7/MGLToolsPckgs/MolKit/__init__.py\", line 21, in Read\n",
      "    raise AssertionError , \"%s does't exist\" %filename\n",
      "AssertionError: 190.mol2 does't exist\n",
      "Traceback (most recent call last):\n",
      "  File \"/home/nfernandez/unit/mgltools_x86_64Linux2_1.5.7/MGLToolsPckgs/AutoDockTools/Utilities24/prepare_ligand4.py\", line 185, in <module>\n",
      "    mols = Read(ligand_filename)\n",
      "  File \"/home/nfernandez/unit/mgltools_x86_64Linux2_1.5.7/MGLToolsPckgs/MolKit/__init__.py\", line 21, in Read\n",
      "    raise AssertionError , \"%s does't exist\" %filename\n",
      "AssertionError: 161.mol2 does't exist\n"
     ]
    },
    {
     "name": "stdout",
     "output_type": "stream",
     "text": [
      "Convertido: 146.mol2 a 146.pdbqt\n",
      "Convertido: 190.mol2 a 190.pdbqt\n",
      "Convertido: 161.mol2 a 161.pdbqt\n"
     ]
    },
    {
     "name": "stderr",
     "output_type": "stream",
     "text": [
      "Traceback (most recent call last):\n",
      "  File \"/home/nfernandez/unit/mgltools_x86_64Linux2_1.5.7/MGLToolsPckgs/AutoDockTools/Utilities24/prepare_ligand4.py\", line 185, in <module>\n",
      "    mols = Read(ligand_filename)\n",
      "  File \"/home/nfernandez/unit/mgltools_x86_64Linux2_1.5.7/MGLToolsPckgs/MolKit/__init__.py\", line 21, in Read\n",
      "    raise AssertionError , \"%s does't exist\" %filename\n",
      "AssertionError: 218.mol2 does't exist\n",
      "Traceback (most recent call last):\n",
      "  File \"/home/nfernandez/unit/mgltools_x86_64Linux2_1.5.7/MGLToolsPckgs/AutoDockTools/Utilities24/prepare_ligand4.py\", line 185, in <module>\n",
      "    mols = Read(ligand_filename)\n",
      "  File \"/home/nfernandez/unit/mgltools_x86_64Linux2_1.5.7/MGLToolsPckgs/MolKit/__init__.py\", line 21, in Read\n",
      "    raise AssertionError , \"%s does't exist\" %filename\n",
      "AssertionError: 60.mol2 does't exist\n",
      "Traceback (most recent call last):\n",
      "  File \"/home/nfernandez/unit/mgltools_x86_64Linux2_1.5.7/MGLToolsPckgs/AutoDockTools/Utilities24/prepare_ligand4.py\", line 185, in <module>\n",
      "    mols = Read(ligand_filename)\n",
      "  File \"/home/nfernandez/unit/mgltools_x86_64Linux2_1.5.7/MGLToolsPckgs/MolKit/__init__.py\", line 21, in Read\n",
      "    raise AssertionError , \"%s does't exist\" %filename\n",
      "AssertionError: 180.mol2 does't exist\n"
     ]
    },
    {
     "name": "stdout",
     "output_type": "stream",
     "text": [
      "Convertido: 218.mol2 a 218.pdbqt\n",
      "Convertido: 60.mol2 a 60.pdbqt\n",
      "Convertido: 180.mol2 a 180.pdbqt\n"
     ]
    },
    {
     "name": "stderr",
     "output_type": "stream",
     "text": [
      "Traceback (most recent call last):\n",
      "  File \"/home/nfernandez/unit/mgltools_x86_64Linux2_1.5.7/MGLToolsPckgs/AutoDockTools/Utilities24/prepare_ligand4.py\", line 185, in <module>\n",
      "    mols = Read(ligand_filename)\n",
      "  File \"/home/nfernandez/unit/mgltools_x86_64Linux2_1.5.7/MGLToolsPckgs/MolKit/__init__.py\", line 21, in Read\n",
      "    raise AssertionError , \"%s does't exist\" %filename\n",
      "AssertionError: 120.mol2 does't exist\n",
      "Traceback (most recent call last):\n",
      "  File \"/home/nfernandez/unit/mgltools_x86_64Linux2_1.5.7/MGLToolsPckgs/AutoDockTools/Utilities24/prepare_ligand4.py\", line 185, in <module>\n",
      "    mols = Read(ligand_filename)\n",
      "  File \"/home/nfernandez/unit/mgltools_x86_64Linux2_1.5.7/MGLToolsPckgs/MolKit/__init__.py\", line 21, in Read\n",
      "    raise AssertionError , \"%s does't exist\" %filename\n",
      "AssertionError: 71.mol2 does't exist\n",
      "Traceback (most recent call last):\n",
      "  File \"/home/nfernandez/unit/mgltools_x86_64Linux2_1.5.7/MGLToolsPckgs/AutoDockTools/Utilities24/prepare_ligand4.py\", line 185, in <module>\n",
      "    mols = Read(ligand_filename)\n",
      "  File \"/home/nfernandez/unit/mgltools_x86_64Linux2_1.5.7/MGLToolsPckgs/MolKit/__init__.py\", line 21, in Read\n",
      "    raise AssertionError , \"%s does't exist\" %filename\n",
      "AssertionError: 58.mol2 does't exist\n"
     ]
    },
    {
     "name": "stdout",
     "output_type": "stream",
     "text": [
      "Convertido: 120.mol2 a 120.pdbqt\n",
      "Convertido: 71.mol2 a 71.pdbqt\n",
      "Convertido: 58.mol2 a 58.pdbqt\n"
     ]
    },
    {
     "name": "stderr",
     "output_type": "stream",
     "text": [
      "Traceback (most recent call last):\n",
      "  File \"/home/nfernandez/unit/mgltools_x86_64Linux2_1.5.7/MGLToolsPckgs/AutoDockTools/Utilities24/prepare_ligand4.py\", line 185, in <module>\n",
      "    mols = Read(ligand_filename)\n",
      "  File \"/home/nfernandez/unit/mgltools_x86_64Linux2_1.5.7/MGLToolsPckgs/MolKit/__init__.py\", line 21, in Read\n",
      "    raise AssertionError , \"%s does't exist\" %filename\n",
      "AssertionError: 238.mol2 does't exist\n",
      "Traceback (most recent call last):\n",
      "  File \"/home/nfernandez/unit/mgltools_x86_64Linux2_1.5.7/MGLToolsPckgs/AutoDockTools/Utilities24/prepare_ligand4.py\", line 185, in <module>\n",
      "    mols = Read(ligand_filename)\n",
      "  File \"/home/nfernandez/unit/mgltools_x86_64Linux2_1.5.7/MGLToolsPckgs/MolKit/__init__.py\", line 21, in Read\n",
      "    raise AssertionError , \"%s does't exist\" %filename\n",
      "AssertionError: 10.mol2 does't exist\n",
      "Traceback (most recent call last):\n",
      "  File \"/home/nfernandez/unit/mgltools_x86_64Linux2_1.5.7/MGLToolsPckgs/AutoDockTools/Utilities24/prepare_ligand4.py\", line 185, in <module>\n",
      "    mols = Read(ligand_filename)\n",
      "  File \"/home/nfernandez/unit/mgltools_x86_64Linux2_1.5.7/MGLToolsPckgs/MolKit/__init__.py\", line 21, in Read\n",
      "    raise AssertionError , \"%s does't exist\" %filename\n",
      "AssertionError: 3.mol2 does't exist\n"
     ]
    },
    {
     "name": "stdout",
     "output_type": "stream",
     "text": [
      "Convertido: 238.mol2 a 238.pdbqt\n",
      "Convertido: 10.mol2 a 10.pdbqt\n",
      "Convertido: 3.mol2 a 3.pdbqt\n"
     ]
    },
    {
     "name": "stderr",
     "output_type": "stream",
     "text": [
      "Traceback (most recent call last):\n",
      "  File \"/home/nfernandez/unit/mgltools_x86_64Linux2_1.5.7/MGLToolsPckgs/AutoDockTools/Utilities24/prepare_ligand4.py\", line 185, in <module>\n",
      "    mols = Read(ligand_filename)\n",
      "  File \"/home/nfernandez/unit/mgltools_x86_64Linux2_1.5.7/MGLToolsPckgs/MolKit/__init__.py\", line 21, in Read\n",
      "    raise AssertionError , \"%s does't exist\" %filename\n",
      "AssertionError: 182.mol2 does't exist\n",
      "Traceback (most recent call last):\n",
      "  File \"/home/nfernandez/unit/mgltools_x86_64Linux2_1.5.7/MGLToolsPckgs/AutoDockTools/Utilities24/prepare_ligand4.py\", line 185, in <module>\n",
      "    mols = Read(ligand_filename)\n",
      "  File \"/home/nfernandez/unit/mgltools_x86_64Linux2_1.5.7/MGLToolsPckgs/MolKit/__init__.py\", line 21, in Read\n",
      "    raise AssertionError , \"%s does't exist\" %filename\n",
      "AssertionError: 198.mol2 does't exist\n",
      "Traceback (most recent call last):\n",
      "  File \"/home/nfernandez/unit/mgltools_x86_64Linux2_1.5.7/MGLToolsPckgs/AutoDockTools/Utilities24/prepare_ligand4.py\", line 185, in <module>\n",
      "    mols = Read(ligand_filename)\n",
      "  File \"/home/nfernandez/unit/mgltools_x86_64Linux2_1.5.7/MGLToolsPckgs/MolKit/__init__.py\", line 21, in Read\n",
      "    raise AssertionError , \"%s does't exist\" %filename\n",
      "AssertionError: 48.mol2 does't exist\n"
     ]
    },
    {
     "name": "stdout",
     "output_type": "stream",
     "text": [
      "Convertido: 182.mol2 a 182.pdbqt\n",
      "Convertido: 198.mol2 a 198.pdbqt\n",
      "Convertido: 48.mol2 a 48.pdbqt\n"
     ]
    },
    {
     "name": "stderr",
     "output_type": "stream",
     "text": [
      "Traceback (most recent call last):\n",
      "  File \"/home/nfernandez/unit/mgltools_x86_64Linux2_1.5.7/MGLToolsPckgs/AutoDockTools/Utilities24/prepare_ligand4.py\", line 185, in <module>\n",
      "    mols = Read(ligand_filename)\n",
      "  File \"/home/nfernandez/unit/mgltools_x86_64Linux2_1.5.7/MGLToolsPckgs/MolKit/__init__.py\", line 21, in Read\n",
      "    raise AssertionError , \"%s does't exist\" %filename\n",
      "AssertionError: 121.mol2 does't exist\n",
      "Traceback (most recent call last):\n",
      "  File \"/home/nfernandez/unit/mgltools_x86_64Linux2_1.5.7/MGLToolsPckgs/AutoDockTools/Utilities24/prepare_ligand4.py\", line 185, in <module>\n",
      "    mols = Read(ligand_filename)\n",
      "  File \"/home/nfernandez/unit/mgltools_x86_64Linux2_1.5.7/MGLToolsPckgs/MolKit/__init__.py\", line 21, in Read\n",
      "    raise AssertionError , \"%s does't exist\" %filename\n",
      "AssertionError: 4.mol2 does't exist\n",
      "Traceback (most recent call last):\n",
      "  File \"/home/nfernandez/unit/mgltools_x86_64Linux2_1.5.7/MGLToolsPckgs/AutoDockTools/Utilities24/prepare_ligand4.py\", line 185, in <module>\n",
      "    mols = Read(ligand_filename)\n",
      "  File \"/home/nfernandez/unit/mgltools_x86_64Linux2_1.5.7/MGLToolsPckgs/MolKit/__init__.py\", line 21, in Read\n",
      "    raise AssertionError , \"%s does't exist\" %filename\n",
      "AssertionError: 232.mol2 does't exist\n"
     ]
    },
    {
     "name": "stdout",
     "output_type": "stream",
     "text": [
      "Convertido: 121.mol2 a 121.pdbqt\n",
      "Convertido: 4.mol2 a 4.pdbqt\n",
      "Convertido: 232.mol2 a 232.pdbqt\n"
     ]
    },
    {
     "name": "stderr",
     "output_type": "stream",
     "text": [
      "Traceback (most recent call last):\n",
      "  File \"/home/nfernandez/unit/mgltools_x86_64Linux2_1.5.7/MGLToolsPckgs/AutoDockTools/Utilities24/prepare_ligand4.py\", line 185, in <module>\n",
      "    mols = Read(ligand_filename)\n",
      "  File \"/home/nfernandez/unit/mgltools_x86_64Linux2_1.5.7/MGLToolsPckgs/MolKit/__init__.py\", line 21, in Read\n",
      "    raise AssertionError , \"%s does't exist\" %filename\n",
      "AssertionError: 196.mol2 does't exist\n",
      "Traceback (most recent call last):\n",
      "  File \"/home/nfernandez/unit/mgltools_x86_64Linux2_1.5.7/MGLToolsPckgs/AutoDockTools/Utilities24/prepare_ligand4.py\", line 185, in <module>\n",
      "    mols = Read(ligand_filename)\n",
      "  File \"/home/nfernandez/unit/mgltools_x86_64Linux2_1.5.7/MGLToolsPckgs/MolKit/__init__.py\", line 21, in Read\n",
      "    raise AssertionError , \"%s does't exist\" %filename\n",
      "AssertionError: 219.mol2 does't exist\n",
      "Traceback (most recent call last):\n",
      "  File \"/home/nfernandez/unit/mgltools_x86_64Linux2_1.5.7/MGLToolsPckgs/AutoDockTools/Utilities24/prepare_ligand4.py\", line 185, in <module>\n",
      "    mols = Read(ligand_filename)\n",
      "  File \"/home/nfernandez/unit/mgltools_x86_64Linux2_1.5.7/MGLToolsPckgs/MolKit/__init__.py\", line 21, in Read\n",
      "    raise AssertionError , \"%s does't exist\" %filename\n",
      "AssertionError: 129.mol2 does't exist\n"
     ]
    },
    {
     "name": "stdout",
     "output_type": "stream",
     "text": [
      "Convertido: 196.mol2 a 196.pdbqt\n",
      "Convertido: 219.mol2 a 219.pdbqt\n",
      "Convertido: 129.mol2 a 129.pdbqt\n"
     ]
    },
    {
     "name": "stderr",
     "output_type": "stream",
     "text": [
      "Traceback (most recent call last):\n",
      "  File \"/home/nfernandez/unit/mgltools_x86_64Linux2_1.5.7/MGLToolsPckgs/AutoDockTools/Utilities24/prepare_ligand4.py\", line 185, in <module>\n",
      "    mols = Read(ligand_filename)\n",
      "  File \"/home/nfernandez/unit/mgltools_x86_64Linux2_1.5.7/MGLToolsPckgs/MolKit/__init__.py\", line 21, in Read\n",
      "    raise AssertionError , \"%s does't exist\" %filename\n",
      "AssertionError: 8.mol2 does't exist\n",
      "Traceback (most recent call last):\n",
      "  File \"/home/nfernandez/unit/mgltools_x86_64Linux2_1.5.7/MGLToolsPckgs/AutoDockTools/Utilities24/prepare_ligand4.py\", line 185, in <module>\n",
      "    mols = Read(ligand_filename)\n",
      "  File \"/home/nfernandez/unit/mgltools_x86_64Linux2_1.5.7/MGLToolsPckgs/MolKit/__init__.py\", line 21, in Read\n",
      "    raise AssertionError , \"%s does't exist\" %filename\n",
      "AssertionError: 86.mol2 does't exist\n",
      "Traceback (most recent call last):\n",
      "  File \"/home/nfernandez/unit/mgltools_x86_64Linux2_1.5.7/MGLToolsPckgs/AutoDockTools/Utilities24/prepare_ligand4.py\", line 185, in <module>\n",
      "    mols = Read(ligand_filename)\n",
      "  File \"/home/nfernandez/unit/mgltools_x86_64Linux2_1.5.7/MGLToolsPckgs/MolKit/__init__.py\", line 21, in Read\n",
      "    raise AssertionError , \"%s does't exist\" %filename\n",
      "AssertionError: 11.mol2 does't exist\n"
     ]
    },
    {
     "name": "stdout",
     "output_type": "stream",
     "text": [
      "Convertido: 8.mol2 a 8.pdbqt\n",
      "Convertido: 86.mol2 a 86.pdbqt\n",
      "Convertido: 11.mol2 a 11.pdbqt\n"
     ]
    },
    {
     "name": "stderr",
     "output_type": "stream",
     "text": [
      "Traceback (most recent call last):\n",
      "  File \"/home/nfernandez/unit/mgltools_x86_64Linux2_1.5.7/MGLToolsPckgs/AutoDockTools/Utilities24/prepare_ligand4.py\", line 185, in <module>\n",
      "    mols = Read(ligand_filename)\n",
      "  File \"/home/nfernandez/unit/mgltools_x86_64Linux2_1.5.7/MGLToolsPckgs/MolKit/__init__.py\", line 21, in Read\n",
      "    raise AssertionError , \"%s does't exist\" %filename\n",
      "AssertionError: 97.mol2 does't exist\n",
      "Traceback (most recent call last):\n",
      "  File \"/home/nfernandez/unit/mgltools_x86_64Linux2_1.5.7/MGLToolsPckgs/AutoDockTools/Utilities24/prepare_ligand4.py\", line 185, in <module>\n",
      "    mols = Read(ligand_filename)\n",
      "  File \"/home/nfernandez/unit/mgltools_x86_64Linux2_1.5.7/MGLToolsPckgs/MolKit/__init__.py\", line 21, in Read\n",
      "    raise AssertionError , \"%s does't exist\" %filename\n",
      "AssertionError: 149.mol2 does't exist\n",
      "Traceback (most recent call last):\n",
      "  File \"/home/nfernandez/unit/mgltools_x86_64Linux2_1.5.7/MGLToolsPckgs/AutoDockTools/Utilities24/prepare_ligand4.py\", line 185, in <module>\n",
      "    mols = Read(ligand_filename)\n",
      "  File \"/home/nfernandez/unit/mgltools_x86_64Linux2_1.5.7/MGLToolsPckgs/MolKit/__init__.py\", line 21, in Read\n",
      "    raise AssertionError , \"%s does't exist\" %filename\n",
      "AssertionError: 7.mol2 does't exist\n"
     ]
    },
    {
     "name": "stdout",
     "output_type": "stream",
     "text": [
      "Convertido: 97.mol2 a 97.pdbqt\n",
      "Convertido: 149.mol2 a 149.pdbqt\n",
      "Convertido: 7.mol2 a 7.pdbqt\n"
     ]
    },
    {
     "name": "stderr",
     "output_type": "stream",
     "text": [
      "Traceback (most recent call last):\n",
      "  File \"/home/nfernandez/unit/mgltools_x86_64Linux2_1.5.7/MGLToolsPckgs/AutoDockTools/Utilities24/prepare_ligand4.py\", line 185, in <module>\n",
      "    mols = Read(ligand_filename)\n",
      "  File \"/home/nfernandez/unit/mgltools_x86_64Linux2_1.5.7/MGLToolsPckgs/MolKit/__init__.py\", line 21, in Read\n",
      "    raise AssertionError , \"%s does't exist\" %filename\n",
      "AssertionError: 18.mol2 does't exist\n",
      "Traceback (most recent call last):\n",
      "  File \"/home/nfernandez/unit/mgltools_x86_64Linux2_1.5.7/MGLToolsPckgs/AutoDockTools/Utilities24/prepare_ligand4.py\", line 185, in <module>\n",
      "    mols = Read(ligand_filename)\n",
      "  File \"/home/nfernandez/unit/mgltools_x86_64Linux2_1.5.7/MGLToolsPckgs/MolKit/__init__.py\", line 21, in Read\n",
      "    raise AssertionError , \"%s does't exist\" %filename\n",
      "AssertionError: 217.mol2 does't exist\n",
      "Traceback (most recent call last):\n",
      "  File \"/home/nfernandez/unit/mgltools_x86_64Linux2_1.5.7/MGLToolsPckgs/AutoDockTools/Utilities24/prepare_ligand4.py\", line 185, in <module>\n",
      "    mols = Read(ligand_filename)\n",
      "  File \"/home/nfernandez/unit/mgltools_x86_64Linux2_1.5.7/MGLToolsPckgs/MolKit/__init__.py\", line 21, in Read\n",
      "    raise AssertionError , \"%s does't exist\" %filename\n",
      "AssertionError: 33.mol2 does't exist\n"
     ]
    },
    {
     "name": "stdout",
     "output_type": "stream",
     "text": [
      "Convertido: 18.mol2 a 18.pdbqt\n",
      "Convertido: 217.mol2 a 217.pdbqt\n",
      "Convertido: 33.mol2 a 33.pdbqt\n"
     ]
    },
    {
     "name": "stderr",
     "output_type": "stream",
     "text": [
      "Traceback (most recent call last):\n",
      "  File \"/home/nfernandez/unit/mgltools_x86_64Linux2_1.5.7/MGLToolsPckgs/AutoDockTools/Utilities24/prepare_ligand4.py\", line 185, in <module>\n",
      "    mols = Read(ligand_filename)\n",
      "  File \"/home/nfernandez/unit/mgltools_x86_64Linux2_1.5.7/MGLToolsPckgs/MolKit/__init__.py\", line 21, in Read\n",
      "    raise AssertionError , \"%s does't exist\" %filename\n",
      "AssertionError: 225.mol2 does't exist\n",
      "Traceback (most recent call last):\n",
      "  File \"/home/nfernandez/unit/mgltools_x86_64Linux2_1.5.7/MGLToolsPckgs/AutoDockTools/Utilities24/prepare_ligand4.py\", line 185, in <module>\n",
      "    mols = Read(ligand_filename)\n",
      "  File \"/home/nfernandez/unit/mgltools_x86_64Linux2_1.5.7/MGLToolsPckgs/MolKit/__init__.py\", line 21, in Read\n",
      "    raise AssertionError , \"%s does't exist\" %filename\n",
      "AssertionError: 103.mol2 does't exist\n",
      "Traceback (most recent call last):\n",
      "  File \"/home/nfernandez/unit/mgltools_x86_64Linux2_1.5.7/MGLToolsPckgs/AutoDockTools/Utilities24/prepare_ligand4.py\", line 185, in <module>\n",
      "    mols = Read(ligand_filename)\n",
      "  File \"/home/nfernandez/unit/mgltools_x86_64Linux2_1.5.7/MGLToolsPckgs/MolKit/__init__.py\", line 21, in Read\n",
      "    raise AssertionError , \"%s does't exist\" %filename\n",
      "AssertionError: 93.mol2 does't exist\n"
     ]
    },
    {
     "name": "stdout",
     "output_type": "stream",
     "text": [
      "Convertido: 225.mol2 a 225.pdbqt\n",
      "Convertido: 103.mol2 a 103.pdbqt\n",
      "Convertido: 93.mol2 a 93.pdbqt\n"
     ]
    },
    {
     "name": "stderr",
     "output_type": "stream",
     "text": [
      "Traceback (most recent call last):\n",
      "  File \"/home/nfernandez/unit/mgltools_x86_64Linux2_1.5.7/MGLToolsPckgs/AutoDockTools/Utilities24/prepare_ligand4.py\", line 185, in <module>\n",
      "    mols = Read(ligand_filename)\n",
      "  File \"/home/nfernandez/unit/mgltools_x86_64Linux2_1.5.7/MGLToolsPckgs/MolKit/__init__.py\", line 21, in Read\n",
      "    raise AssertionError , \"%s does't exist\" %filename\n",
      "AssertionError: 200.mol2 does't exist\n",
      "Traceback (most recent call last):\n",
      "  File \"/home/nfernandez/unit/mgltools_x86_64Linux2_1.5.7/MGLToolsPckgs/AutoDockTools/Utilities24/prepare_ligand4.py\", line 185, in <module>\n",
      "    mols = Read(ligand_filename)\n",
      "  File \"/home/nfernandez/unit/mgltools_x86_64Linux2_1.5.7/MGLToolsPckgs/MolKit/__init__.py\", line 21, in Read\n",
      "    raise AssertionError , \"%s does't exist\" %filename\n",
      "AssertionError: 1.mol2 does't exist\n",
      "Traceback (most recent call last):\n",
      "  File \"/home/nfernandez/unit/mgltools_x86_64Linux2_1.5.7/MGLToolsPckgs/AutoDockTools/Utilities24/prepare_ligand4.py\", line 185, in <module>\n",
      "    mols = Read(ligand_filename)\n",
      "  File \"/home/nfernandez/unit/mgltools_x86_64Linux2_1.5.7/MGLToolsPckgs/MolKit/__init__.py\", line 21, in Read\n",
      "    raise AssertionError , \"%s does't exist\" %filename\n",
      "AssertionError: 169.mol2 does't exist\n"
     ]
    },
    {
     "name": "stdout",
     "output_type": "stream",
     "text": [
      "Convertido: 200.mol2 a 200.pdbqt\n",
      "Convertido: 1.mol2 a 1.pdbqt\n",
      "Convertido: 169.mol2 a 169.pdbqt\n"
     ]
    },
    {
     "name": "stderr",
     "output_type": "stream",
     "text": [
      "Traceback (most recent call last):\n",
      "  File \"/home/nfernandez/unit/mgltools_x86_64Linux2_1.5.7/MGLToolsPckgs/AutoDockTools/Utilities24/prepare_ligand4.py\", line 185, in <module>\n",
      "    mols = Read(ligand_filename)\n",
      "  File \"/home/nfernandez/unit/mgltools_x86_64Linux2_1.5.7/MGLToolsPckgs/MolKit/__init__.py\", line 21, in Read\n",
      "    raise AssertionError , \"%s does't exist\" %filename\n",
      "AssertionError: 234.mol2 does't exist\n",
      "Traceback (most recent call last):\n",
      "  File \"/home/nfernandez/unit/mgltools_x86_64Linux2_1.5.7/MGLToolsPckgs/AutoDockTools/Utilities24/prepare_ligand4.py\", line 185, in <module>\n",
      "    mols = Read(ligand_filename)\n",
      "  File \"/home/nfernandez/unit/mgltools_x86_64Linux2_1.5.7/MGLToolsPckgs/MolKit/__init__.py\", line 21, in Read\n",
      "    raise AssertionError , \"%s does't exist\" %filename\n",
      "AssertionError: 212.mol2 does't exist\n",
      "Traceback (most recent call last):\n",
      "  File \"/home/nfernandez/unit/mgltools_x86_64Linux2_1.5.7/MGLToolsPckgs/AutoDockTools/Utilities24/prepare_ligand4.py\", line 185, in <module>\n",
      "    mols = Read(ligand_filename)\n",
      "  File \"/home/nfernandez/unit/mgltools_x86_64Linux2_1.5.7/MGLToolsPckgs/MolKit/__init__.py\", line 21, in Read\n",
      "    raise AssertionError , \"%s does't exist\" %filename\n",
      "AssertionError: 214.mol2 does't exist\n"
     ]
    },
    {
     "name": "stdout",
     "output_type": "stream",
     "text": [
      "Convertido: 234.mol2 a 234.pdbqt\n",
      "Convertido: 212.mol2 a 212.pdbqt\n",
      "Convertido: 214.mol2 a 214.pdbqt\n"
     ]
    },
    {
     "name": "stderr",
     "output_type": "stream",
     "text": [
      "Traceback (most recent call last):\n",
      "  File \"/home/nfernandez/unit/mgltools_x86_64Linux2_1.5.7/MGLToolsPckgs/AutoDockTools/Utilities24/prepare_ligand4.py\", line 185, in <module>\n",
      "    mols = Read(ligand_filename)\n",
      "  File \"/home/nfernandez/unit/mgltools_x86_64Linux2_1.5.7/MGLToolsPckgs/MolKit/__init__.py\", line 21, in Read\n",
      "    raise AssertionError , \"%s does't exist\" %filename\n",
      "AssertionError: 172.mol2 does't exist\n",
      "Traceback (most recent call last):\n",
      "  File \"/home/nfernandez/unit/mgltools_x86_64Linux2_1.5.7/MGLToolsPckgs/AutoDockTools/Utilities24/prepare_ligand4.py\", line 185, in <module>\n",
      "    mols = Read(ligand_filename)\n",
      "  File \"/home/nfernandez/unit/mgltools_x86_64Linux2_1.5.7/MGLToolsPckgs/MolKit/__init__.py\", line 21, in Read\n",
      "    raise AssertionError , \"%s does't exist\" %filename\n",
      "AssertionError: 38.mol2 does't exist\n",
      "Traceback (most recent call last):\n",
      "  File \"/home/nfernandez/unit/mgltools_x86_64Linux2_1.5.7/MGLToolsPckgs/AutoDockTools/Utilities24/prepare_ligand4.py\", line 185, in <module>\n",
      "    mols = Read(ligand_filename)\n",
      "  File \"/home/nfernandez/unit/mgltools_x86_64Linux2_1.5.7/MGLToolsPckgs/MolKit/__init__.py\", line 21, in Read\n",
      "    raise AssertionError , \"%s does't exist\" %filename\n",
      "AssertionError: 210.mol2 does't exist\n"
     ]
    },
    {
     "name": "stdout",
     "output_type": "stream",
     "text": [
      "Convertido: 172.mol2 a 172.pdbqt\n",
      "Convertido: 38.mol2 a 38.pdbqt\n",
      "Convertido: 210.mol2 a 210.pdbqt\n"
     ]
    },
    {
     "name": "stderr",
     "output_type": "stream",
     "text": [
      "Traceback (most recent call last):\n",
      "  File \"/home/nfernandez/unit/mgltools_x86_64Linux2_1.5.7/MGLToolsPckgs/AutoDockTools/Utilities24/prepare_ligand4.py\", line 185, in <module>\n",
      "    mols = Read(ligand_filename)\n",
      "  File \"/home/nfernandez/unit/mgltools_x86_64Linux2_1.5.7/MGLToolsPckgs/MolKit/__init__.py\", line 21, in Read\n",
      "    raise AssertionError , \"%s does't exist\" %filename\n",
      "AssertionError: 186.mol2 does't exist\n",
      "Traceback (most recent call last):\n",
      "  File \"/home/nfernandez/unit/mgltools_x86_64Linux2_1.5.7/MGLToolsPckgs/AutoDockTools/Utilities24/prepare_ligand4.py\", line 185, in <module>\n",
      "    mols = Read(ligand_filename)\n",
      "  File \"/home/nfernandez/unit/mgltools_x86_64Linux2_1.5.7/MGLToolsPckgs/MolKit/__init__.py\", line 21, in Read\n",
      "    raise AssertionError , \"%s does't exist\" %filename\n",
      "AssertionError: 92.mol2 does't exist\n",
      "Traceback (most recent call last):\n",
      "  File \"/home/nfernandez/unit/mgltools_x86_64Linux2_1.5.7/MGLToolsPckgs/AutoDockTools/Utilities24/prepare_ligand4.py\", line 185, in <module>\n",
      "    mols = Read(ligand_filename)\n",
      "  File \"/home/nfernandez/unit/mgltools_x86_64Linux2_1.5.7/MGLToolsPckgs/MolKit/__init__.py\", line 21, in Read\n",
      "    raise AssertionError , \"%s does't exist\" %filename\n",
      "AssertionError: 181.mol2 does't exist\n"
     ]
    },
    {
     "name": "stdout",
     "output_type": "stream",
     "text": [
      "Convertido: 186.mol2 a 186.pdbqt\n",
      "Convertido: 92.mol2 a 92.pdbqt\n",
      "Convertido: 181.mol2 a 181.pdbqt\n"
     ]
    },
    {
     "name": "stderr",
     "output_type": "stream",
     "text": [
      "Traceback (most recent call last):\n",
      "  File \"/home/nfernandez/unit/mgltools_x86_64Linux2_1.5.7/MGLToolsPckgs/AutoDockTools/Utilities24/prepare_ligand4.py\", line 185, in <module>\n",
      "    mols = Read(ligand_filename)\n",
      "  File \"/home/nfernandez/unit/mgltools_x86_64Linux2_1.5.7/MGLToolsPckgs/MolKit/__init__.py\", line 21, in Read\n",
      "    raise AssertionError , \"%s does't exist\" %filename\n",
      "AssertionError: 166.mol2 does't exist\n",
      "Traceback (most recent call last):\n",
      "  File \"/home/nfernandez/unit/mgltools_x86_64Linux2_1.5.7/MGLToolsPckgs/AutoDockTools/Utilities24/prepare_ligand4.py\", line 185, in <module>\n",
      "    mols = Read(ligand_filename)\n",
      "  File \"/home/nfernandez/unit/mgltools_x86_64Linux2_1.5.7/MGLToolsPckgs/MolKit/__init__.py\", line 21, in Read\n",
      "    raise AssertionError , \"%s does't exist\" %filename\n",
      "AssertionError: 250.mol2 does't exist\n",
      "Traceback (most recent call last):\n",
      "  File \"/home/nfernandez/unit/mgltools_x86_64Linux2_1.5.7/MGLToolsPckgs/AutoDockTools/Utilities24/prepare_ligand4.py\", line 185, in <module>\n",
      "    mols = Read(ligand_filename)\n",
      "  File \"/home/nfernandez/unit/mgltools_x86_64Linux2_1.5.7/MGLToolsPckgs/MolKit/__init__.py\", line 21, in Read\n",
      "    raise AssertionError , \"%s does't exist\" %filename\n",
      "AssertionError: 66.mol2 does't exist\n"
     ]
    },
    {
     "name": "stdout",
     "output_type": "stream",
     "text": [
      "Convertido: 166.mol2 a 166.pdbqt\n",
      "Convertido: 250.mol2 a 250.pdbqt\n",
      "Convertido: 66.mol2 a 66.pdbqt\n"
     ]
    },
    {
     "name": "stderr",
     "output_type": "stream",
     "text": [
      "Traceback (most recent call last):\n",
      "  File \"/home/nfernandez/unit/mgltools_x86_64Linux2_1.5.7/MGLToolsPckgs/AutoDockTools/Utilities24/prepare_ligand4.py\", line 185, in <module>\n",
      "    mols = Read(ligand_filename)\n",
      "  File \"/home/nfernandez/unit/mgltools_x86_64Linux2_1.5.7/MGLToolsPckgs/MolKit/__init__.py\", line 21, in Read\n",
      "    raise AssertionError , \"%s does't exist\" %filename\n",
      "AssertionError: 51.mol2 does't exist\n",
      "Traceback (most recent call last):\n",
      "  File \"/home/nfernandez/unit/mgltools_x86_64Linux2_1.5.7/MGLToolsPckgs/AutoDockTools/Utilities24/prepare_ligand4.py\", line 185, in <module>\n",
      "    mols = Read(ligand_filename)\n",
      "  File \"/home/nfernandez/unit/mgltools_x86_64Linux2_1.5.7/MGLToolsPckgs/MolKit/__init__.py\", line 21, in Read\n",
      "    raise AssertionError , \"%s does't exist\" %filename\n",
      "AssertionError: 56.mol2 does't exist\n",
      "Traceback (most recent call last):\n",
      "  File \"/home/nfernandez/unit/mgltools_x86_64Linux2_1.5.7/MGLToolsPckgs/AutoDockTools/Utilities24/prepare_ligand4.py\", line 185, in <module>\n",
      "    mols = Read(ligand_filename)\n",
      "  File \"/home/nfernandez/unit/mgltools_x86_64Linux2_1.5.7/MGLToolsPckgs/MolKit/__init__.py\", line 21, in Read\n",
      "    raise AssertionError , \"%s does't exist\" %filename\n",
      "AssertionError: 81.mol2 does't exist\n"
     ]
    },
    {
     "name": "stdout",
     "output_type": "stream",
     "text": [
      "Convertido: 51.mol2 a 51.pdbqt\n",
      "Convertido: 56.mol2 a 56.pdbqt\n",
      "Convertido: 81.mol2 a 81.pdbqt\n"
     ]
    },
    {
     "name": "stderr",
     "output_type": "stream",
     "text": [
      "Traceback (most recent call last):\n",
      "  File \"/home/nfernandez/unit/mgltools_x86_64Linux2_1.5.7/MGLToolsPckgs/AutoDockTools/Utilities24/prepare_ligand4.py\", line 185, in <module>\n",
      "    mols = Read(ligand_filename)\n",
      "  File \"/home/nfernandez/unit/mgltools_x86_64Linux2_1.5.7/MGLToolsPckgs/MolKit/__init__.py\", line 21, in Read\n",
      "    raise AssertionError , \"%s does't exist\" %filename\n",
      "AssertionError: 151.mol2 does't exist\n",
      "Traceback (most recent call last):\n",
      "  File \"/home/nfernandez/unit/mgltools_x86_64Linux2_1.5.7/MGLToolsPckgs/AutoDockTools/Utilities24/prepare_ligand4.py\", line 185, in <module>\n",
      "    mols = Read(ligand_filename)\n",
      "  File \"/home/nfernandez/unit/mgltools_x86_64Linux2_1.5.7/MGLToolsPckgs/MolKit/__init__.py\", line 21, in Read\n",
      "    raise AssertionError , \"%s does't exist\" %filename\n",
      "AssertionError: 176.mol2 does't exist\n",
      "Traceback (most recent call last):\n",
      "  File \"/home/nfernandez/unit/mgltools_x86_64Linux2_1.5.7/MGLToolsPckgs/AutoDockTools/Utilities24/prepare_ligand4.py\", line 185, in <module>\n",
      "    mols = Read(ligand_filename)\n",
      "  File \"/home/nfernandez/unit/mgltools_x86_64Linux2_1.5.7/MGLToolsPckgs/MolKit/__init__.py\", line 21, in Read\n",
      "    raise AssertionError , \"%s does't exist\" %filename\n",
      "AssertionError: 29.mol2 does't exist\n"
     ]
    },
    {
     "name": "stdout",
     "output_type": "stream",
     "text": [
      "Convertido: 151.mol2 a 151.pdbqt\n",
      "Convertido: 176.mol2 a 176.pdbqt\n",
      "Convertido: 29.mol2 a 29.pdbqt\n"
     ]
    },
    {
     "name": "stderr",
     "output_type": "stream",
     "text": [
      "Traceback (most recent call last):\n",
      "  File \"/home/nfernandez/unit/mgltools_x86_64Linux2_1.5.7/MGLToolsPckgs/AutoDockTools/Utilities24/prepare_ligand4.py\", line 185, in <module>\n",
      "    mols = Read(ligand_filename)\n",
      "  File \"/home/nfernandez/unit/mgltools_x86_64Linux2_1.5.7/MGLToolsPckgs/MolKit/__init__.py\", line 21, in Read\n",
      "    raise AssertionError , \"%s does't exist\" %filename\n",
      "AssertionError: 5.mol2 does't exist\n",
      "Traceback (most recent call last):\n",
      "  File \"/home/nfernandez/unit/mgltools_x86_64Linux2_1.5.7/MGLToolsPckgs/AutoDockTools/Utilities24/prepare_ligand4.py\", line 185, in <module>\n",
      "    mols = Read(ligand_filename)\n",
      "  File \"/home/nfernandez/unit/mgltools_x86_64Linux2_1.5.7/MGLToolsPckgs/MolKit/__init__.py\", line 21, in Read\n",
      "    raise AssertionError , \"%s does't exist\" %filename\n",
      "AssertionError: 101.mol2 does't exist\n",
      "Traceback (most recent call last):\n",
      "  File \"/home/nfernandez/unit/mgltools_x86_64Linux2_1.5.7/MGLToolsPckgs/AutoDockTools/Utilities24/prepare_ligand4.py\", line 185, in <module>\n",
      "    mols = Read(ligand_filename)\n",
      "  File \"/home/nfernandez/unit/mgltools_x86_64Linux2_1.5.7/MGLToolsPckgs/MolKit/__init__.py\", line 21, in Read\n",
      "    raise AssertionError , \"%s does't exist\" %filename\n",
      "AssertionError: 229.mol2 does't exist\n"
     ]
    },
    {
     "name": "stdout",
     "output_type": "stream",
     "text": [
      "Convertido: 5.mol2 a 5.pdbqt\n",
      "Convertido: 101.mol2 a 101.pdbqt\n",
      "Convertido: 229.mol2 a 229.pdbqt\n"
     ]
    },
    {
     "name": "stderr",
     "output_type": "stream",
     "text": [
      "Traceback (most recent call last):\n",
      "  File \"/home/nfernandez/unit/mgltools_x86_64Linux2_1.5.7/MGLToolsPckgs/AutoDockTools/Utilities24/prepare_ligand4.py\", line 185, in <module>\n",
      "    mols = Read(ligand_filename)\n",
      "  File \"/home/nfernandez/unit/mgltools_x86_64Linux2_1.5.7/MGLToolsPckgs/MolKit/__init__.py\", line 21, in Read\n",
      "    raise AssertionError , \"%s does't exist\" %filename\n",
      "AssertionError: 36.mol2 does't exist\n",
      "Traceback (most recent call last):\n",
      "  File \"/home/nfernandez/unit/mgltools_x86_64Linux2_1.5.7/MGLToolsPckgs/AutoDockTools/Utilities24/prepare_ligand4.py\", line 185, in <module>\n",
      "    mols = Read(ligand_filename)\n",
      "  File \"/home/nfernandez/unit/mgltools_x86_64Linux2_1.5.7/MGLToolsPckgs/MolKit/__init__.py\", line 21, in Read\n",
      "    raise AssertionError , \"%s does't exist\" %filename\n",
      "AssertionError: 221.mol2 does't exist\n",
      "Traceback (most recent call last):\n",
      "  File \"/home/nfernandez/unit/mgltools_x86_64Linux2_1.5.7/MGLToolsPckgs/AutoDockTools/Utilities24/prepare_ligand4.py\", line 185, in <module>\n",
      "    mols = Read(ligand_filename)\n",
      "  File \"/home/nfernandez/unit/mgltools_x86_64Linux2_1.5.7/MGLToolsPckgs/MolKit/__init__.py\", line 21, in Read\n",
      "    raise AssertionError , \"%s does't exist\" %filename\n",
      "AssertionError: 124.mol2 does't exist\n"
     ]
    },
    {
     "name": "stdout",
     "output_type": "stream",
     "text": [
      "Convertido: 36.mol2 a 36.pdbqt\n",
      "Convertido: 221.mol2 a 221.pdbqt\n",
      "Convertido: 124.mol2 a 124.pdbqt\n"
     ]
    },
    {
     "name": "stderr",
     "output_type": "stream",
     "text": [
      "Traceback (most recent call last):\n",
      "  File \"/home/nfernandez/unit/mgltools_x86_64Linux2_1.5.7/MGLToolsPckgs/AutoDockTools/Utilities24/prepare_ligand4.py\", line 185, in <module>\n",
      "    mols = Read(ligand_filename)\n",
      "  File \"/home/nfernandez/unit/mgltools_x86_64Linux2_1.5.7/MGLToolsPckgs/MolKit/__init__.py\", line 21, in Read\n",
      "    raise AssertionError , \"%s does't exist\" %filename\n",
      "AssertionError: 108.mol2 does't exist\n",
      "Traceback (most recent call last):\n",
      "  File \"/home/nfernandez/unit/mgltools_x86_64Linux2_1.5.7/MGLToolsPckgs/AutoDockTools/Utilities24/prepare_ligand4.py\", line 185, in <module>\n",
      "    mols = Read(ligand_filename)\n",
      "  File \"/home/nfernandez/unit/mgltools_x86_64Linux2_1.5.7/MGLToolsPckgs/MolKit/__init__.py\", line 21, in Read\n",
      "    raise AssertionError , \"%s does't exist\" %filename\n",
      "AssertionError: 82.mol2 does't exist\n",
      "Traceback (most recent call last):\n",
      "  File \"/home/nfernandez/unit/mgltools_x86_64Linux2_1.5.7/MGLToolsPckgs/AutoDockTools/Utilities24/prepare_ligand4.py\", line 185, in <module>\n",
      "    mols = Read(ligand_filename)\n",
      "  File \"/home/nfernandez/unit/mgltools_x86_64Linux2_1.5.7/MGLToolsPckgs/MolKit/__init__.py\", line 21, in Read\n",
      "    raise AssertionError , \"%s does't exist\" %filename\n",
      "AssertionError: 84.mol2 does't exist\n"
     ]
    },
    {
     "name": "stdout",
     "output_type": "stream",
     "text": [
      "Convertido: 108.mol2 a 108.pdbqt\n",
      "Convertido: 82.mol2 a 82.pdbqt\n",
      "Convertido: 84.mol2 a 84.pdbqt\n"
     ]
    },
    {
     "name": "stderr",
     "output_type": "stream",
     "text": [
      "Traceback (most recent call last):\n",
      "  File \"/home/nfernandez/unit/mgltools_x86_64Linux2_1.5.7/MGLToolsPckgs/AutoDockTools/Utilities24/prepare_ligand4.py\", line 185, in <module>\n",
      "    mols = Read(ligand_filename)\n",
      "  File \"/home/nfernandez/unit/mgltools_x86_64Linux2_1.5.7/MGLToolsPckgs/MolKit/__init__.py\", line 21, in Read\n",
      "    raise AssertionError , \"%s does't exist\" %filename\n",
      "AssertionError: 9.mol2 does't exist\n",
      "Traceback (most recent call last):\n",
      "  File \"/home/nfernandez/unit/mgltools_x86_64Linux2_1.5.7/MGLToolsPckgs/AutoDockTools/Utilities24/prepare_ligand4.py\", line 185, in <module>\n",
      "    mols = Read(ligand_filename)\n",
      "  File \"/home/nfernandez/unit/mgltools_x86_64Linux2_1.5.7/MGLToolsPckgs/MolKit/__init__.py\", line 21, in Read\n",
      "    raise AssertionError , \"%s does't exist\" %filename\n",
      "AssertionError: 252.mol2 does't exist\n",
      "Traceback (most recent call last):\n",
      "  File \"/home/nfernandez/unit/mgltools_x86_64Linux2_1.5.7/MGLToolsPckgs/AutoDockTools/Utilities24/prepare_ligand4.py\", line 185, in <module>\n",
      "    mols = Read(ligand_filename)\n",
      "  File \"/home/nfernandez/unit/mgltools_x86_64Linux2_1.5.7/MGLToolsPckgs/MolKit/__init__.py\", line 21, in Read\n",
      "    raise AssertionError , \"%s does't exist\" %filename\n",
      "AssertionError: 15.mol2 does't exist\n"
     ]
    },
    {
     "name": "stdout",
     "output_type": "stream",
     "text": [
      "Convertido: 9.mol2 a 9.pdbqt\n",
      "Convertido: 252.mol2 a 252.pdbqt\n",
      "Convertido: 15.mol2 a 15.pdbqt\n"
     ]
    },
    {
     "name": "stderr",
     "output_type": "stream",
     "text": [
      "Traceback (most recent call last):\n",
      "  File \"/home/nfernandez/unit/mgltools_x86_64Linux2_1.5.7/MGLToolsPckgs/AutoDockTools/Utilities24/prepare_ligand4.py\", line 185, in <module>\n",
      "    mols = Read(ligand_filename)\n",
      "  File \"/home/nfernandez/unit/mgltools_x86_64Linux2_1.5.7/MGLToolsPckgs/MolKit/__init__.py\", line 21, in Read\n",
      "    raise AssertionError , \"%s does't exist\" %filename\n",
      "AssertionError: 231.mol2 does't exist\n",
      "Traceback (most recent call last):\n",
      "  File \"/home/nfernandez/unit/mgltools_x86_64Linux2_1.5.7/MGLToolsPckgs/AutoDockTools/Utilities24/prepare_ligand4.py\", line 185, in <module>\n",
      "    mols = Read(ligand_filename)\n",
      "  File \"/home/nfernandez/unit/mgltools_x86_64Linux2_1.5.7/MGLToolsPckgs/MolKit/__init__.py\", line 21, in Read\n",
      "    raise AssertionError , \"%s does't exist\" %filename\n",
      "AssertionError: 164.mol2 does't exist\n",
      "Traceback (most recent call last):\n",
      "  File \"/home/nfernandez/unit/mgltools_x86_64Linux2_1.5.7/MGLToolsPckgs/AutoDockTools/Utilities24/prepare_ligand4.py\", line 185, in <module>\n",
      "    mols = Read(ligand_filename)\n",
      "  File \"/home/nfernandez/unit/mgltools_x86_64Linux2_1.5.7/MGLToolsPckgs/MolKit/__init__.py\", line 21, in Read\n",
      "    raise AssertionError , \"%s does't exist\" %filename\n",
      "AssertionError: 25.mol2 does't exist\n"
     ]
    },
    {
     "name": "stdout",
     "output_type": "stream",
     "text": [
      "Convertido: 231.mol2 a 231.pdbqt\n",
      "Convertido: 164.mol2 a 164.pdbqt\n",
      "Convertido: 25.mol2 a 25.pdbqt\n"
     ]
    },
    {
     "name": "stderr",
     "output_type": "stream",
     "text": [
      "Traceback (most recent call last):\n",
      "  File \"/home/nfernandez/unit/mgltools_x86_64Linux2_1.5.7/MGLToolsPckgs/AutoDockTools/Utilities24/prepare_ligand4.py\", line 185, in <module>\n",
      "    mols = Read(ligand_filename)\n",
      "  File \"/home/nfernandez/unit/mgltools_x86_64Linux2_1.5.7/MGLToolsPckgs/MolKit/__init__.py\", line 21, in Read\n",
      "    raise AssertionError , \"%s does't exist\" %filename\n",
      "AssertionError: 175.mol2 does't exist\n",
      "Traceback (most recent call last):\n",
      "  File \"/home/nfernandez/unit/mgltools_x86_64Linux2_1.5.7/MGLToolsPckgs/AutoDockTools/Utilities24/prepare_ligand4.py\", line 185, in <module>\n",
      "    mols = Read(ligand_filename)\n",
      "  File \"/home/nfernandez/unit/mgltools_x86_64Linux2_1.5.7/MGLToolsPckgs/MolKit/__init__.py\", line 21, in Read\n",
      "    raise AssertionError , \"%s does't exist\" %filename\n",
      "AssertionError: 202.mol2 does't exist\n",
      "Traceback (most recent call last):\n",
      "  File \"/home/nfernandez/unit/mgltools_x86_64Linux2_1.5.7/MGLToolsPckgs/AutoDockTools/Utilities24/prepare_ligand4.py\", line 185, in <module>\n",
      "    mols = Read(ligand_filename)\n",
      "  File \"/home/nfernandez/unit/mgltools_x86_64Linux2_1.5.7/MGLToolsPckgs/MolKit/__init__.py\", line 21, in Read\n",
      "    raise AssertionError , \"%s does't exist\" %filename\n",
      "AssertionError: 40.mol2 does't exist\n"
     ]
    },
    {
     "name": "stdout",
     "output_type": "stream",
     "text": [
      "Convertido: 175.mol2 a 175.pdbqt\n",
      "Convertido: 202.mol2 a 202.pdbqt\n",
      "Convertido: 40.mol2 a 40.pdbqt\n"
     ]
    },
    {
     "name": "stderr",
     "output_type": "stream",
     "text": [
      "Traceback (most recent call last):\n",
      "  File \"/home/nfernandez/unit/mgltools_x86_64Linux2_1.5.7/MGLToolsPckgs/AutoDockTools/Utilities24/prepare_ligand4.py\", line 185, in <module>\n",
      "    mols = Read(ligand_filename)\n",
      "  File \"/home/nfernandez/unit/mgltools_x86_64Linux2_1.5.7/MGLToolsPckgs/MolKit/__init__.py\", line 21, in Read\n",
      "    raise AssertionError , \"%s does't exist\" %filename\n",
      "AssertionError: 107.mol2 does't exist\n",
      "Traceback (most recent call last):\n",
      "  File \"/home/nfernandez/unit/mgltools_x86_64Linux2_1.5.7/MGLToolsPckgs/AutoDockTools/Utilities24/prepare_ligand4.py\", line 185, in <module>\n",
      "    mols = Read(ligand_filename)\n",
      "  File \"/home/nfernandez/unit/mgltools_x86_64Linux2_1.5.7/MGLToolsPckgs/MolKit/__init__.py\", line 21, in Read\n",
      "    raise AssertionError , \"%s does't exist\" %filename\n",
      "AssertionError: 42.mol2 does't exist\n",
      "Traceback (most recent call last):\n",
      "  File \"/home/nfernandez/unit/mgltools_x86_64Linux2_1.5.7/MGLToolsPckgs/AutoDockTools/Utilities24/prepare_ligand4.py\", line 185, in <module>\n",
      "    mols = Read(ligand_filename)\n",
      "  File \"/home/nfernandez/unit/mgltools_x86_64Linux2_1.5.7/MGLToolsPckgs/MolKit/__init__.py\", line 21, in Read\n",
      "    raise AssertionError , \"%s does't exist\" %filename\n",
      "AssertionError: 179.mol2 does't exist\n"
     ]
    },
    {
     "name": "stdout",
     "output_type": "stream",
     "text": [
      "Convertido: 107.mol2 a 107.pdbqt\n",
      "Convertido: 42.mol2 a 42.pdbqt\n",
      "Convertido: 179.mol2 a 179.pdbqt\n"
     ]
    },
    {
     "name": "stderr",
     "output_type": "stream",
     "text": [
      "Traceback (most recent call last):\n",
      "  File \"/home/nfernandez/unit/mgltools_x86_64Linux2_1.5.7/MGLToolsPckgs/AutoDockTools/Utilities24/prepare_ligand4.py\", line 185, in <module>\n",
      "    mols = Read(ligand_filename)\n",
      "  File \"/home/nfernandez/unit/mgltools_x86_64Linux2_1.5.7/MGLToolsPckgs/MolKit/__init__.py\", line 21, in Read\n",
      "    raise AssertionError , \"%s does't exist\" %filename\n",
      "AssertionError: 59.mol2 does't exist\n",
      "Traceback (most recent call last):\n",
      "  File \"/home/nfernandez/unit/mgltools_x86_64Linux2_1.5.7/MGLToolsPckgs/AutoDockTools/Utilities24/prepare_ligand4.py\", line 185, in <module>\n",
      "    mols = Read(ligand_filename)\n",
      "  File \"/home/nfernandez/unit/mgltools_x86_64Linux2_1.5.7/MGLToolsPckgs/MolKit/__init__.py\", line 21, in Read\n",
      "    raise AssertionError , \"%s does't exist\" %filename\n",
      "AssertionError: 174.mol2 does't exist\n",
      "Traceback (most recent call last):\n",
      "  File \"/home/nfernandez/unit/mgltools_x86_64Linux2_1.5.7/MGLToolsPckgs/AutoDockTools/Utilities24/prepare_ligand4.py\", line 185, in <module>\n",
      "    mols = Read(ligand_filename)\n",
      "  File \"/home/nfernandez/unit/mgltools_x86_64Linux2_1.5.7/MGLToolsPckgs/MolKit/__init__.py\", line 21, in Read\n",
      "    raise AssertionError , \"%s does't exist\" %filename\n",
      "AssertionError: 32.mol2 does't exist\n"
     ]
    },
    {
     "name": "stdout",
     "output_type": "stream",
     "text": [
      "Convertido: 59.mol2 a 59.pdbqt\n",
      "Convertido: 174.mol2 a 174.pdbqt\n",
      "Convertido: 32.mol2 a 32.pdbqt\n"
     ]
    },
    {
     "name": "stderr",
     "output_type": "stream",
     "text": [
      "Traceback (most recent call last):\n",
      "  File \"/home/nfernandez/unit/mgltools_x86_64Linux2_1.5.7/MGLToolsPckgs/AutoDockTools/Utilities24/prepare_ligand4.py\", line 185, in <module>\n",
      "    mols = Read(ligand_filename)\n",
      "  File \"/home/nfernandez/unit/mgltools_x86_64Linux2_1.5.7/MGLToolsPckgs/MolKit/__init__.py\", line 21, in Read\n",
      "    raise AssertionError , \"%s does't exist\" %filename\n",
      "AssertionError: 205.mol2 does't exist\n",
      "Traceback (most recent call last):\n",
      "  File \"/home/nfernandez/unit/mgltools_x86_64Linux2_1.5.7/MGLToolsPckgs/AutoDockTools/Utilities24/prepare_ligand4.py\", line 185, in <module>\n",
      "    mols = Read(ligand_filename)\n",
      "  File \"/home/nfernandez/unit/mgltools_x86_64Linux2_1.5.7/MGLToolsPckgs/MolKit/__init__.py\", line 21, in Read\n",
      "    raise AssertionError , \"%s does't exist\" %filename\n",
      "AssertionError: 133.mol2 does't exist\n",
      "Traceback (most recent call last):\n",
      "  File \"/home/nfernandez/unit/mgltools_x86_64Linux2_1.5.7/MGLToolsPckgs/AutoDockTools/Utilities24/prepare_ligand4.py\", line 185, in <module>\n",
      "    mols = Read(ligand_filename)\n",
      "  File \"/home/nfernandez/unit/mgltools_x86_64Linux2_1.5.7/MGLToolsPckgs/MolKit/__init__.py\", line 21, in Read\n",
      "    raise AssertionError , \"%s does't exist\" %filename\n",
      "AssertionError: 249.mol2 does't exist\n"
     ]
    },
    {
     "name": "stdout",
     "output_type": "stream",
     "text": [
      "Convertido: 205.mol2 a 205.pdbqt\n",
      "Convertido: 133.mol2 a 133.pdbqt\n",
      "Convertido: 249.mol2 a 249.pdbqt\n"
     ]
    },
    {
     "name": "stderr",
     "output_type": "stream",
     "text": [
      "Traceback (most recent call last):\n",
      "  File \"/home/nfernandez/unit/mgltools_x86_64Linux2_1.5.7/MGLToolsPckgs/AutoDockTools/Utilities24/prepare_ligand4.py\", line 185, in <module>\n",
      "    mols = Read(ligand_filename)\n",
      "  File \"/home/nfernandez/unit/mgltools_x86_64Linux2_1.5.7/MGLToolsPckgs/MolKit/__init__.py\", line 21, in Read\n",
      "    raise AssertionError , \"%s does't exist\" %filename\n",
      "AssertionError: 85.mol2 does't exist\n",
      "Traceback (most recent call last):\n",
      "  File \"/home/nfernandez/unit/mgltools_x86_64Linux2_1.5.7/MGLToolsPckgs/AutoDockTools/Utilities24/prepare_ligand4.py\", line 185, in <module>\n",
      "    mols = Read(ligand_filename)\n",
      "  File \"/home/nfernandez/unit/mgltools_x86_64Linux2_1.5.7/MGLToolsPckgs/MolKit/__init__.py\", line 21, in Read\n",
      "    raise AssertionError , \"%s does't exist\" %filename\n",
      "AssertionError: 253.mol2 does't exist\n",
      "Traceback (most recent call last):\n",
      "  File \"/home/nfernandez/unit/mgltools_x86_64Linux2_1.5.7/MGLToolsPckgs/AutoDockTools/Utilities24/prepare_ligand4.py\", line 185, in <module>\n",
      "    mols = Read(ligand_filename)\n",
      "  File \"/home/nfernandez/unit/mgltools_x86_64Linux2_1.5.7/MGLToolsPckgs/MolKit/__init__.py\", line 21, in Read\n",
      "    raise AssertionError , \"%s does't exist\" %filename\n",
      "AssertionError: 251.mol2 does't exist\n"
     ]
    },
    {
     "name": "stdout",
     "output_type": "stream",
     "text": [
      "Convertido: 85.mol2 a 85.pdbqt\n",
      "Convertido: 253.mol2 a 253.pdbqt\n",
      "Convertido: 251.mol2 a 251.pdbqt\n"
     ]
    },
    {
     "name": "stderr",
     "output_type": "stream",
     "text": [
      "Traceback (most recent call last):\n",
      "  File \"/home/nfernandez/unit/mgltools_x86_64Linux2_1.5.7/MGLToolsPckgs/AutoDockTools/Utilities24/prepare_ligand4.py\", line 185, in <module>\n",
      "    mols = Read(ligand_filename)\n",
      "  File \"/home/nfernandez/unit/mgltools_x86_64Linux2_1.5.7/MGLToolsPckgs/MolKit/__init__.py\", line 21, in Read\n",
      "    raise AssertionError , \"%s does't exist\" %filename\n",
      "AssertionError: 63.mol2 does't exist\n",
      "Traceback (most recent call last):\n",
      "  File \"/home/nfernandez/unit/mgltools_x86_64Linux2_1.5.7/MGLToolsPckgs/AutoDockTools/Utilities24/prepare_ligand4.py\", line 185, in <module>\n",
      "    mols = Read(ligand_filename)\n",
      "  File \"/home/nfernandez/unit/mgltools_x86_64Linux2_1.5.7/MGLToolsPckgs/MolKit/__init__.py\", line 21, in Read\n",
      "    raise AssertionError , \"%s does't exist\" %filename\n",
      "AssertionError: 100.mol2 does't exist\n",
      "Traceback (most recent call last):\n",
      "  File \"/home/nfernandez/unit/mgltools_x86_64Linux2_1.5.7/MGLToolsPckgs/AutoDockTools/Utilities24/prepare_ligand4.py\", line 185, in <module>\n",
      "    mols = Read(ligand_filename)\n",
      "  File \"/home/nfernandez/unit/mgltools_x86_64Linux2_1.5.7/MGLToolsPckgs/MolKit/__init__.py\", line 21, in Read\n",
      "    raise AssertionError , \"%s does't exist\" %filename\n",
      "AssertionError: 16.mol2 does't exist\n"
     ]
    },
    {
     "name": "stdout",
     "output_type": "stream",
     "text": [
      "Convertido: 63.mol2 a 63.pdbqt\n",
      "Convertido: 100.mol2 a 100.pdbqt\n",
      "Convertido: 16.mol2 a 16.pdbqt\n"
     ]
    },
    {
     "name": "stderr",
     "output_type": "stream",
     "text": [
      "Traceback (most recent call last):\n",
      "  File \"/home/nfernandez/unit/mgltools_x86_64Linux2_1.5.7/MGLToolsPckgs/AutoDockTools/Utilities24/prepare_ligand4.py\", line 185, in <module>\n",
      "    mols = Read(ligand_filename)\n",
      "  File \"/home/nfernandez/unit/mgltools_x86_64Linux2_1.5.7/MGLToolsPckgs/MolKit/__init__.py\", line 21, in Read\n",
      "    raise AssertionError , \"%s does't exist\" %filename\n",
      "AssertionError: 171.mol2 does't exist\n",
      "Traceback (most recent call last):\n",
      "  File \"/home/nfernandez/unit/mgltools_x86_64Linux2_1.5.7/MGLToolsPckgs/AutoDockTools/Utilities24/prepare_ligand4.py\", line 185, in <module>\n",
      "    mols = Read(ligand_filename)\n",
      "  File \"/home/nfernandez/unit/mgltools_x86_64Linux2_1.5.7/MGLToolsPckgs/MolKit/__init__.py\", line 21, in Read\n",
      "    raise AssertionError , \"%s does't exist\" %filename\n",
      "AssertionError: 147.mol2 does't exist\n",
      "Traceback (most recent call last):\n",
      "  File \"/home/nfernandez/unit/mgltools_x86_64Linux2_1.5.7/MGLToolsPckgs/AutoDockTools/Utilities24/prepare_ligand4.py\", line 185, in <module>\n",
      "    mols = Read(ligand_filename)\n",
      "  File \"/home/nfernandez/unit/mgltools_x86_64Linux2_1.5.7/MGLToolsPckgs/MolKit/__init__.py\", line 21, in Read\n",
      "    raise AssertionError , \"%s does't exist\" %filename\n",
      "AssertionError: 222.mol2 does't exist\n"
     ]
    },
    {
     "name": "stdout",
     "output_type": "stream",
     "text": [
      "Convertido: 171.mol2 a 171.pdbqt\n",
      "Convertido: 147.mol2 a 147.pdbqt\n",
      "Convertido: 222.mol2 a 222.pdbqt\n"
     ]
    },
    {
     "name": "stderr",
     "output_type": "stream",
     "text": [
      "Traceback (most recent call last):\n",
      "  File \"/home/nfernandez/unit/mgltools_x86_64Linux2_1.5.7/MGLToolsPckgs/AutoDockTools/Utilities24/prepare_ligand4.py\", line 185, in <module>\n",
      "    mols = Read(ligand_filename)\n",
      "  File \"/home/nfernandez/unit/mgltools_x86_64Linux2_1.5.7/MGLToolsPckgs/MolKit/__init__.py\", line 21, in Read\n",
      "    raise AssertionError , \"%s does't exist\" %filename\n",
      "AssertionError: 28.mol2 does't exist\n",
      "Traceback (most recent call last):\n",
      "  File \"/home/nfernandez/unit/mgltools_x86_64Linux2_1.5.7/MGLToolsPckgs/AutoDockTools/Utilities24/prepare_ligand4.py\", line 185, in <module>\n",
      "    mols = Read(ligand_filename)\n",
      "  File \"/home/nfernandez/unit/mgltools_x86_64Linux2_1.5.7/MGLToolsPckgs/MolKit/__init__.py\", line 21, in Read\n",
      "    raise AssertionError , \"%s does't exist\" %filename\n",
      "AssertionError: 130.mol2 does't exist\n",
      "Traceback (most recent call last):\n",
      "  File \"/home/nfernandez/unit/mgltools_x86_64Linux2_1.5.7/MGLToolsPckgs/AutoDockTools/Utilities24/prepare_ligand4.py\", line 185, in <module>\n",
      "    mols = Read(ligand_filename)\n",
      "  File \"/home/nfernandez/unit/mgltools_x86_64Linux2_1.5.7/MGLToolsPckgs/MolKit/__init__.py\", line 21, in Read\n",
      "    raise AssertionError , \"%s does't exist\" %filename\n",
      "AssertionError: 144.mol2 does't exist\n"
     ]
    },
    {
     "name": "stdout",
     "output_type": "stream",
     "text": [
      "Convertido: 28.mol2 a 28.pdbqt\n",
      "Convertido: 130.mol2 a 130.pdbqt\n",
      "Convertido: 144.mol2 a 144.pdbqt\n"
     ]
    },
    {
     "name": "stderr",
     "output_type": "stream",
     "text": [
      "Traceback (most recent call last):\n",
      "  File \"/home/nfernandez/unit/mgltools_x86_64Linux2_1.5.7/MGLToolsPckgs/AutoDockTools/Utilities24/prepare_ligand4.py\", line 185, in <module>\n",
      "    mols = Read(ligand_filename)\n",
      "  File \"/home/nfernandez/unit/mgltools_x86_64Linux2_1.5.7/MGLToolsPckgs/MolKit/__init__.py\", line 21, in Read\n",
      "    raise AssertionError , \"%s does't exist\" %filename\n",
      "AssertionError: 57.mol2 does't exist\n",
      "Traceback (most recent call last):\n",
      "  File \"/home/nfernandez/unit/mgltools_x86_64Linux2_1.5.7/MGLToolsPckgs/AutoDockTools/Utilities24/prepare_ligand4.py\", line 185, in <module>\n",
      "    mols = Read(ligand_filename)\n",
      "  File \"/home/nfernandez/unit/mgltools_x86_64Linux2_1.5.7/MGLToolsPckgs/MolKit/__init__.py\", line 21, in Read\n",
      "    raise AssertionError , \"%s does't exist\" %filename\n",
      "AssertionError: 99.mol2 does't exist\n",
      "Traceback (most recent call last):\n",
      "  File \"/home/nfernandez/unit/mgltools_x86_64Linux2_1.5.7/MGLToolsPckgs/AutoDockTools/Utilities24/prepare_ligand4.py\", line 185, in <module>\n",
      "    mols = Read(ligand_filename)\n",
      "  File \"/home/nfernandez/unit/mgltools_x86_64Linux2_1.5.7/MGLToolsPckgs/MolKit/__init__.py\", line 21, in Read\n",
      "    raise AssertionError , \"%s does't exist\" %filename\n",
      "AssertionError: 131.mol2 does't exist\n"
     ]
    },
    {
     "name": "stdout",
     "output_type": "stream",
     "text": [
      "Convertido: 57.mol2 a 57.pdbqt\n",
      "Convertido: 99.mol2 a 99.pdbqt\n",
      "Convertido: 131.mol2 a 131.pdbqt\n"
     ]
    },
    {
     "name": "stderr",
     "output_type": "stream",
     "text": [
      "Traceback (most recent call last):\n",
      "  File \"/home/nfernandez/unit/mgltools_x86_64Linux2_1.5.7/MGLToolsPckgs/AutoDockTools/Utilities24/prepare_ligand4.py\", line 185, in <module>\n",
      "    mols = Read(ligand_filename)\n",
      "  File \"/home/nfernandez/unit/mgltools_x86_64Linux2_1.5.7/MGLToolsPckgs/MolKit/__init__.py\", line 21, in Read\n",
      "    raise AssertionError , \"%s does't exist\" %filename\n",
      "AssertionError: 209.mol2 does't exist\n",
      "Traceback (most recent call last):\n",
      "  File \"/home/nfernandez/unit/mgltools_x86_64Linux2_1.5.7/MGLToolsPckgs/AutoDockTools/Utilities24/prepare_ligand4.py\", line 185, in <module>\n",
      "    mols = Read(ligand_filename)\n",
      "  File \"/home/nfernandez/unit/mgltools_x86_64Linux2_1.5.7/MGLToolsPckgs/MolKit/__init__.py\", line 21, in Read\n",
      "    raise AssertionError , \"%s does't exist\" %filename\n",
      "AssertionError: 34.mol2 does't exist\n",
      "Traceback (most recent call last):\n",
      "  File \"/home/nfernandez/unit/mgltools_x86_64Linux2_1.5.7/MGLToolsPckgs/AutoDockTools/Utilities24/prepare_ligand4.py\", line 185, in <module>\n",
      "    mols = Read(ligand_filename)\n",
      "  File \"/home/nfernandez/unit/mgltools_x86_64Linux2_1.5.7/MGLToolsPckgs/MolKit/__init__.py\", line 21, in Read\n",
      "    raise AssertionError , \"%s does't exist\" %filename\n",
      "AssertionError: 95.mol2 does't exist\n"
     ]
    },
    {
     "name": "stdout",
     "output_type": "stream",
     "text": [
      "Convertido: 209.mol2 a 209.pdbqt\n",
      "Convertido: 34.mol2 a 34.pdbqt\n",
      "Convertido: 95.mol2 a 95.pdbqt\n"
     ]
    },
    {
     "name": "stderr",
     "output_type": "stream",
     "text": [
      "Traceback (most recent call last):\n",
      "  File \"/home/nfernandez/unit/mgltools_x86_64Linux2_1.5.7/MGLToolsPckgs/AutoDockTools/Utilities24/prepare_ligand4.py\", line 185, in <module>\n",
      "    mols = Read(ligand_filename)\n",
      "  File \"/home/nfernandez/unit/mgltools_x86_64Linux2_1.5.7/MGLToolsPckgs/MolKit/__init__.py\", line 21, in Read\n",
      "    raise AssertionError , \"%s does't exist\" %filename\n",
      "AssertionError: 138.mol2 does't exist\n",
      "Traceback (most recent call last):\n",
      "  File \"/home/nfernandez/unit/mgltools_x86_64Linux2_1.5.7/MGLToolsPckgs/AutoDockTools/Utilities24/prepare_ligand4.py\", line 185, in <module>\n",
      "    mols = Read(ligand_filename)\n",
      "  File \"/home/nfernandez/unit/mgltools_x86_64Linux2_1.5.7/MGLToolsPckgs/MolKit/__init__.py\", line 21, in Read\n",
      "    raise AssertionError , \"%s does't exist\" %filename\n",
      "AssertionError: 54.mol2 does't exist\n",
      "Traceback (most recent call last):\n",
      "  File \"/home/nfernandez/unit/mgltools_x86_64Linux2_1.5.7/MGLToolsPckgs/AutoDockTools/Utilities24/prepare_ligand4.py\", line 185, in <module>\n",
      "    mols = Read(ligand_filename)\n",
      "  File \"/home/nfernandez/unit/mgltools_x86_64Linux2_1.5.7/MGLToolsPckgs/MolKit/__init__.py\", line 21, in Read\n",
      "    raise AssertionError , \"%s does't exist\" %filename\n",
      "AssertionError: 106.mol2 does't exist\n"
     ]
    },
    {
     "name": "stdout",
     "output_type": "stream",
     "text": [
      "Convertido: 138.mol2 a 138.pdbqt\n",
      "Convertido: 54.mol2 a 54.pdbqt\n",
      "Convertido: 106.mol2 a 106.pdbqt\n"
     ]
    },
    {
     "name": "stderr",
     "output_type": "stream",
     "text": [
      "Traceback (most recent call last):\n",
      "  File \"/home/nfernandez/unit/mgltools_x86_64Linux2_1.5.7/MGLToolsPckgs/AutoDockTools/Utilities24/prepare_ligand4.py\", line 185, in <module>\n",
      "    mols = Read(ligand_filename)\n",
      "  File \"/home/nfernandez/unit/mgltools_x86_64Linux2_1.5.7/MGLToolsPckgs/MolKit/__init__.py\", line 21, in Read\n",
      "    raise AssertionError , \"%s does't exist\" %filename\n",
      "AssertionError: 110.mol2 does't exist\n",
      "Traceback (most recent call last):\n",
      "  File \"/home/nfernandez/unit/mgltools_x86_64Linux2_1.5.7/MGLToolsPckgs/AutoDockTools/Utilities24/prepare_ligand4.py\", line 185, in <module>\n",
      "    mols = Read(ligand_filename)\n",
      "  File \"/home/nfernandez/unit/mgltools_x86_64Linux2_1.5.7/MGLToolsPckgs/MolKit/__init__.py\", line 21, in Read\n",
      "    raise AssertionError , \"%s does't exist\" %filename\n",
      "AssertionError: 139.mol2 does't exist\n",
      "Traceback (most recent call last):\n",
      "  File \"/home/nfernandez/unit/mgltools_x86_64Linux2_1.5.7/MGLToolsPckgs/AutoDockTools/Utilities24/prepare_ligand4.py\", line 185, in <module>\n",
      "    mols = Read(ligand_filename)\n",
      "  File \"/home/nfernandez/unit/mgltools_x86_64Linux2_1.5.7/MGLToolsPckgs/MolKit/__init__.py\", line 21, in Read\n",
      "    raise AssertionError , \"%s does't exist\" %filename\n",
      "AssertionError: 183.mol2 does't exist\n"
     ]
    },
    {
     "name": "stdout",
     "output_type": "stream",
     "text": [
      "Convertido: 110.mol2 a 110.pdbqt\n",
      "Convertido: 139.mol2 a 139.pdbqt\n",
      "Convertido: 183.mol2 a 183.pdbqt\n"
     ]
    },
    {
     "name": "stderr",
     "output_type": "stream",
     "text": [
      "Traceback (most recent call last):\n",
      "  File \"/home/nfernandez/unit/mgltools_x86_64Linux2_1.5.7/MGLToolsPckgs/AutoDockTools/Utilities24/prepare_ligand4.py\", line 185, in <module>\n",
      "    mols = Read(ligand_filename)\n",
      "  File \"/home/nfernandez/unit/mgltools_x86_64Linux2_1.5.7/MGLToolsPckgs/MolKit/__init__.py\", line 21, in Read\n",
      "    raise AssertionError , \"%s does't exist\" %filename\n",
      "AssertionError: 2.mol2 does't exist\n",
      "Traceback (most recent call last):\n",
      "  File \"/home/nfernandez/unit/mgltools_x86_64Linux2_1.5.7/MGLToolsPckgs/AutoDockTools/Utilities24/prepare_ligand4.py\", line 185, in <module>\n",
      "    mols = Read(ligand_filename)\n",
      "  File \"/home/nfernandez/unit/mgltools_x86_64Linux2_1.5.7/MGLToolsPckgs/MolKit/__init__.py\", line 21, in Read\n",
      "    raise AssertionError , \"%s does't exist\" %filename\n",
      "AssertionError: 21.mol2 does't exist\n",
      "Traceback (most recent call last):\n",
      "  File \"/home/nfernandez/unit/mgltools_x86_64Linux2_1.5.7/MGLToolsPckgs/AutoDockTools/Utilities24/prepare_ligand4.py\", line 185, in <module>\n",
      "    mols = Read(ligand_filename)\n",
      "  File \"/home/nfernandez/unit/mgltools_x86_64Linux2_1.5.7/MGLToolsPckgs/MolKit/__init__.py\", line 21, in Read\n",
      "    raise AssertionError , \"%s does't exist\" %filename\n",
      "AssertionError: 168.mol2 does't exist\n"
     ]
    },
    {
     "name": "stdout",
     "output_type": "stream",
     "text": [
      "Convertido: 2.mol2 a 2.pdbqt\n",
      "Convertido: 21.mol2 a 21.pdbqt\n",
      "Convertido: 168.mol2 a 168.pdbqt\n"
     ]
    },
    {
     "name": "stderr",
     "output_type": "stream",
     "text": [
      "Traceback (most recent call last):\n",
      "  File \"/home/nfernandez/unit/mgltools_x86_64Linux2_1.5.7/MGLToolsPckgs/AutoDockTools/Utilities24/prepare_ligand4.py\", line 185, in <module>\n",
      "    mols = Read(ligand_filename)\n",
      "  File \"/home/nfernandez/unit/mgltools_x86_64Linux2_1.5.7/MGLToolsPckgs/MolKit/__init__.py\", line 21, in Read\n",
      "    raise AssertionError , \"%s does't exist\" %filename\n",
      "AssertionError: 199.mol2 does't exist\n",
      "Traceback (most recent call last):\n",
      "  File \"/home/nfernandez/unit/mgltools_x86_64Linux2_1.5.7/MGLToolsPckgs/AutoDockTools/Utilities24/prepare_ligand4.py\", line 185, in <module>\n",
      "    mols = Read(ligand_filename)\n",
      "  File \"/home/nfernandez/unit/mgltools_x86_64Linux2_1.5.7/MGLToolsPckgs/MolKit/__init__.py\", line 21, in Read\n",
      "    raise AssertionError , \"%s does't exist\" %filename\n",
      "AssertionError: 46.mol2 does't exist\n",
      "Traceback (most recent call last):\n",
      "  File \"/home/nfernandez/unit/mgltools_x86_64Linux2_1.5.7/MGLToolsPckgs/AutoDockTools/Utilities24/prepare_ligand4.py\", line 185, in <module>\n",
      "    mols = Read(ligand_filename)\n",
      "  File \"/home/nfernandez/unit/mgltools_x86_64Linux2_1.5.7/MGLToolsPckgs/MolKit/__init__.py\", line 21, in Read\n",
      "    raise AssertionError , \"%s does't exist\" %filename\n",
      "AssertionError: 184.mol2 does't exist\n"
     ]
    },
    {
     "name": "stdout",
     "output_type": "stream",
     "text": [
      "Convertido: 199.mol2 a 199.pdbqt\n",
      "Convertido: 46.mol2 a 46.pdbqt\n",
      "Convertido: 184.mol2 a 184.pdbqt\n"
     ]
    },
    {
     "name": "stderr",
     "output_type": "stream",
     "text": [
      "Traceback (most recent call last):\n",
      "  File \"/home/nfernandez/unit/mgltools_x86_64Linux2_1.5.7/MGLToolsPckgs/AutoDockTools/Utilities24/prepare_ligand4.py\", line 185, in <module>\n",
      "    mols = Read(ligand_filename)\n",
      "  File \"/home/nfernandez/unit/mgltools_x86_64Linux2_1.5.7/MGLToolsPckgs/MolKit/__init__.py\", line 21, in Read\n",
      "    raise AssertionError , \"%s does't exist\" %filename\n",
      "AssertionError: 128.mol2 does't exist\n",
      "Traceback (most recent call last):\n",
      "  File \"/home/nfernandez/unit/mgltools_x86_64Linux2_1.5.7/MGLToolsPckgs/AutoDockTools/Utilities24/prepare_ligand4.py\", line 185, in <module>\n",
      "    mols = Read(ligand_filename)\n",
      "  File \"/home/nfernandez/unit/mgltools_x86_64Linux2_1.5.7/MGLToolsPckgs/MolKit/__init__.py\", line 21, in Read\n",
      "    raise AssertionError , \"%s does't exist\" %filename\n",
      "AssertionError: 23.mol2 does't exist\n",
      "Traceback (most recent call last):\n",
      "  File \"/home/nfernandez/unit/mgltools_x86_64Linux2_1.5.7/MGLToolsPckgs/AutoDockTools/Utilities24/prepare_ligand4.py\", line 185, in <module>\n",
      "    mols = Read(ligand_filename)\n",
      "  File \"/home/nfernandez/unit/mgltools_x86_64Linux2_1.5.7/MGLToolsPckgs/MolKit/__init__.py\", line 21, in Read\n",
      "    raise AssertionError , \"%s does't exist\" %filename\n",
      "AssertionError: 192.mol2 does't exist\n"
     ]
    },
    {
     "name": "stdout",
     "output_type": "stream",
     "text": [
      "Convertido: 128.mol2 a 128.pdbqt\n",
      "Convertido: 23.mol2 a 23.pdbqt\n",
      "Convertido: 192.mol2 a 192.pdbqt\n"
     ]
    },
    {
     "name": "stderr",
     "output_type": "stream",
     "text": [
      "Traceback (most recent call last):\n",
      "  File \"/home/nfernandez/unit/mgltools_x86_64Linux2_1.5.7/MGLToolsPckgs/AutoDockTools/Utilities24/prepare_ligand4.py\", line 185, in <module>\n",
      "    mols = Read(ligand_filename)\n",
      "  File \"/home/nfernandez/unit/mgltools_x86_64Linux2_1.5.7/MGLToolsPckgs/MolKit/__init__.py\", line 21, in Read\n",
      "    raise AssertionError , \"%s does't exist\" %filename\n",
      "AssertionError: 126.mol2 does't exist\n",
      "Traceback (most recent call last):\n",
      "  File \"/home/nfernandez/unit/mgltools_x86_64Linux2_1.5.7/MGLToolsPckgs/AutoDockTools/Utilities24/prepare_ligand4.py\", line 185, in <module>\n",
      "    mols = Read(ligand_filename)\n",
      "  File \"/home/nfernandez/unit/mgltools_x86_64Linux2_1.5.7/MGLToolsPckgs/MolKit/__init__.py\", line 21, in Read\n",
      "    raise AssertionError , \"%s does't exist\" %filename\n",
      "AssertionError: 167.mol2 does't exist\n",
      "Traceback (most recent call last):\n",
      "  File \"/home/nfernandez/unit/mgltools_x86_64Linux2_1.5.7/MGLToolsPckgs/AutoDockTools/Utilities24/prepare_ligand4.py\", line 185, in <module>\n",
      "    mols = Read(ligand_filename)\n",
      "  File \"/home/nfernandez/unit/mgltools_x86_64Linux2_1.5.7/MGLToolsPckgs/MolKit/__init__.py\", line 21, in Read\n",
      "    raise AssertionError , \"%s does't exist\" %filename\n",
      "AssertionError: 246.mol2 does't exist\n"
     ]
    },
    {
     "name": "stdout",
     "output_type": "stream",
     "text": [
      "Convertido: 126.mol2 a 126.pdbqt\n",
      "Convertido: 167.mol2 a 167.pdbqt\n",
      "Convertido: 246.mol2 a 246.pdbqt\n"
     ]
    },
    {
     "name": "stderr",
     "output_type": "stream",
     "text": [
      "Traceback (most recent call last):\n",
      "  File \"/home/nfernandez/unit/mgltools_x86_64Linux2_1.5.7/MGLToolsPckgs/AutoDockTools/Utilities24/prepare_ligand4.py\", line 185, in <module>\n",
      "    mols = Read(ligand_filename)\n",
      "  File \"/home/nfernandez/unit/mgltools_x86_64Linux2_1.5.7/MGLToolsPckgs/MolKit/__init__.py\", line 21, in Read\n",
      "    raise AssertionError , \"%s does't exist\" %filename\n",
      "AssertionError: 158.mol2 does't exist\n",
      "Traceback (most recent call last):\n",
      "  File \"/home/nfernandez/unit/mgltools_x86_64Linux2_1.5.7/MGLToolsPckgs/AutoDockTools/Utilities24/prepare_ligand4.py\", line 185, in <module>\n",
      "    mols = Read(ligand_filename)\n",
      "  File \"/home/nfernandez/unit/mgltools_x86_64Linux2_1.5.7/MGLToolsPckgs/MolKit/__init__.py\", line 21, in Read\n",
      "    raise AssertionError , \"%s does't exist\" %filename\n",
      "AssertionError: 96.mol2 does't exist\n",
      "Traceback (most recent call last):\n",
      "  File \"/home/nfernandez/unit/mgltools_x86_64Linux2_1.5.7/MGLToolsPckgs/AutoDockTools/Utilities24/prepare_ligand4.py\", line 185, in <module>\n",
      "    mols = Read(ligand_filename)\n",
      "  File \"/home/nfernandez/unit/mgltools_x86_64Linux2_1.5.7/MGLToolsPckgs/MolKit/__init__.py\", line 21, in Read\n",
      "    raise AssertionError , \"%s does't exist\" %filename\n",
      "AssertionError: 248.mol2 does't exist\n"
     ]
    },
    {
     "name": "stdout",
     "output_type": "stream",
     "text": [
      "Convertido: 158.mol2 a 158.pdbqt\n",
      "Convertido: 96.mol2 a 96.pdbqt\n",
      "Convertido: 248.mol2 a 248.pdbqt\n"
     ]
    },
    {
     "name": "stderr",
     "output_type": "stream",
     "text": [
      "Traceback (most recent call last):\n",
      "  File \"/home/nfernandez/unit/mgltools_x86_64Linux2_1.5.7/MGLToolsPckgs/AutoDockTools/Utilities24/prepare_ligand4.py\", line 185, in <module>\n",
      "    mols = Read(ligand_filename)\n",
      "  File \"/home/nfernandez/unit/mgltools_x86_64Linux2_1.5.7/MGLToolsPckgs/MolKit/__init__.py\", line 21, in Read\n",
      "    raise AssertionError , \"%s does't exist\" %filename\n",
      "AssertionError: 52.mol2 does't exist\n",
      "Traceback (most recent call last):\n",
      "  File \"/home/nfernandez/unit/mgltools_x86_64Linux2_1.5.7/MGLToolsPckgs/AutoDockTools/Utilities24/prepare_ligand4.py\", line 185, in <module>\n",
      "    mols = Read(ligand_filename)\n",
      "  File \"/home/nfernandez/unit/mgltools_x86_64Linux2_1.5.7/MGLToolsPckgs/MolKit/__init__.py\", line 21, in Read\n",
      "    raise AssertionError , \"%s does't exist\" %filename\n",
      "AssertionError: 236.mol2 does't exist\n",
      "Traceback (most recent call last):\n",
      "  File \"/home/nfernandez/unit/mgltools_x86_64Linux2_1.5.7/MGLToolsPckgs/AutoDockTools/Utilities24/prepare_ligand4.py\", line 185, in <module>\n",
      "    mols = Read(ligand_filename)\n",
      "  File \"/home/nfernandez/unit/mgltools_x86_64Linux2_1.5.7/MGLToolsPckgs/MolKit/__init__.py\", line 21, in Read\n",
      "    raise AssertionError , \"%s does't exist\" %filename\n",
      "AssertionError: 189.mol2 does't exist\n"
     ]
    },
    {
     "name": "stdout",
     "output_type": "stream",
     "text": [
      "Convertido: 52.mol2 a 52.pdbqt\n",
      "Convertido: 236.mol2 a 236.pdbqt\n",
      "Convertido: 189.mol2 a 189.pdbqt\n",
      "Convertido: 207.mol2 a 207.pdbqt\n",
      "Convertido: 204.mol2 a 204.pdbqt\n"
     ]
    },
    {
     "name": "stderr",
     "output_type": "stream",
     "text": [
      "Traceback (most recent call last):\n",
      "  File \"/home/nfernandez/unit/mgltools_x86_64Linux2_1.5.7/MGLToolsPckgs/AutoDockTools/Utilities24/prepare_ligand4.py\", line 185, in <module>\n",
      "    mols = Read(ligand_filename)\n",
      "  File \"/home/nfernandez/unit/mgltools_x86_64Linux2_1.5.7/MGLToolsPckgs/MolKit/__init__.py\", line 21, in Read\n",
      "    raise AssertionError , \"%s does't exist\" %filename\n",
      "AssertionError: 207.mol2 does't exist\n",
      "Traceback (most recent call last):\n",
      "  File \"/home/nfernandez/unit/mgltools_x86_64Linux2_1.5.7/MGLToolsPckgs/AutoDockTools/Utilities24/prepare_ligand4.py\", line 185, in <module>\n",
      "    mols = Read(ligand_filename)\n",
      "  File \"/home/nfernandez/unit/mgltools_x86_64Linux2_1.5.7/MGLToolsPckgs/MolKit/__init__.py\", line 21, in Read\n",
      "    raise AssertionError , \"%s does't exist\" %filename\n",
      "AssertionError: 204.mol2 does't exist\n"
     ]
    }
   ],
   "source": [
    "import os\n",
    "import subprocess\n",
    "\n",
    "# Directorio de entrada y salida\n",
    "input_dir = '/home/nfernandez/unit/LigandosMOL'  # Directorio con archivos PDB\n",
    "\n",
    "ligandos_pdbqt_folder = '/home/nfernandez/unit/LigandosPDBQT'\n",
    "if not os.path.exists(ligandos_pdbqt_folder):\n",
    "    os.makedirs(ligandos_pdbqt_folder)\n",
    "\n",
    "output_dir = '/home/nfernandez/unit/LigandosPDBQT/'  # Directorio para guardar archivos PDBQT\n",
    "# Reemplaza con la ruta a tu carpeta de salida para archivos PDBQT\n",
    "\n",
    "# Ruta al script prepare_ligand4.py de AutoDockTools\n",
    "prepare_ligand_script = \"/home/nfernandez/unit/mgltools_x86_64Linux2_1.5.7/MGLToolsPckgs/AutoDockTools/Utilities24/prepare_ligand4.py\"\n",
    "\n",
    "# Iterar sobre cada archivo PDB en la carpeta\n",
    "for archivo in os.listdir(input_dir):\n",
    "    if archivo.endswith(\".mol2\"):\n",
    "        nombre_archivo = os.path.splitext(archivo)[0]\n",
    "        ruta_pdb = os.path.join(input_dir, archivo)\n",
    "        ruta_pdbqt = os.path.join(output_dir, \"{}.pdbqt\".format(nombre_archivo))  # Usando format()\n",
    "\n",
    "        # Comando para convertir el PDB a PDBQT\n",
    "        comando = [\n",
    "            \"pythonsh\", prepare_ligand_script,\n",
    "            \"-l\", ruta_pdb,\n",
    "            \"-o\", ruta_pdbqt\n",
    "        ]\n",
    "\n",
    "        # Ejecutar el comando con subprocess.call en lugar de subprocess.run\n",
    "        subprocess.call(comando)\n",
    "        print(\"Convertido: {} a {}.pdbqt\".format(archivo, nombre_archivo))"
   ]
  },
  {
   "cell_type": "code",
   "execution_count": 48,
   "metadata": {},
   "outputs": [
    {
     "name": "stdout",
     "output_type": "stream",
     "text": [
      "adding gasteiger charges to peptide\n",
      "Convertido: CbuqPBP1_F69A.pdb a CbuqPBP1_F69A.pdbqt\n",
      "adding gasteiger charges to peptide\n",
      "Convertido: CpinGOBP1.pdb a CpinGOBP1.pdbqt\n",
      "adding gasteiger charges to peptide\n",
      "Convertido: CsinGOBP2.pdb a CsinGOBP2.pdbqt\n",
      "adding gasteiger charges to peptide\n",
      "Convertido: CsupGOBP2.pdb a CsupGOBP2.pdbqt\n",
      "adding gasteiger charges to peptide\n",
      "Convertido: SexiPBP3.pdb a SexiPBP3.pdbqt\n",
      "adding gasteiger charges to peptide\n",
      "Convertido: HassPBP2.pdb a HassPBP2.pdbqt\n",
      "adding gasteiger charges to peptide\n",
      "Convertido: CpinPBP3.pdb a CpinPBP3.pdbqt\n",
      "adding gasteiger charges to peptide\n",
      "Convertido: AlepGOBP2_F12A.pdb a AlepGOBP2_F12A.pdbqt\n",
      "adding gasteiger charges to peptide\n",
      "Convertido: OfurPBP2.pdb a OfurPBP2.pdbqt\n",
      "adding gasteiger charges to peptide\n",
      "Convertido: HarmPBP3.pdb a HarmPBP3.pdbqt\n",
      "adding gasteiger charges to peptide\n",
      "Convertido: OfurPBP4.pdb a OfurPBP4.pdbqt\n",
      "adding gasteiger charges to peptide\n",
      "Convertido: CmedPBP4.pdb a CmedPBP4.pdbqt\n",
      "adding gasteiger charges to peptide\n",
      "Convertido: SexiGOBP2.pdb a SexiGOBP2.pdbqt\n",
      "adding gasteiger charges to peptide\n",
      "Convertido: CpinGOBP2.pdb a CpinGOBP2.pdbqt\n",
      "adding gasteiger charges to peptide\n",
      "Convertido: TintPBP1.pdb a TintPBP1.pdbqt\n",
      "adding gasteiger charges to peptide\n",
      "Sorry, there are no Gasteiger parameters available for atom AlepGOBP2_F118A:A:TYR141:O\n",
      "Convertido: AlepGOBP2_F118A.pdb a AlepGOBP2_F118A.pdbqt\n",
      "adding gasteiger charges to peptide\n",
      "Convertido: LstiGOBP1_W43A.pdb a LstiGOBP1_W43A.pdbqt\n",
      "adding gasteiger charges to peptide\n",
      "Convertido: GmolPBP3.pdb a GmolPBP3.pdbqt\n",
      "adding gasteiger charges to peptide\n",
      "Convertido: CpinPBP1.pdb a CpinPBP1.pdbqt\n",
      "adding gasteiger charges to peptide\n",
      "Convertido: SexiPBP2.pdb a SexiPBP2.pdbqt\n",
      "adding gasteiger charges to peptide\n",
      "Convertido: CpunPBP2.pdb a CpunPBP2.pdbqt\n",
      "adding gasteiger charges to peptide\n",
      "Convertido: ScerGOBP2.pdb a ScerGOBP2.pdbqt\n",
      "adding gasteiger charges to peptide\n",
      "Convertido: LbotPBP1.pdb a LbotPBP1.pdbqt\n",
      "adding gasteiger charges to peptide\n",
      "Convertido: CsasGOBP1.pdb a CsasGOBP1.pdbqt\n",
      "adding gasteiger charges to peptide\n",
      "Convertido: LstiGOBP2.pdb a LstiGOBP2.pdbqt\n",
      "adding gasteiger charges to peptide\n",
      "Convertido: GmolPBP1.pdb a GmolPBP1.pdbqt\n",
      "adding gasteiger charges to peptide\n",
      "Convertido: GmelGOBP2.pdb a GmelGOBP2.pdbqt\n",
      "adding gasteiger charges to peptide\n",
      "Convertido: PxylPBP3_F13A.pdb a PxylPBP3_F13A.pdbqt\n",
      "adding gasteiger charges to peptide\n",
      "Convertido: EhipPBP1.pdb a EhipPBP1.pdbqt\n",
      "adding gasteiger charges to peptide\n",
      "Convertido: AlepGOBP1.pdb a AlepGOBP1.pdbqt\n",
      "adding gasteiger charges to peptide\n",
      "Convertido: PxylPBP3_R111A.pdb a PxylPBP3_R111A.pdbqt\n",
      "adding gasteiger charges to peptide\n",
      "Convertido: DkikPBP1.pdb a DkikPBP1.pdbqt\n",
      "adding gasteiger charges to peptide\n",
      "Convertido: CinfPBP2.pdb a CinfPBP2.pdbqt\n",
      "adding gasteiger charges to peptide\n",
      "Convertido: AipsPBP1.pdb a AipsPBP1.pdbqt\n",
      "adding gasteiger charges to peptide\n",
      "Convertido: PxylGOBP1.pdb a PxylGOBP1.pdbqt\n",
      "adding gasteiger charges to peptide\n",
      "Convertido: TintPBP3.pdb a TintPBP3.pdbqt\n",
      "adding gasteiger charges to peptide\n",
      "Convertido: AipsGOBP1.pdb a AipsGOBP1.pdbqt\n",
      "adding gasteiger charges to peptide\n",
      "Convertido: AipsGOBP2.pdb a AipsGOBP2.pdbqt\n",
      "adding gasteiger charges to peptide\n",
      "Convertido: SlitGOBP1.pdb a SlitGOBP1.pdbqt\n",
      "adding gasteiger charges to peptide\n",
      "Convertido: CinfPBP3.pdb a CinfPBP3.pdbqt\n",
      "adding gasteiger charges to peptide\n",
      "Convertido: PxylPBP3_Y37A.pdb a PxylPBP3_Y37A.pdbqt\n",
      "adding gasteiger charges to peptide\n",
      "Convertido: LdisPBP1.pdb a LdisPBP1.pdbqt\n",
      "adding gasteiger charges to peptide\n",
      "Convertido: HcunPBP3.pdb a HcunPBP3.pdbqt\n",
      "adding gasteiger charges to peptide\n",
      "Convertido: CsinGOBP1.pdb a CsinGOBP1.pdbqt\n",
      "adding gasteiger charges to peptide\n",
      "Convertido: AlepPBP2.pdb a AlepPBP2.pdbqt\n",
      "adding gasteiger charges to peptide\n",
      "Convertido: HarmPBP1.pdb a HarmPBP1.pdbqt\n",
      "adding gasteiger charges to peptide\n",
      "Convertido: SexiPBP1.pdb a SexiPBP1.pdbqt\n",
      "adding gasteiger charges to peptide\n",
      "Convertido: SinfPBP1.pdb a SinfPBP1.pdbqt\n",
      "adding gasteiger charges to peptide\n",
      "Convertido: CsupGOBP1.pdb a CsupGOBP1.pdbqt\n",
      "adding gasteiger charges to peptide\n",
      "Convertido: MvitGOBP2.pdb a MvitGOBP2.pdbqt\n",
      "adding gasteiger charges to peptide\n",
      "Convertido: ScerPBP.pdb a ScerPBP.pdbqt\n",
      "adding gasteiger charges to peptide\n",
      "Convertido: EoblGOBP2.pdb a EoblGOBP2.pdbqt\n",
      "adding gasteiger charges to peptide\n",
      "Convertido: CbuqPBP1.pdb a CbuqPBP1.pdbqt\n",
      "adding gasteiger charges to peptide\n",
      "Convertido: CpinPBP2.pdb a CpinPBP2.pdbqt\n",
      "adding gasteiger charges to peptide\n",
      "Convertido: PxylPBP3_W38A.pdb a PxylPBP3_W38A.pdbqt\n",
      "adding gasteiger charges to peptide\n",
      "Sorry, there are no Gasteiger parameters available for atom AlepGOBP2_I94A:A:TYR141:O\n",
      "Convertido: AlepGOBP2_I94A.pdb a AlepGOBP2_I94A.pdbqt\n",
      "adding gasteiger charges to peptide\n",
      "Convertido: DhouPBP2.pdb a DhouPBP2.pdbqt\n",
      "adding gasteiger charges to peptide\n",
      "Convertido: PxylPBP3.pdb a PxylPBP3.pdbqt\n",
      "adding gasteiger charges to peptide\n",
      "Convertido: LstiPBP3.pdb a LstiPBP3.pdbqt\n",
      "adding gasteiger charges to peptide\n",
      "Convertido: CsasPBP3.pdb a CsasPBP3.pdbqt\n",
      "adding gasteiger charges to peptide\n",
      "Convertido: GmolGOBP2.pdb a GmolGOBP2.pdbqt\n",
      "adding gasteiger charges to peptide\n",
      "Convertido: LstiPBP1.pdb a LstiPBP1.pdbqt\n",
      "adding gasteiger charges to peptide\n",
      "Sorry, there are no Gasteiger parameters available for atom AlepGOBP2_I52A:A:TYR141:O\n",
      "Convertido: AlepGOBP2_I52A.pdb a AlepGOBP2_I52A.pdbqt\n",
      "adding gasteiger charges to peptide\n",
      "Convertido: PxylPBP3_F119A.pdb a PxylPBP3_F119A.pdbqt\n",
      "adding gasteiger charges to peptide\n",
      "Convertido: HarmPBP2.pdb a HarmPBP2.pdbqt\n",
      "adding gasteiger charges to peptide\n",
      "Convertido: ScerGOBP1.pdb a ScerGOBP1.pdbqt\n",
      "adding gasteiger charges to peptide\n",
      "Convertido: CsasPBP2.pdb a CsasPBP2.pdbqt\n",
      "adding gasteiger charges to peptide\n",
      "Convertido: SinfPBP3.pdb a SinfPBP3.pdbqt\n",
      "adding gasteiger charges to peptide\n",
      "Convertido: OfurPBP3.pdb a OfurPBP3.pdbqt\n",
      "adding gasteiger charges to peptide\n",
      "Convertido: AlepPBP3.pdb a AlepPBP3.pdbqt\n",
      "adding gasteiger charges to peptide\n",
      "Convertido: LstiGOBP1.pdb a LstiGOBP1.pdbqt\n",
      "adding gasteiger charges to peptide\n",
      "Convertido: AipsPBP2.pdb a AipsPBP2.pdbqt\n",
      "adding gasteiger charges to peptide\n",
      "Convertido: EoblPBP1.pdb a EoblPBP1.pdbqt\n",
      "adding gasteiger charges to peptide\n",
      "Convertido: SlitGOBP2.pdb a SlitGOBP2.pdbqt\n",
      "adding gasteiger charges to peptide\n",
      "Convertido: MvitGOBP1.pdb a MvitGOBP1.pdbqt\n",
      "adding gasteiger charges to peptide\n",
      "Convertido: DhouPBP1.pdb a DhouPBP1.pdbqt\n",
      "adding gasteiger charges to peptide\n",
      "Convertido: SinfPBP2.pdb a SinfPBP2.pdbqt\n",
      "adding gasteiger charges to peptide\n",
      "Convertido: MvitPBP1.pdb a MvitPBP1.pdbqt\n",
      "adding gasteiger charges to peptide\n",
      "Convertido: LdisPBP2.pdb a LdisPBP2.pdbqt\n",
      "adding gasteiger charges to peptide\n",
      "Convertido: HcunPBP2.pdb a HcunPBP2.pdbqt\n",
      "adding gasteiger charges to peptide\n",
      "Convertido: CsasPBP1.pdb a CsasPBP1.pdbqt\n",
      "adding gasteiger charges to peptide\n",
      "Convertido: CpinPBP4.pdb a CpinPBP4.pdbqt\n",
      "adding gasteiger charges to peptide\n",
      "Convertido: HassPBP1.pdb a HassPBP1.pdbqt\n",
      "adding gasteiger charges to peptide\n",
      "Convertido: CpunPBP5.pdb a CpunPBP5.pdbqt\n",
      "adding gasteiger charges to peptide\n",
      "Sorry, there are no Gasteiger parameters available for atom AlepGOBP2:A:TYR141:O\n",
      "Convertido: AlepGOBP2.pdb a AlepGOBP2.pdbqt\n",
      "adding gasteiger charges to peptide\n",
      "Convertido: CsasGOBP2.pdb a CsasGOBP2.pdbqt\n",
      "adding gasteiger charges to peptide\n",
      "Convertido: GmolGOBP1.pdb a GmolGOBP1.pdbqt\n",
      "adding gasteiger charges to peptide\n",
      "Convertido: OachPBP2.pdb a OachPBP2.pdbqt\n",
      "adding gasteiger charges to peptide\n",
      "Convertido: CinfGOBP1.pdb a CinfGOBP1.pdbqt\n",
      "adding gasteiger charges to peptide\n",
      "Convertido: CinfGOBP2.pdb a CinfGOBP2.pdbqt\n",
      "adding gasteiger charges to peptide\n",
      "Convertido: GmolPBP2.pdb a GmolPBP2.pdbqt\n",
      "adding gasteiger charges to peptide\n",
      "Convertido: OfurPBP5.pdb a OfurPBP5.pdbqt\n",
      "adding gasteiger charges to peptide\n",
      "Convertido: PxylGOBP2.pdb a PxylGOBP2.pdbqt\n",
      "adding gasteiger charges to peptide\n",
      "Convertido: CinfPBP1.pdb a CinfPBP1.pdbqt\n",
      "adding gasteiger charges to peptide\n",
      "Convertido: OfurPBP1.pdb a OfurPBP1.pdbqt\n",
      "adding gasteiger charges to peptide\n",
      "Convertido: PxylPBP3_F34A.pdb a PxylPBP3_F34A.pdbqt\n",
      "adding gasteiger charges to peptide\n",
      "Convertido: HcunPBP1.pdb a HcunPBP1.pdbqt\n",
      "adding gasteiger charges to peptide\n",
      "Convertido: EoblPBP2.pdb a EoblPBP2.pdbqt\n",
      "adding gasteiger charges to peptide\n",
      "Convertido: LstiGOBP1_T15A.pdb a LstiGOBP1_T15A.pdbqt\n",
      "adding gasteiger charges to peptide\n",
      "Convertido: AipsPBP3.pdb a AipsPBP3.pdbqt\n",
      "adding gasteiger charges to peptide\n",
      "Convertido: SexiGOBP1.pdb a SexiGOBP1.pdbqt\n",
      "adding gasteiger charges to peptide\n",
      "Convertido: DkikPBP2.pdb a DkikPBP2.pdbqt\n",
      "adding gasteiger charges to peptide\n",
      "Convertido: MvitPBP2.pdb a MvitPBP2.pdbqt\n",
      "adding gasteiger charges to peptide\n",
      "Convertido: TintPBP2.pdb a TintPBP2.pdbqt\n",
      "adding gasteiger charges to peptide\n",
      "Convertido: AlepPBP1.pdb a AlepPBP1.pdbqt\n",
      "adding gasteiger charges to peptide\n",
      "Convertido: CpomPBP2.pdb a CpomPBP2.pdbqt\n",
      "adding gasteiger charges to peptide\n",
      "Convertido: LstiGOBP1_V14A.pdb a LstiGOBP1_V14A.pdbqt\n",
      "adding gasteiger charges to peptide\n",
      "Convertido: SlitPBP1.pdb a SlitPBP1.pdbqt\n",
      "adding gasteiger charges to peptide\n",
      "Convertido: OachPBP1.pdb a OachPBP1.pdbqt\n",
      "adding gasteiger charges to peptide\n",
      "Convertido: HassPBP3.pdb a HassPBP3.pdbqt\n"
     ]
    }
   ],
   "source": [
    "import os\n",
    "import subprocess\n",
    "\n",
    "# Ruta a la carpeta que contiene los archivos PDB de los ligandos\n",
    "carpeta_proteinas = \"/home/nfernandez/unit/ProteinasPDB\"\n",
    "\n",
    "ligandos_pdbqt_folder = '/home/nfernandez/unit/ProteinasPDBQT'\n",
    "if not os.path.exists(ligandos_pdbqt_folder):\n",
    "    os.makedirs(ligandos_pdbqt_folder)\n",
    "\n",
    "# Ruta a la carpeta donde se guardarán los archivos PDBQT\n",
    "carpeta_pdbqt = \"/home/nfernandez/unit/ProteinasPDBQT\"\n",
    "\n",
    "# Ruta al script de MGLTools (modifica esto si es necesario)\n",
    "prepare_protein_script = \"/home/nfernandez/unit/mgltools_x86_64Linux2_1.5.7/MGLToolsPckgs/AutoDockTools/Utilities24/prepare_receptor4.py\"\n",
    "\n",
    "# Iterar sobre cada archivo PDB en la carpeta\n",
    "for archivo in os.listdir(carpeta_proteinas):\n",
    "    if archivo.endswith(\".pdb\"):\n",
    "        nombre_archivo = os.path.splitext(archivo)[0]\n",
    "        ruta_pdb = os.path.join(carpeta_proteinas, archivo)\n",
    "        ruta_pdbqt = os.path.join(carpeta_pdbqt, \"{}.pdbqt\".format(nombre_archivo))  # Usando format()\n",
    "\n",
    "        # Comando para convertir el PDB a PDBQT\n",
    "        comando = [\n",
    "            \"pythonsh\", prepare_protein_script,\n",
    "            \"-r\", ruta_pdb,\n",
    "            \"-o\", ruta_pdbqt\n",
    "        ]\n",
    "\n",
    "        # Ejecutar el comando con subprocess.call en lugar de subprocess.run\n",
    "        subprocess.call(comando)\n",
    "        print(\"Convertido: {} a {}.pdbqt\".format(archivo, nombre_archivo))"
   ]
  },
  {
   "cell_type": "code",
   "execution_count": 49,
   "metadata": {},
   "outputs": [
    {
     "name": "stdout",
     "output_type": "stream",
     "text": [
      "Hay 110 archivos en la carpeta '/home/nfernandez/unit/ProteinasPDBQT'.\n"
     ]
    }
   ],
   "source": [
    "import os\n",
    "\n",
    "pdb_folder = '/home/nfernandez/unit/ProteinasPDBQT'\n",
    "\n",
    "# Contar el número de archivos en la carpeta\n",
    "num_files = len([f for f in os.listdir(pdb_folder) if os.path.isfile(os.path.join(pdb_folder, f))])\n",
    "\n",
    "print(f\"Hay {num_files} archivos en la carpeta '{pdb_folder}'.\")"
   ]
  },
  {
   "cell_type": "code",
   "execution_count": 50,
   "metadata": {},
   "outputs": [
    {
     "name": "stdout",
     "output_type": "stream",
     "text": [
      "Hay 110 valores únicos en la columna 'protein_pdbqt'. y 254 valores unicos en la columna 'ligand_pdbqt'\n"
     ]
    },
    {
     "data": {
      "text/html": [
       "<div>\n",
       "<style scoped>\n",
       "    .dataframe tbody tr th:only-of-type {\n",
       "        vertical-align: middle;\n",
       "    }\n",
       "\n",
       "    .dataframe tbody tr th {\n",
       "        vertical-align: top;\n",
       "    }\n",
       "\n",
       "    .dataframe thead th {\n",
       "        text-align: right;\n",
       "    }\n",
       "</style>\n",
       "<table border=\"1\" class=\"dataframe\">\n",
       "  <thead>\n",
       "    <tr style=\"text-align: right;\">\n",
       "      <th></th>\n",
       "      <th>Compound Name</th>\n",
       "      <th>id</th>\n",
       "      <th>Smiles</th>\n",
       "      <th>Protein</th>\n",
       "      <th>UniProtID</th>\n",
       "      <th>AA Sequence W/O signal peptide</th>\n",
       "      <th>proteina</th>\n",
       "      <th>protein_pdbqt</th>\n",
       "      <th>ligand_pdbqt</th>\n",
       "      <th>Binding_Affinity</th>\n",
       "    </tr>\n",
       "  </thead>\n",
       "  <tbody>\n",
       "    <tr>\n",
       "      <th>0</th>\n",
       "      <td>ionone (beta)</td>\n",
       "      <td>1</td>\n",
       "      <td>CC(=O)/C=C/C1=C(C)CCCC1(C)C</td>\n",
       "      <td>CmedPBP4</td>\n",
       "      <td>M4XYS4</td>\n",
       "      <td>MEVEMLPEGMKQLTGGFIKVFEACKTELGLKDGMLTDMYHLWREEY...</td>\n",
       "      <td>CmedPBP4</td>\n",
       "      <td>/home/nfernandez/unit/ProteinasPDBQT/CmedPBP4....</td>\n",
       "      <td>/home/nfernandez/unit/LigandosPDBQT/1.pdbqt</td>\n",
       "      <td>7.13</td>\n",
       "    </tr>\n",
       "    <tr>\n",
       "      <th>1</th>\n",
       "      <td>ionone (beta)</td>\n",
       "      <td>1</td>\n",
       "      <td>CC(=O)/C=C/C1=C(C)CCCC1(C)C</td>\n",
       "      <td>CpunPBP2</td>\n",
       "      <td>A0A0M4F9J4</td>\n",
       "      <td>MMKDMTKNFLKAYGECQQELHLTDDTARDLMFFWKEDYEVTSREAG...</td>\n",
       "      <td>CpunPBP2</td>\n",
       "      <td>/home/nfernandez/unit/ProteinasPDBQT/CpunPBP2....</td>\n",
       "      <td>/home/nfernandez/unit/LigandosPDBQT/1.pdbqt</td>\n",
       "      <td>10.06</td>\n",
       "    </tr>\n",
       "    <tr>\n",
       "      <th>2</th>\n",
       "      <td>ionone (beta)</td>\n",
       "      <td>1</td>\n",
       "      <td>CC(=O)/C=C/C1=C(C)CCCC1(C)C</td>\n",
       "      <td>CpunPBP5</td>\n",
       "      <td>A0A0M4FIS7</td>\n",
       "      <td>SQEVMKKMSATFFKLLEECKKELSVTDDMIQGLVRFWLEDSALGER...</td>\n",
       "      <td>CpunPBP5</td>\n",
       "      <td>/home/nfernandez/unit/ProteinasPDBQT/CpunPBP5....</td>\n",
       "      <td>/home/nfernandez/unit/LigandosPDBQT/1.pdbqt</td>\n",
       "      <td>9.85</td>\n",
       "    </tr>\n",
       "    <tr>\n",
       "      <th>3</th>\n",
       "      <td>ionone (beta)</td>\n",
       "      <td>1</td>\n",
       "      <td>CC(=O)/C=C/C1=C(C)CCCC1(C)C</td>\n",
       "      <td>CsinGOBP1</td>\n",
       "      <td>A0A0K0MNP5</td>\n",
       "      <td>KVEVMKDVTLGFGEALQHCREQSQLTEEKMEEFFHFWRDDFKFEHR...</td>\n",
       "      <td>CsinGOBP1</td>\n",
       "      <td>/home/nfernandez/unit/ProteinasPDBQT/CsinGOBP1...</td>\n",
       "      <td>/home/nfernandez/unit/LigandosPDBQT/1.pdbqt</td>\n",
       "      <td>12.93</td>\n",
       "    </tr>\n",
       "    <tr>\n",
       "      <th>4</th>\n",
       "      <td>ionone (beta)</td>\n",
       "      <td>1</td>\n",
       "      <td>CC(=O)/C=C/C1=C(C)CCCC1(C)C</td>\n",
       "      <td>CsinGOBP2</td>\n",
       "      <td>A0A0K0MN53</td>\n",
       "      <td>TAEIMSHVTAHFGKLLEECRQESGLTTDILEEFQHFWREDFEVVHR...</td>\n",
       "      <td>CsinGOBP2</td>\n",
       "      <td>/home/nfernandez/unit/ProteinasPDBQT/CsinGOBP2...</td>\n",
       "      <td>/home/nfernandez/unit/LigandosPDBQT/1.pdbqt</td>\n",
       "      <td>30</td>\n",
       "    </tr>\n",
       "    <tr>\n",
       "      <th>...</th>\n",
       "      <td>...</td>\n",
       "      <td>...</td>\n",
       "      <td>...</td>\n",
       "      <td>...</td>\n",
       "      <td>...</td>\n",
       "      <td>...</td>\n",
       "      <td>...</td>\n",
       "      <td>...</td>\n",
       "      <td>...</td>\n",
       "      <td>...</td>\n",
       "    </tr>\n",
       "    <tr>\n",
       "      <th>1454</th>\n",
       "      <td>2-methyl-3-pentanol</td>\n",
       "      <td>252</td>\n",
       "      <td>CCC(O)C(C)C</td>\n",
       "      <td>CsinGOBP1</td>\n",
       "      <td>A0A0K0MNP5</td>\n",
       "      <td>KVEVMKDVTLGFGEALQHCREQSQLTEEKMEEFFHFWRDDFKFEHR...</td>\n",
       "      <td>CsinGOBP1</td>\n",
       "      <td>/home/nfernandez/unit/ProteinasPDBQT/CsinGOBP1...</td>\n",
       "      <td>/home/nfernandez/unit/LigandosPDBQT/252.pdbqt</td>\n",
       "      <td>30</td>\n",
       "    </tr>\n",
       "    <tr>\n",
       "      <th>1455</th>\n",
       "      <td>2-methyl-3-pentanol</td>\n",
       "      <td>252</td>\n",
       "      <td>CCC(O)C(C)C</td>\n",
       "      <td>CsinGOBP2</td>\n",
       "      <td>A0A0K0MN53</td>\n",
       "      <td>TAEIMSHVTAHFGKLLEECRQESGLTTDILEEFQHFWREDFEVVHR...</td>\n",
       "      <td>CsinGOBP2</td>\n",
       "      <td>/home/nfernandez/unit/ProteinasPDBQT/CsinGOBP2...</td>\n",
       "      <td>/home/nfernandez/unit/LigandosPDBQT/252.pdbqt</td>\n",
       "      <td>9.57</td>\n",
       "    </tr>\n",
       "    <tr>\n",
       "      <th>1456</th>\n",
       "      <td>Methyl benzyl ether</td>\n",
       "      <td>253</td>\n",
       "      <td>COCc1ccccc1</td>\n",
       "      <td>CsinGOBP1</td>\n",
       "      <td>A0A0K0MNP5</td>\n",
       "      <td>KVEVMKDVTLGFGEALQHCREQSQLTEEKMEEFFHFWRDDFKFEHR...</td>\n",
       "      <td>CsinGOBP1</td>\n",
       "      <td>/home/nfernandez/unit/ProteinasPDBQT/CsinGOBP1...</td>\n",
       "      <td>/home/nfernandez/unit/LigandosPDBQT/253.pdbqt</td>\n",
       "      <td>24.11</td>\n",
       "    </tr>\n",
       "    <tr>\n",
       "      <th>1457</th>\n",
       "      <td>Methyl benzyl ether</td>\n",
       "      <td>253</td>\n",
       "      <td>COCc1ccccc1</td>\n",
       "      <td>CsinGOBP2</td>\n",
       "      <td>A0A0K0MN53</td>\n",
       "      <td>TAEIMSHVTAHFGKLLEECRQESGLTTDILEEFQHFWREDFEVVHR...</td>\n",
       "      <td>CsinGOBP2</td>\n",
       "      <td>/home/nfernandez/unit/ProteinasPDBQT/CsinGOBP2...</td>\n",
       "      <td>/home/nfernandez/unit/LigandosPDBQT/253.pdbqt</td>\n",
       "      <td>30</td>\n",
       "    </tr>\n",
       "    <tr>\n",
       "      <th>1458</th>\n",
       "      <td>Hexamethyldisiloxane</td>\n",
       "      <td>254</td>\n",
       "      <td>C[Si](C)(C)O[Si](C)(C)C</td>\n",
       "      <td>CbuqPBP1</td>\n",
       "      <td>A0A1B3IIF7</td>\n",
       "      <td>LSESLVDEMKEKLQKYGLECAEKEKASEEDIQALMNHERPVTHAGK...</td>\n",
       "      <td>CbuqPBP1</td>\n",
       "      <td>/home/nfernandez/unit/ProteinasPDBQT/CbuqPBP1....</td>\n",
       "      <td>/home/nfernandez/unit/LigandosPDBQT/254.pdbqt</td>\n",
       "      <td>36.89</td>\n",
       "    </tr>\n",
       "  </tbody>\n",
       "</table>\n",
       "<p>1459 rows × 10 columns</p>\n",
       "</div>"
      ],
      "text/plain": [
       "             Compound Name   id                       Smiles    Protein  \\\n",
       "0            ionone (beta)    1  CC(=O)/C=C/C1=C(C)CCCC1(C)C   CmedPBP4   \n",
       "1            ionone (beta)    1  CC(=O)/C=C/C1=C(C)CCCC1(C)C   CpunPBP2   \n",
       "2            ionone (beta)    1  CC(=O)/C=C/C1=C(C)CCCC1(C)C   CpunPBP5   \n",
       "3            ionone (beta)    1  CC(=O)/C=C/C1=C(C)CCCC1(C)C  CsinGOBP1   \n",
       "4            ionone (beta)    1  CC(=O)/C=C/C1=C(C)CCCC1(C)C  CsinGOBP2   \n",
       "...                    ...  ...                          ...        ...   \n",
       "1454   2-methyl-3-pentanol  252                  CCC(O)C(C)C  CsinGOBP1   \n",
       "1455   2-methyl-3-pentanol  252                  CCC(O)C(C)C  CsinGOBP2   \n",
       "1456   Methyl benzyl ether  253                  COCc1ccccc1  CsinGOBP1   \n",
       "1457   Methyl benzyl ether  253                  COCc1ccccc1  CsinGOBP2   \n",
       "1458  Hexamethyldisiloxane  254      C[Si](C)(C)O[Si](C)(C)C   CbuqPBP1   \n",
       "\n",
       "       UniProtID                     AA Sequence W/O signal peptide  \\\n",
       "0         M4XYS4  MEVEMLPEGMKQLTGGFIKVFEACKTELGLKDGMLTDMYHLWREEY...   \n",
       "1     A0A0M4F9J4  MMKDMTKNFLKAYGECQQELHLTDDTARDLMFFWKEDYEVTSREAG...   \n",
       "2     A0A0M4FIS7  SQEVMKKMSATFFKLLEECKKELSVTDDMIQGLVRFWLEDSALGER...   \n",
       "3     A0A0K0MNP5  KVEVMKDVTLGFGEALQHCREQSQLTEEKMEEFFHFWRDDFKFEHR...   \n",
       "4     A0A0K0MN53  TAEIMSHVTAHFGKLLEECRQESGLTTDILEEFQHFWREDFEVVHR...   \n",
       "...          ...                                                ...   \n",
       "1454  A0A0K0MNP5  KVEVMKDVTLGFGEALQHCREQSQLTEEKMEEFFHFWRDDFKFEHR...   \n",
       "1455  A0A0K0MN53  TAEIMSHVTAHFGKLLEECRQESGLTTDILEEFQHFWREDFEVVHR...   \n",
       "1456  A0A0K0MNP5  KVEVMKDVTLGFGEALQHCREQSQLTEEKMEEFFHFWRDDFKFEHR...   \n",
       "1457  A0A0K0MN53  TAEIMSHVTAHFGKLLEECRQESGLTTDILEEFQHFWREDFEVVHR...   \n",
       "1458  A0A1B3IIF7  LSESLVDEMKEKLQKYGLECAEKEKASEEDIQALMNHERPVTHAGK...   \n",
       "\n",
       "       proteina                                      protein_pdbqt  \\\n",
       "0      CmedPBP4  /home/nfernandez/unit/ProteinasPDBQT/CmedPBP4....   \n",
       "1      CpunPBP2  /home/nfernandez/unit/ProteinasPDBQT/CpunPBP2....   \n",
       "2      CpunPBP5  /home/nfernandez/unit/ProteinasPDBQT/CpunPBP5....   \n",
       "3     CsinGOBP1  /home/nfernandez/unit/ProteinasPDBQT/CsinGOBP1...   \n",
       "4     CsinGOBP2  /home/nfernandez/unit/ProteinasPDBQT/CsinGOBP2...   \n",
       "...         ...                                                ...   \n",
       "1454  CsinGOBP1  /home/nfernandez/unit/ProteinasPDBQT/CsinGOBP1...   \n",
       "1455  CsinGOBP2  /home/nfernandez/unit/ProteinasPDBQT/CsinGOBP2...   \n",
       "1456  CsinGOBP1  /home/nfernandez/unit/ProteinasPDBQT/CsinGOBP1...   \n",
       "1457  CsinGOBP2  /home/nfernandez/unit/ProteinasPDBQT/CsinGOBP2...   \n",
       "1458   CbuqPBP1  /home/nfernandez/unit/ProteinasPDBQT/CbuqPBP1....   \n",
       "\n",
       "                                       ligand_pdbqt Binding_Affinity  \n",
       "0       /home/nfernandez/unit/LigandosPDBQT/1.pdbqt             7.13  \n",
       "1       /home/nfernandez/unit/LigandosPDBQT/1.pdbqt            10.06  \n",
       "2       /home/nfernandez/unit/LigandosPDBQT/1.pdbqt             9.85  \n",
       "3       /home/nfernandez/unit/LigandosPDBQT/1.pdbqt            12.93  \n",
       "4       /home/nfernandez/unit/LigandosPDBQT/1.pdbqt               30  \n",
       "...                                             ...              ...  \n",
       "1454  /home/nfernandez/unit/LigandosPDBQT/252.pdbqt               30  \n",
       "1455  /home/nfernandez/unit/LigandosPDBQT/252.pdbqt             9.57  \n",
       "1456  /home/nfernandez/unit/LigandosPDBQT/253.pdbqt            24.11  \n",
       "1457  /home/nfernandez/unit/LigandosPDBQT/253.pdbqt               30  \n",
       "1458  /home/nfernandez/unit/LigandosPDBQT/254.pdbqt            36.89  \n",
       "\n",
       "[1459 rows x 10 columns]"
      ]
     },
     "execution_count": 50,
     "metadata": {},
     "output_type": "execute_result"
    }
   ],
   "source": [
    "import os\n",
    "import pandas as pd\n",
    "\n",
    "# Directorios donde se encuentran las proteínas y los ligandos\n",
    "protein_folder = '/home/nfernandez/unit/ProteinasPDBQT'\n",
    "ligand_folder = '/home/nfernandez/unit/LigandosPDBQT'\n",
    "\n",
    "# Obtener los nombres de archivos sin extensión para proteínas y ligandos\n",
    "proteins = [os.path.splitext(f)[0] for f in os.listdir(protein_folder) if f.endswith('.pdbqt')]\n",
    "ligands = [os.path.splitext(f)[0] for f in os.listdir(ligand_folder) if f.endswith('.pdbqt')]\n",
    "\n",
    "# Crear un DataFrame a partir de los nombres\n",
    "data = {\n",
    "    'proteina': proteins,\n",
    "    'id': ligands\n",
    "}\n",
    "\n",
    "# Asegúrate de que ambos tienen la misma longitud\n",
    "min_length = min(len(proteins), len(ligands))\n",
    "data = {\n",
    "    'proteina': proteins[:min_length],\n",
    "    'id': ligands[:min_length]\n",
    "}\n",
    "\n",
    "# Crear el DataFrame\n",
    "df = pd.DataFrame(result_df)\n",
    "\n",
    "# Asignar las rutas de los archivos PDBQT\n",
    "df['protein_pdbqt'] = df['proteina'].apply(lambda x: os.path.join(protein_folder, f\"{x}.pdbqt\"))\n",
    "df['ligand_pdbqt'] = df['id'].apply(lambda x: os.path.join(ligand_folder, f\"{x}.pdbqt\"))\n",
    "\n",
    "# Mover la columna 'Binding_Affinity' al final del DataFrame\n",
    "cols = list(df.columns)\n",
    "cols.remove('Binding_Affinity')\n",
    "df = df[cols + ['Binding_Affinity']]\n",
    "\n",
    "# Mostrar el DataFrame con la columna movida\n",
    "\n",
    "# Datos unicos en la columna\n",
    "unique_protein_pdbqt_values = df['protein_pdbqt'].nunique()\n",
    "unique_ligand_pdbqt_values = df['ligand_pdbqt'].nunique()\n",
    "\n",
    "# Imprimir los resultados\n",
    "print(f\"Hay {unique_protein_pdbqt_values} valores únicos en la columna 'protein_pdbqt'. y {unique_ligand_pdbqt_values} valores unicos en la columna 'ligand_pdbqt'\")\n",
    "df"
   ]
  }
 ],
 "metadata": {
  "kernelspec": {
   "display_name": "Python 3 (ipykernel)",
   "language": "python",
   "name": "python3"
  }
 },
 "nbformat": 4,
 "nbformat_minor": 2
}
